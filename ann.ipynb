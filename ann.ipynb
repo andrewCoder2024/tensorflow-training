{
  "nbformat": 4,
  "nbformat_minor": 0,
  "metadata": {
    "colab": {
      "name": "ann.ipynb",
      "provenance": [],
      "authorship_tag": "ABX9TyMyzGlLRVYLs1itWUyaCXA2",
      "include_colab_link": true
    },
    "kernelspec": {
      "name": "python3",
      "display_name": "Python 3"
    },
    "language_info": {
      "name": "python"
    }
  },
  "cells": [
    {
      "cell_type": "markdown",
      "metadata": {
        "id": "view-in-github",
        "colab_type": "text"
      },
      "source": [
        "<a href=\"https://colab.research.google.com/github/andrewCoder2024/tensorflow-training/blob/main/ann.ipynb\" target=\"_parent\"><img src=\"https://colab.research.google.com/assets/colab-badge.svg\" alt=\"Open In Colab\"/></a>"
      ]
    },
    {
      "cell_type": "code",
      "execution_count": null,
      "metadata": {
        "colab": {
          "base_uri": "https://localhost:8080/"
        },
        "id": "6Q_E-7qPAgip",
        "outputId": "0866913c-b0f3-408c-ac5a-d1b56cacc5c9"
      },
      "outputs": [
        {
          "output_type": "stream",
          "name": "stdout",
          "text": [
            "{'items': [{'badge_type': 'named', 'award_count': 1554355, 'rank': 'bronze', 'badge_id': 23, 'link': 'https://stackoverflow.com/badges/23/nice-answer', 'name': 'Nice Answer'}, {'badge_type': 'named', 'award_count': 42131, 'rank': 'bronze', 'badge_id': 144, 'link': 'https://stackoverflow.com/badges/144/mortarboard', 'name': 'Mortarboard'}, {'badge_type': 'named', 'award_count': 753420, 'rank': 'bronze', 'badge_id': 20, 'link': 'https://stackoverflow.com/badges/20/nice-question', 'name': 'Nice Question'}, {'badge_type': 'named', 'award_count': 144391, 'rank': 'bronze', 'badge_id': 5, 'link': 'https://stackoverflow.com/badges/5/organizer', 'name': 'Organizer'}, {'badge_type': 'named', 'award_count': 22308, 'rank': 'bronze', 'badge_id': 219, 'link': 'https://stackoverflow.com/badges/219/investor', 'name': 'Investor'}, {'badge_type': 'named', 'award_count': 2874132, 'rank': 'bronze', 'badge_id': 2600, 'link': 'https://stackoverflow.com/badges/2600/informed', 'name': 'Informed'}, {'badge_type': 'named', 'award_count': 310208, 'rank': 'bronze', 'badge_id': 38, 'link': 'https://stackoverflow.com/badges/38/peer-pressure', 'name': 'Peer Pressure'}, {'badge_type': 'named', 'award_count': 6398879, 'rank': 'bronze', 'badge_id': 26, 'link': 'https://stackoverflow.com/badges/26/popular-question', 'name': 'Popular Question'}, {'badge_type': 'named', 'award_count': 0, 'rank': 'bronze', 'badge_id': 892, 'link': 'https://stackoverflow.com/badges/892/precognitive', 'name': 'Precognitive'}, {'badge_type': 'named', 'award_count': 96025, 'rank': 'bronze', 'badge_id': 220, 'link': 'https://stackoverflow.com/badges/220/promoter', 'name': 'Promoter'}, {'badge_type': 'named', 'award_count': 20320, 'rank': 'bronze', 'badge_id': 1276, 'link': 'https://stackoverflow.com/badges/1276/proofreader', 'name': 'Proofreader'}, {'badge_type': 'named', 'award_count': 29367, 'rank': 'bronze', 'badge_id': 900, 'link': 'https://stackoverflow.com/badges/900/quorum', 'name': 'Quorum'}, {'badge_type': 'named', 'award_count': 74800, 'rank': 'bronze', 'badge_id': 4368, 'link': 'https://stackoverflow.com/badges/4368/explainer', 'name': 'Explainer'}, {'badge_type': 'named', 'award_count': 169762, 'rank': 'bronze', 'badge_id': 1287, 'link': 'https://stackoverflow.com/badges/1287/excavator', 'name': 'Excavator'}, {'badge_type': 'named', 'award_count': 528575, 'rank': 'bronze', 'badge_id': 837, 'link': 'https://stackoverflow.com/badges/837/revival', 'name': 'Revival'}, {'badge_type': 'named', 'award_count': 2340711, 'rank': 'bronze', 'badge_id': 10, 'link': 'https://stackoverflow.com/badges/10/scholar', 'name': 'Scholar'}, {'badge_type': 'named', 'award_count': 189789, 'rank': 'bronze', 'badge_id': 14, 'link': 'https://stackoverflow.com/badges/14/self-learner', 'name': 'Self-Learner'}, {'badge_type': 'named', 'award_count': 3049172, 'rank': 'bronze', 'badge_id': 3, 'link': 'https://stackoverflow.com/badges/3/editor', 'name': 'Editor'}, {'badge_type': 'named', 'award_count': 2895330, 'rank': 'bronze', 'badge_id': 2, 'link': 'https://stackoverflow.com/badges/2/student', 'name': 'Student'}, {'badge_type': 'named', 'award_count': 59097, 'rank': 'bronze', 'badge_id': 804, 'link': 'https://stackoverflow.com/badges/804/suffrage', 'name': 'Suffrage'}, {'badge_type': 'named', 'award_count': 14581, 'rank': 'bronze', 'badge_id': 37, 'link': 'https://stackoverflow.com/badges/37/disciplined', 'name': 'Disciplined'}, {'badge_type': 'named', 'award_count': 1809708, 'rank': 'bronze', 'badge_id': 6, 'link': 'https://stackoverflow.com/badges/6/supporter', 'name': 'Supporter'}, {'badge_type': 'named', 'award_count': 1115774, 'rank': 'bronze', 'badge_id': 2278, 'link': 'https://stackoverflow.com/badges/2278/custodian', 'name': 'Custodian'}, {'badge_type': 'named', 'award_count': 387830, 'rank': 'bronze', 'badge_id': 4127, 'link': 'https://stackoverflow.com/badges/4127/curious', 'name': 'Curious'}, {'badge_type': 'named', 'award_count': 497852, 'rank': 'bronze', 'badge_id': 7, 'link': 'https://stackoverflow.com/badges/7/critic', 'name': 'Critic'}, {'badge_type': 'named', 'award_count': 1178, 'rank': 'bronze', 'badge_id': 1224, 'link': 'https://stackoverflow.com/badges/1224/synonymizer', 'name': 'Synonymizer'}, {'badge_type': 'named', 'award_count': 26091, 'rank': 'bronze', 'badge_id': 254, 'link': 'https://stackoverflow.com/badges/254/tag-editor', 'name': 'Tag Editor'}, {'badge_type': 'named', 'award_count': 11720, 'rank': 'bronze', 'badge_id': 884, 'link': 'https://stackoverflow.com/badges/884/talkative', 'name': 'Talkative'}, {'badge_type': 'named', 'award_count': 1109845, 'rank': 'bronze', 'badge_id': 31, 'link': 'https://stackoverflow.com/badges/31/commentator', 'name': 'Commentator'}, {'badge_type': 'named', 'award_count': 63023, 'rank': 'bronze', 'badge_id': 4, 'link': 'https://stackoverflow.com/badges/4/cleanup', 'name': 'Cleanup'}], 'has_more': True, 'backoff': 10, 'quota_max': 300, 'quota_remaining': 299}\n"
          ]
        }
      ],
      "source": [
        "import requests\n",
        "import json\n",
        "response = requests.get(\"https://api.stackexchange.com/2.3/badges/name?fromdate=1649721600&order=desc&sort=rank&site=stackoverflow\")\n",
        "print(response.json())"
      ]
    },
    {
      "cell_type": "code",
      "source": [
        "import pandas as pd\n",
        "import numpy as np\n",
        "import matplotlib.pyplot as plt\n",
        "import seaborn as sns"
      ],
      "metadata": {
        "id": "Eic3luagPu3Q"
      },
      "execution_count": null,
      "outputs": []
    },
    {
      "cell_type": "code",
      "source": [
        "df = pd.read_csv('california_housing_sklearn.csv')"
      ],
      "metadata": {
        "id": "rh-pP8gXP0nb"
      },
      "execution_count": null,
      "outputs": []
    },
    {
      "cell_type": "code",
      "source": [
        "df.describe().transpose()"
      ],
      "metadata": {
        "colab": {
          "base_uri": "https://localhost:8080/",
          "height": 395
        },
        "id": "zQoqhL_MQPT2",
        "outputId": "5082cb64-d6a3-4789-c013-e95a6d8a96d9"
      },
      "execution_count": null,
      "outputs": [
        {
          "output_type": "execute_result",
          "data": {
            "text/plain": [
              "              count         mean          std         min         25%  \\\n",
              "MedInc      20640.0     3.870671     1.899822    0.499900    2.563400   \n",
              "HouseAge    20640.0    28.639486    12.585558    1.000000   18.000000   \n",
              "AveRooms    20640.0     5.429000     2.474173    0.846154    4.440716   \n",
              "AveBedrms   20640.0     1.096675     0.473911    0.333333    1.006079   \n",
              "Population  20640.0  1425.476744  1132.462122    3.000000  787.000000   \n",
              "AveOccup    20640.0     3.070655    10.386050    0.692308    2.429741   \n",
              "Latitude    20640.0    35.631861     2.135952   32.540000   33.930000   \n",
              "Longitude   20640.0  -119.569704     2.003532 -124.350000 -121.800000   \n",
              "SalePrice   20640.0     2.068558     1.153956    0.149990    1.196000   \n",
              "\n",
              "                    50%          75%           max  \n",
              "MedInc         3.534800     4.743250     15.000100  \n",
              "HouseAge      29.000000    37.000000     52.000000  \n",
              "AveRooms       5.229129     6.052381    141.909091  \n",
              "AveBedrms      1.048780     1.099526     34.066667  \n",
              "Population  1166.000000  1725.000000  35682.000000  \n",
              "AveOccup       2.818116     3.282261   1243.333333  \n",
              "Latitude      34.260000    37.710000     41.950000  \n",
              "Longitude   -118.490000  -118.010000   -114.310000  \n",
              "SalePrice      1.797000     2.647250      5.000010  "
            ],
            "text/html": [
              "\n",
              "  <div id=\"df-7292d214-df1f-4221-b80d-81dad026af2a\">\n",
              "    <div class=\"colab-df-container\">\n",
              "      <div>\n",
              "<style scoped>\n",
              "    .dataframe tbody tr th:only-of-type {\n",
              "        vertical-align: middle;\n",
              "    }\n",
              "\n",
              "    .dataframe tbody tr th {\n",
              "        vertical-align: top;\n",
              "    }\n",
              "\n",
              "    .dataframe thead th {\n",
              "        text-align: right;\n",
              "    }\n",
              "</style>\n",
              "<table border=\"1\" class=\"dataframe\">\n",
              "  <thead>\n",
              "    <tr style=\"text-align: right;\">\n",
              "      <th></th>\n",
              "      <th>count</th>\n",
              "      <th>mean</th>\n",
              "      <th>std</th>\n",
              "      <th>min</th>\n",
              "      <th>25%</th>\n",
              "      <th>50%</th>\n",
              "      <th>75%</th>\n",
              "      <th>max</th>\n",
              "    </tr>\n",
              "  </thead>\n",
              "  <tbody>\n",
              "    <tr>\n",
              "      <th>MedInc</th>\n",
              "      <td>20640.0</td>\n",
              "      <td>3.870671</td>\n",
              "      <td>1.899822</td>\n",
              "      <td>0.499900</td>\n",
              "      <td>2.563400</td>\n",
              "      <td>3.534800</td>\n",
              "      <td>4.743250</td>\n",
              "      <td>15.000100</td>\n",
              "    </tr>\n",
              "    <tr>\n",
              "      <th>HouseAge</th>\n",
              "      <td>20640.0</td>\n",
              "      <td>28.639486</td>\n",
              "      <td>12.585558</td>\n",
              "      <td>1.000000</td>\n",
              "      <td>18.000000</td>\n",
              "      <td>29.000000</td>\n",
              "      <td>37.000000</td>\n",
              "      <td>52.000000</td>\n",
              "    </tr>\n",
              "    <tr>\n",
              "      <th>AveRooms</th>\n",
              "      <td>20640.0</td>\n",
              "      <td>5.429000</td>\n",
              "      <td>2.474173</td>\n",
              "      <td>0.846154</td>\n",
              "      <td>4.440716</td>\n",
              "      <td>5.229129</td>\n",
              "      <td>6.052381</td>\n",
              "      <td>141.909091</td>\n",
              "    </tr>\n",
              "    <tr>\n",
              "      <th>AveBedrms</th>\n",
              "      <td>20640.0</td>\n",
              "      <td>1.096675</td>\n",
              "      <td>0.473911</td>\n",
              "      <td>0.333333</td>\n",
              "      <td>1.006079</td>\n",
              "      <td>1.048780</td>\n",
              "      <td>1.099526</td>\n",
              "      <td>34.066667</td>\n",
              "    </tr>\n",
              "    <tr>\n",
              "      <th>Population</th>\n",
              "      <td>20640.0</td>\n",
              "      <td>1425.476744</td>\n",
              "      <td>1132.462122</td>\n",
              "      <td>3.000000</td>\n",
              "      <td>787.000000</td>\n",
              "      <td>1166.000000</td>\n",
              "      <td>1725.000000</td>\n",
              "      <td>35682.000000</td>\n",
              "    </tr>\n",
              "    <tr>\n",
              "      <th>AveOccup</th>\n",
              "      <td>20640.0</td>\n",
              "      <td>3.070655</td>\n",
              "      <td>10.386050</td>\n",
              "      <td>0.692308</td>\n",
              "      <td>2.429741</td>\n",
              "      <td>2.818116</td>\n",
              "      <td>3.282261</td>\n",
              "      <td>1243.333333</td>\n",
              "    </tr>\n",
              "    <tr>\n",
              "      <th>Latitude</th>\n",
              "      <td>20640.0</td>\n",
              "      <td>35.631861</td>\n",
              "      <td>2.135952</td>\n",
              "      <td>32.540000</td>\n",
              "      <td>33.930000</td>\n",
              "      <td>34.260000</td>\n",
              "      <td>37.710000</td>\n",
              "      <td>41.950000</td>\n",
              "    </tr>\n",
              "    <tr>\n",
              "      <th>Longitude</th>\n",
              "      <td>20640.0</td>\n",
              "      <td>-119.569704</td>\n",
              "      <td>2.003532</td>\n",
              "      <td>-124.350000</td>\n",
              "      <td>-121.800000</td>\n",
              "      <td>-118.490000</td>\n",
              "      <td>-118.010000</td>\n",
              "      <td>-114.310000</td>\n",
              "    </tr>\n",
              "    <tr>\n",
              "      <th>SalePrice</th>\n",
              "      <td>20640.0</td>\n",
              "      <td>2.068558</td>\n",
              "      <td>1.153956</td>\n",
              "      <td>0.149990</td>\n",
              "      <td>1.196000</td>\n",
              "      <td>1.797000</td>\n",
              "      <td>2.647250</td>\n",
              "      <td>5.000010</td>\n",
              "    </tr>\n",
              "  </tbody>\n",
              "</table>\n",
              "</div>\n",
              "      <button class=\"colab-df-convert\" onclick=\"convertToInteractive('df-7292d214-df1f-4221-b80d-81dad026af2a')\"\n",
              "              title=\"Convert this dataframe to an interactive table.\"\n",
              "              style=\"display:none;\">\n",
              "        \n",
              "  <svg xmlns=\"http://www.w3.org/2000/svg\" height=\"24px\"viewBox=\"0 0 24 24\"\n",
              "       width=\"24px\">\n",
              "    <path d=\"M0 0h24v24H0V0z\" fill=\"none\"/>\n",
              "    <path d=\"M18.56 5.44l.94 2.06.94-2.06 2.06-.94-2.06-.94-.94-2.06-.94 2.06-2.06.94zm-11 1L8.5 8.5l.94-2.06 2.06-.94-2.06-.94L8.5 2.5l-.94 2.06-2.06.94zm10 10l.94 2.06.94-2.06 2.06-.94-2.06-.94-.94-2.06-.94 2.06-2.06.94z\"/><path d=\"M17.41 7.96l-1.37-1.37c-.4-.4-.92-.59-1.43-.59-.52 0-1.04.2-1.43.59L10.3 9.45l-7.72 7.72c-.78.78-.78 2.05 0 2.83L4 21.41c.39.39.9.59 1.41.59.51 0 1.02-.2 1.41-.59l7.78-7.78 2.81-2.81c.8-.78.8-2.07 0-2.86zM5.41 20L4 18.59l7.72-7.72 1.47 1.35L5.41 20z\"/>\n",
              "  </svg>\n",
              "      </button>\n",
              "      \n",
              "  <style>\n",
              "    .colab-df-container {\n",
              "      display:flex;\n",
              "      flex-wrap:wrap;\n",
              "      gap: 12px;\n",
              "    }\n",
              "\n",
              "    .colab-df-convert {\n",
              "      background-color: #E8F0FE;\n",
              "      border: none;\n",
              "      border-radius: 50%;\n",
              "      cursor: pointer;\n",
              "      display: none;\n",
              "      fill: #1967D2;\n",
              "      height: 32px;\n",
              "      padding: 0 0 0 0;\n",
              "      width: 32px;\n",
              "    }\n",
              "\n",
              "    .colab-df-convert:hover {\n",
              "      background-color: #E2EBFA;\n",
              "      box-shadow: 0px 1px 2px rgba(60, 64, 67, 0.3), 0px 1px 3px 1px rgba(60, 64, 67, 0.15);\n",
              "      fill: #174EA6;\n",
              "    }\n",
              "\n",
              "    [theme=dark] .colab-df-convert {\n",
              "      background-color: #3B4455;\n",
              "      fill: #D2E3FC;\n",
              "    }\n",
              "\n",
              "    [theme=dark] .colab-df-convert:hover {\n",
              "      background-color: #434B5C;\n",
              "      box-shadow: 0px 1px 3px 1px rgba(0, 0, 0, 0.15);\n",
              "      filter: drop-shadow(0px 1px 2px rgba(0, 0, 0, 0.3));\n",
              "      fill: #FFFFFF;\n",
              "    }\n",
              "  </style>\n",
              "\n",
              "      <script>\n",
              "        const buttonEl =\n",
              "          document.querySelector('#df-7292d214-df1f-4221-b80d-81dad026af2a button.colab-df-convert');\n",
              "        buttonEl.style.display =\n",
              "          google.colab.kernel.accessAllowed ? 'block' : 'none';\n",
              "\n",
              "        async function convertToInteractive(key) {\n",
              "          const element = document.querySelector('#df-7292d214-df1f-4221-b80d-81dad026af2a');\n",
              "          const dataTable =\n",
              "            await google.colab.kernel.invokeFunction('convertToInteractive',\n",
              "                                                     [key], {});\n",
              "          if (!dataTable) return;\n",
              "\n",
              "          const docLinkHtml = 'Like what you see? Visit the ' +\n",
              "            '<a target=\"_blank\" href=https://colab.research.google.com/notebooks/data_table.ipynb>data table notebook</a>'\n",
              "            + ' to learn more about interactive tables.';\n",
              "          element.innerHTML = '';\n",
              "          dataTable['output_type'] = 'display_data';\n",
              "          await google.colab.output.renderOutput(dataTable, element);\n",
              "          const docLink = document.createElement('div');\n",
              "          docLink.innerHTML = docLinkHtml;\n",
              "          element.appendChild(docLink);\n",
              "        }\n",
              "      </script>\n",
              "    </div>\n",
              "  </div>\n",
              "  "
            ]
          },
          "metadata": {},
          "execution_count": 7
        }
      ]
    },
    {
      "cell_type": "code",
      "source": [
        "plt.figure(figsize=(10,6))\n",
        "sns.distplot(df['SalePrice'])"
      ],
      "metadata": {
        "colab": {
          "base_uri": "https://localhost:8080/",
          "height": 471
        },
        "id": "FkmQvl5fQVMS",
        "outputId": "647050f8-b04f-4791-9091-a9936b35fd0c"
      },
      "execution_count": null,
      "outputs": [
        {
          "output_type": "stream",
          "name": "stderr",
          "text": [
            "/usr/local/lib/python3.7/dist-packages/seaborn/distributions.py:2619: FutureWarning: `distplot` is a deprecated function and will be removed in a future version. Please adapt your code to use either `displot` (a figure-level function with similar flexibility) or `histplot` (an axes-level function for histograms).\n",
            "  warnings.warn(msg, FutureWarning)\n"
          ]
        },
        {
          "output_type": "execute_result",
          "data": {
            "text/plain": [
              "<matplotlib.axes._subplots.AxesSubplot at 0x7f214d73a410>"
            ]
          },
          "metadata": {},
          "execution_count": 11
        },
        {
          "output_type": "display_data",
          "data": {
            "text/plain": [
              "<Figure size 720x432 with 1 Axes>"
            ],
            "image/png": "[encoded data removed]"
          },
          "metadata": {
            "needs_background": "light"
          }
        }
      ]
    },
    {
      "cell_type": "code",
      "source": [
        "plt.figure(figsize=(5,3))\n",
        "sns.distplot(df['AveBedrms']"
      ],
      "metadata": {
        "colab": {
          "base_uri": "https://localhost:8080/",
          "height": 297
        },
        "id": "gbayGH6HQtVD",
        "outputId": "2eee04c2-51be-421e-cfb9-a2b513f95b39"
      },
      "execution_count": null,
      "outputs": [
        {
          "output_type": "stream",
          "name": "stderr",
          "text": [
            "/usr/local/lib/python3.7/dist-packages/seaborn/distributions.py:2619: FutureWarning: `distplot` is a deprecated function and will be removed in a future version. Please adapt your code to use either `displot` (a figure-level function with similar flexibility) or `histplot` (an axes-level function for histograms).\n",
            "  warnings.warn(msg, FutureWarning)\n"
          ]
        },
        {
          "output_type": "execute_result",
          "data": {
            "text/plain": [
              "<matplotlib.axes._subplots.AxesSubplot at 0x7f2149a74610>"
            ]
          },
          "metadata": {},
          "execution_count": 15
        },
        {
          "output_type": "display_data",
          "data": {
            "text/plain": [
              "<Figure size 360x216 with 1 Axes>"
            ],
            "image/png": "[encoded data removed]"
          },
          "metadata": {
            "needs_background": "light"
          }
        }
      ]
    },
    {
      "cell_type": "code",
      "source": [
        "df.corr()['SalePrice'].sort_values"
      ],
      "metadata": {
        "colab": {
          "base_uri": "https://localhost:8080/"
        },
        "id": "dtAgpQLeRG1M",
        "outputId": "d750b49b-2864-4f00-fa7c-296aad4fe75b"
      },
      "execution_count": null,
      "outputs": [
        {
          "output_type": "execute_result",
          "data": {
            "text/plain": [
              "<bound method Series.sort_values of MedInc        0.688075\n",
              "HouseAge      0.105623\n",
              "AveRooms      0.151948\n",
              "AveBedrms    -0.046701\n",
              "Population   -0.024650\n",
              "AveOccup     -0.023737\n",
              "Latitude     -0.144160\n",
              "Longitude    -0.045967\n",
              "SalePrice     1.000000\n",
              "Name: SalePrice, dtype: float64>"
            ]
          },
          "metadata": {},
          "execution_count": 17
        }
      ]
    },
    {
      "cell_type": "code",
      "source": [
        "sns.scatterplot(y='SalePrice', x = 'AveRooms', data=df)"
      ],
      "metadata": {
        "colab": {
          "base_uri": "https://localhost:8080/",
          "height": 296
        },
        "id": "v79AJxM6RSB0",
        "outputId": "939e4a29-9f6b-464c-fe93-677818825de7"
      },
      "execution_count": null,
      "outputs": [
        {
          "output_type": "execute_result",
          "data": {
            "text/plain": [
              "<matplotlib.axes._subplots.AxesSubplot at 0x7f214a122190>"
            ]
          },
          "metadata": {},
          "execution_count": 19
        },
        {
          "output_type": "display_data",
          "data": {
            "text/plain": [
              "<Figure size 432x288 with 1 Axes>"
            ],
            "image/png": "[encoded data removed]"
          },
          "metadata": {
            "needs_background": "light"
          }
        }
      ]
    },
    {
      "cell_type": "code",
      "source": [
        "sns.boxplot(x='AveRooms', y='SalePrice',data=df)"
      ],
      "metadata": {
        "colab": {
          "base_uri": "https://localhost:8080/",
          "height": 468
        },
        "id": "pRmE5ovCRi1P",
        "outputId": "7c4576e7-fd90-4aea-9223-76e8daa01407"
      },
      "execution_count": null,
      "outputs": [
        {
          "output_type": "stream",
          "name": "stdout",
          "text": [
            "Error in callback <function flush_figures at 0x7f216e71edd0> (for post_execute):\n"
          ]
        },
        {
          "output_type": "error",
          "ename": "KeyboardInterrupt",
          "evalue": "ignored",
          "traceback": [
            "\u001b[0;31m---------------------------------------------------------------------------\u001b[0m",
            "\u001b[0;31mKeyboardInterrupt\u001b[0m                         Traceback (most recent call last)",
            "\u001b[0;32m/usr/local/lib/python3.7/dist-packages/ipykernel/pylab/backend_inline.py\u001b[0m in \u001b[0;36mflush_figures\u001b[0;34m()\u001b[0m\n\u001b[1;32m    115\u001b[0m         \u001b[0;31m# ignore the tracking, just draw and close all figures\u001b[0m\u001b[0;34m\u001b[0m\u001b[0;34m\u001b[0m\u001b[0;34m\u001b[0m\u001b[0m\n\u001b[1;32m    116\u001b[0m         \u001b[0;32mtry\u001b[0m\u001b[0;34m:\u001b[0m\u001b[0;34m\u001b[0m\u001b[0;34m\u001b[0m\u001b[0m\n\u001b[0;32m--> 117\u001b[0;31m             \u001b[0;32mreturn\u001b[0m \u001b[0mshow\u001b[0m\u001b[0;34m(\u001b[0m\u001b[0;32mTrue\u001b[0m\u001b[0;34m)\u001b[0m\u001b[0;34m\u001b[0m\u001b[0;34m\u001b[0m\u001b[0m\n\u001b[0m\u001b[1;32m    118\u001b[0m         \u001b[0;32mexcept\u001b[0m \u001b[0mException\u001b[0m \u001b[0;32mas\u001b[0m \u001b[0me\u001b[0m\u001b[0;34m:\u001b[0m\u001b[0;34m\u001b[0m\u001b[0;34m\u001b[0m\u001b[0m\n\u001b[1;32m    119\u001b[0m             \u001b[0;31m# safely show traceback if in IPython, else raise\u001b[0m\u001b[0;34m\u001b[0m\u001b[0;34m\u001b[0m\u001b[0;34m\u001b[0m\u001b[0m\n",
            "\u001b[0;32m/usr/local/lib/python3.7/dist-packages/ipykernel/pylab/backend_inline.py\u001b[0m in \u001b[0;36mshow\u001b[0;34m(close, block)\u001b[0m\n\u001b[1;32m     37\u001b[0m             display(\n\u001b[1;32m     38\u001b[0m                 \u001b[0mfigure_manager\u001b[0m\u001b[0;34m.\u001b[0m\u001b[0mcanvas\u001b[0m\u001b[0;34m.\u001b[0m\u001b[0mfigure\u001b[0m\u001b[0;34m,\u001b[0m\u001b[0;34m\u001b[0m\u001b[0;34m\u001b[0m\u001b[0m\n\u001b[0;32m---> 39\u001b[0;31m                 \u001b[0mmetadata\u001b[0m\u001b[0;34m=\u001b[0m\u001b[0m_fetch_figure_metadata\u001b[0m\u001b[0;34m(\u001b[0m\u001b[0mfigure_manager\u001b[0m\u001b[0;34m.\u001b[0m\u001b[0mcanvas\u001b[0m\u001b[0;34m.\u001b[0m\u001b[0mfigure\u001b[0m\u001b[0;34m)\u001b[0m\u001b[0;34m\u001b[0m\u001b[0;34m\u001b[0m\u001b[0m\n\u001b[0m\u001b[1;32m     40\u001b[0m             )\n\u001b[1;32m     41\u001b[0m     \u001b[0;32mfinally\u001b[0m\u001b[0;34m:\u001b[0m\u001b[0;34m\u001b[0m\u001b[0;34m\u001b[0m\u001b[0m\n",
            "\u001b[0;32m/usr/local/lib/python3.7/dist-packages/IPython/core/display.py\u001b[0m in \u001b[0;36mdisplay\u001b[0;34m(*objs, **kwargs)\u001b[0m\n\u001b[1;32m    304\u001b[0m             \u001b[0mpublish_display_data\u001b[0m\u001b[0;34m(\u001b[0m\u001b[0mdata\u001b[0m\u001b[0;34m=\u001b[0m\u001b[0mobj\u001b[0m\u001b[0;34m,\u001b[0m \u001b[0mmetadata\u001b[0m\u001b[0;34m=\u001b[0m\u001b[0mmetadata\u001b[0m\u001b[0;34m,\u001b[0m \u001b[0;34m**\u001b[0m\u001b[0mkwargs\u001b[0m\u001b[0;34m)\u001b[0m\u001b[0;34m\u001b[0m\u001b[0;34m\u001b[0m\u001b[0m\n\u001b[1;32m    305\u001b[0m         \u001b[0;32melse\u001b[0m\u001b[0;34m:\u001b[0m\u001b[0;34m\u001b[0m\u001b[0;34m\u001b[0m\u001b[0m\n\u001b[0;32m--> 306\u001b[0;31m             \u001b[0mformat_dict\u001b[0m\u001b[0;34m,\u001b[0m \u001b[0mmd_dict\u001b[0m \u001b[0;34m=\u001b[0m \u001b[0mformat\u001b[0m\u001b[0;34m(\u001b[0m\u001b[0mobj\u001b[0m\u001b[0;34m,\u001b[0m \u001b[0minclude\u001b[0m\u001b[0;34m=\u001b[0m\u001b[0minclude\u001b[0m\u001b[0;34m,\u001b[0m \u001b[0mexclude\u001b[0m\u001b[0;34m=\u001b[0m\u001b[0mexclude\u001b[0m\u001b[0;34m)\u001b[0m\u001b[0;34m\u001b[0m\u001b[0;34m\u001b[0m\u001b[0m\n\u001b[0m\u001b[1;32m    307\u001b[0m             \u001b[0;32mif\u001b[0m \u001b[0;32mnot\u001b[0m \u001b[0mformat_dict\u001b[0m\u001b[0;34m:\u001b[0m\u001b[0;34m\u001b[0m\u001b[0;34m\u001b[0m\u001b[0m\n\u001b[1;32m    308\u001b[0m                 \u001b[0;31m# nothing to display (e.g. _ipython_display_ took over)\u001b[0m\u001b[0;34m\u001b[0m\u001b[0;34m\u001b[0m\u001b[0;34m\u001b[0m\u001b[0m\n",
            "\u001b[0;32m/usr/local/lib/python3.7/dist-packages/IPython/core/formatters.py\u001b[0m in \u001b[0;36mformat\u001b[0;34m(self, obj, include, exclude)\u001b[0m\n\u001b[1;32m    171\u001b[0m             \u001b[0mmd\u001b[0m \u001b[0;34m=\u001b[0m \u001b[0;32mNone\u001b[0m\u001b[0;34m\u001b[0m\u001b[0;34m\u001b[0m\u001b[0m\n\u001b[1;32m    172\u001b[0m             \u001b[0;32mtry\u001b[0m\u001b[0;34m:\u001b[0m\u001b[0;34m\u001b[0m\u001b[0;34m\u001b[0m\u001b[0m\n\u001b[0;32m--> 173\u001b[0;31m                 \u001b[0mdata\u001b[0m \u001b[0;34m=\u001b[0m \u001b[0mformatter\u001b[0m\u001b[0;34m(\u001b[0m\u001b[0mobj\u001b[0m\u001b[0;34m)\u001b[0m\u001b[0;34m\u001b[0m\u001b[0;34m\u001b[0m\u001b[0m\n\u001b[0m\u001b[1;32m    174\u001b[0m             \u001b[0;32mexcept\u001b[0m\u001b[0;34m:\u001b[0m\u001b[0;34m\u001b[0m\u001b[0;34m\u001b[0m\u001b[0m\n\u001b[1;32m    175\u001b[0m                 \u001b[0;31m# FIXME: log the exception\u001b[0m\u001b[0;34m\u001b[0m\u001b[0;34m\u001b[0m\u001b[0;34m\u001b[0m\u001b[0m\n",
            "\u001b[0;32m<decorator-gen-2>\u001b[0m in \u001b[0;36m__call__\u001b[0;34m(self, obj)\u001b[0m\n",
            "\u001b[0;32m/usr/local/lib/python3.7/dist-packages/IPython/core/formatters.py\u001b[0m in \u001b[0;36mcatch_format_error\u001b[0;34m(method, self, *args, **kwargs)\u001b[0m\n\u001b[1;32m    215\u001b[0m     \u001b[0;34m\"\"\"show traceback on failed format call\"\"\"\u001b[0m\u001b[0;34m\u001b[0m\u001b[0;34m\u001b[0m\u001b[0m\n\u001b[1;32m    216\u001b[0m     \u001b[0;32mtry\u001b[0m\u001b[0;34m:\u001b[0m\u001b[0;34m\u001b[0m\u001b[0;34m\u001b[0m\u001b[0m\n\u001b[0;32m--> 217\u001b[0;31m         \u001b[0mr\u001b[0m \u001b[0;34m=\u001b[0m \u001b[0mmethod\u001b[0m\u001b[0;34m(\u001b[0m\u001b[0mself\u001b[0m\u001b[0;34m,\u001b[0m \u001b[0;34m*\u001b[0m\u001b[0margs\u001b[0m\u001b[0;34m,\u001b[0m \u001b[0;34m**\u001b[0m\u001b[0mkwargs\u001b[0m\u001b[0;34m)\u001b[0m\u001b[0;34m\u001b[0m\u001b[0;34m\u001b[0m\u001b[0m\n\u001b[0m\u001b[1;32m    218\u001b[0m     \u001b[0;32mexcept\u001b[0m \u001b[0mNotImplementedError\u001b[0m\u001b[0;34m:\u001b[0m\u001b[0;34m\u001b[0m\u001b[0;34m\u001b[0m\u001b[0m\n\u001b[1;32m    219\u001b[0m         \u001b[0;31m# don't warn on NotImplementedErrors\u001b[0m\u001b[0;34m\u001b[0m\u001b[0;34m\u001b[0m\u001b[0;34m\u001b[0m\u001b[0m\n",
            "\u001b[0;32m/usr/local/lib/python3.7/dist-packages/IPython/core/formatters.py\u001b[0m in \u001b[0;36m__call__\u001b[0;34m(self, obj)\u001b[0m\n\u001b[1;32m    332\u001b[0m                 \u001b[0;32mpass\u001b[0m\u001b[0;34m\u001b[0m\u001b[0;34m\u001b[0m\u001b[0m\n\u001b[1;32m    333\u001b[0m             \u001b[0;32melse\u001b[0m\u001b[0;34m:\u001b[0m\u001b[0;34m\u001b[0m\u001b[0;34m\u001b[0m\u001b[0m\n\u001b[0;32m--> 334\u001b[0;31m                 \u001b[0;32mreturn\u001b[0m \u001b[0mprinter\u001b[0m\u001b[0;34m(\u001b[0m\u001b[0mobj\u001b[0m\u001b[0;34m)\u001b[0m\u001b[0;34m\u001b[0m\u001b[0;34m\u001b[0m\u001b[0m\n\u001b[0m\u001b[1;32m    335\u001b[0m             \u001b[0;31m# Finally look for special method names\u001b[0m\u001b[0;34m\u001b[0m\u001b[0;34m\u001b[0m\u001b[0;34m\u001b[0m\u001b[0m\n\u001b[1;32m    336\u001b[0m             \u001b[0mmethod\u001b[0m \u001b[0;34m=\u001b[0m \u001b[0mget_real_method\u001b[0m\u001b[0;34m(\u001b[0m\u001b[0mobj\u001b[0m\u001b[0;34m,\u001b[0m \u001b[0mself\u001b[0m\u001b[0;34m.\u001b[0m\u001b[0mprint_method\u001b[0m\u001b[0;34m)\u001b[0m\u001b[0;34m\u001b[0m\u001b[0;34m\u001b[0m\u001b[0m\n",
            "\u001b[0;32m/usr/local/lib/python3.7/dist-packages/IPython/core/pylabtools.py\u001b[0m in \u001b[0;36m<lambda>\u001b[0;34m(fig)\u001b[0m\n\u001b[1;32m    239\u001b[0m \u001b[0;34m\u001b[0m\u001b[0m\n\u001b[1;32m    240\u001b[0m     \u001b[0;32mif\u001b[0m \u001b[0;34m'png'\u001b[0m \u001b[0;32min\u001b[0m \u001b[0mformats\u001b[0m\u001b[0;34m:\u001b[0m\u001b[0;34m\u001b[0m\u001b[0;34m\u001b[0m\u001b[0m\n\u001b[0;32m--> 241\u001b[0;31m         \u001b[0mpng_formatter\u001b[0m\u001b[0;34m.\u001b[0m\u001b[0mfor_type\u001b[0m\u001b[0;34m(\u001b[0m\u001b[0mFigure\u001b[0m\u001b[0;34m,\u001b[0m \u001b[0;32mlambda\u001b[0m \u001b[0mfig\u001b[0m\u001b[0;34m:\u001b[0m \u001b[0mprint_figure\u001b[0m\u001b[0;34m(\u001b[0m\u001b[0mfig\u001b[0m\u001b[0;34m,\u001b[0m \u001b[0;34m'png'\u001b[0m\u001b[0;34m,\u001b[0m \u001b[0;34m**\u001b[0m\u001b[0mkwargs\u001b[0m\u001b[0;34m)\u001b[0m\u001b[0;34m)\u001b[0m\u001b[0;34m\u001b[0m\u001b[0;34m\u001b[0m\u001b[0m\n\u001b[0m\u001b[1;32m    242\u001b[0m     \u001b[0;32mif\u001b[0m \u001b[0;34m'retina'\u001b[0m \u001b[0;32min\u001b[0m \u001b[0mformats\u001b[0m \u001b[0;32mor\u001b[0m \u001b[0;34m'png2x'\u001b[0m \u001b[0;32min\u001b[0m \u001b[0mformats\u001b[0m\u001b[0;34m:\u001b[0m\u001b[0;34m\u001b[0m\u001b[0;34m\u001b[0m\u001b[0m\n\u001b[1;32m    243\u001b[0m         \u001b[0mpng_formatter\u001b[0m\u001b[0;34m.\u001b[0m\u001b[0mfor_type\u001b[0m\u001b[0;34m(\u001b[0m\u001b[0mFigure\u001b[0m\u001b[0;34m,\u001b[0m \u001b[0;32mlambda\u001b[0m \u001b[0mfig\u001b[0m\u001b[0;34m:\u001b[0m \u001b[0mretina_figure\u001b[0m\u001b[0;34m(\u001b[0m\u001b[0mfig\u001b[0m\u001b[0;34m,\u001b[0m \u001b[0;34m**\u001b[0m\u001b[0mkwargs\u001b[0m\u001b[0;34m)\u001b[0m\u001b[0;34m)\u001b[0m\u001b[0;34m\u001b[0m\u001b[0;34m\u001b[0m\u001b[0m\n",
            "\u001b[0;32m/usr/local/lib/python3.7/dist-packages/IPython/core/pylabtools.py\u001b[0m in \u001b[0;36mprint_figure\u001b[0;34m(fig, fmt, bbox_inches, **kwargs)\u001b[0m\n\u001b[1;32m    123\u001b[0m \u001b[0;34m\u001b[0m\u001b[0m\n\u001b[1;32m    124\u001b[0m     \u001b[0mbytes_io\u001b[0m \u001b[0;34m=\u001b[0m \u001b[0mBytesIO\u001b[0m\u001b[0;34m(\u001b[0m\u001b[0;34m)\u001b[0m\u001b[0;34m\u001b[0m\u001b[0;34m\u001b[0m\u001b[0m\n\u001b[0;32m--> 125\u001b[0;31m     \u001b[0mfig\u001b[0m\u001b[0;34m.\u001b[0m\u001b[0mcanvas\u001b[0m\u001b[0;34m.\u001b[0m\u001b[0mprint_figure\u001b[0m\u001b[0;34m(\u001b[0m\u001b[0mbytes_io\u001b[0m\u001b[0;34m,\u001b[0m \u001b[0;34m**\u001b[0m\u001b[0mkw\u001b[0m\u001b[0;34m)\u001b[0m\u001b[0;34m\u001b[0m\u001b[0;34m\u001b[0m\u001b[0m\n\u001b[0m\u001b[1;32m    126\u001b[0m     \u001b[0mdata\u001b[0m \u001b[0;34m=\u001b[0m \u001b[0mbytes_io\u001b[0m\u001b[0;34m.\u001b[0m\u001b[0mgetvalue\u001b[0m\u001b[0;34m(\u001b[0m\u001b[0;34m)\u001b[0m\u001b[0;34m\u001b[0m\u001b[0;34m\u001b[0m\u001b[0m\n\u001b[1;32m    127\u001b[0m     \u001b[0;32mif\u001b[0m \u001b[0mfmt\u001b[0m \u001b[0;34m==\u001b[0m \u001b[0;34m'svg'\u001b[0m\u001b[0;34m:\u001b[0m\u001b[0;34m\u001b[0m\u001b[0;34m\u001b[0m\u001b[0m\n",
            "\u001b[0;32m/usr/local/lib/python3.7/dist-packages/matplotlib/backend_bases.py\u001b[0m in \u001b[0;36mprint_figure\u001b[0;34m(self, filename, dpi, facecolor, edgecolor, orientation, format, bbox_inches, **kwargs)\u001b[0m\n\u001b[1;32m   2101\u001b[0m                     \u001b[0mbbox_artists\u001b[0m \u001b[0;34m=\u001b[0m \u001b[0mkwargs\u001b[0m\u001b[0;34m.\u001b[0m\u001b[0mpop\u001b[0m\u001b[0;34m(\u001b[0m\u001b[0;34m\"bbox_extra_artists\"\u001b[0m\u001b[0;34m,\u001b[0m \u001b[0;32mNone\u001b[0m\u001b[0;34m)\u001b[0m\u001b[0;34m\u001b[0m\u001b[0;34m\u001b[0m\u001b[0m\n\u001b[1;32m   2102\u001b[0m                     bbox_inches = self.figure.get_tightbbox(renderer,\n\u001b[0;32m-> 2103\u001b[0;31m                             bbox_extra_artists=bbox_artists)\n\u001b[0m\u001b[1;32m   2104\u001b[0m                     \u001b[0mpad\u001b[0m \u001b[0;34m=\u001b[0m \u001b[0mkwargs\u001b[0m\u001b[0;34m.\u001b[0m\u001b[0mpop\u001b[0m\u001b[0;34m(\u001b[0m\u001b[0;34m\"pad_inches\"\u001b[0m\u001b[0;34m,\u001b[0m \u001b[0;32mNone\u001b[0m\u001b[0;34m)\u001b[0m\u001b[0;34m\u001b[0m\u001b[0;34m\u001b[0m\u001b[0m\n\u001b[1;32m   2105\u001b[0m                     \u001b[0;32mif\u001b[0m \u001b[0mpad\u001b[0m \u001b[0;32mis\u001b[0m \u001b[0;32mNone\u001b[0m\u001b[0;34m:\u001b[0m\u001b[0;34m\u001b[0m\u001b[0;34m\u001b[0m\u001b[0m\n",
            "\u001b[0;32m/usr/local/lib/python3.7/dist-packages/matplotlib/figure.py\u001b[0m in \u001b[0;36mget_tightbbox\u001b[0;34m(self, renderer, bbox_extra_artists)\u001b[0m\n\u001b[1;32m   2383\u001b[0m \u001b[0;34m\u001b[0m\u001b[0m\n\u001b[1;32m   2384\u001b[0m         \u001b[0;32mfor\u001b[0m \u001b[0ma\u001b[0m \u001b[0;32min\u001b[0m \u001b[0martists\u001b[0m\u001b[0;34m:\u001b[0m\u001b[0;34m\u001b[0m\u001b[0;34m\u001b[0m\u001b[0m\n\u001b[0;32m-> 2385\u001b[0;31m             \u001b[0mbbox\u001b[0m \u001b[0;34m=\u001b[0m \u001b[0ma\u001b[0m\u001b[0;34m.\u001b[0m\u001b[0mget_tightbbox\u001b[0m\u001b[0;34m(\u001b[0m\u001b[0mrenderer\u001b[0m\u001b[0;34m)\u001b[0m\u001b[0;34m\u001b[0m\u001b[0;34m\u001b[0m\u001b[0m\n\u001b[0m\u001b[1;32m   2386\u001b[0m             \u001b[0;32mif\u001b[0m \u001b[0mbbox\u001b[0m \u001b[0;32mis\u001b[0m \u001b[0;32mnot\u001b[0m \u001b[0;32mNone\u001b[0m \u001b[0;32mand\u001b[0m \u001b[0;34m(\u001b[0m\u001b[0mbbox\u001b[0m\u001b[0;34m.\u001b[0m\u001b[0mwidth\u001b[0m \u001b[0;34m!=\u001b[0m \u001b[0;36m0\u001b[0m \u001b[0;32mor\u001b[0m \u001b[0mbbox\u001b[0m\u001b[0;34m.\u001b[0m\u001b[0mheight\u001b[0m \u001b[0;34m!=\u001b[0m \u001b[0;36m0\u001b[0m\u001b[0;34m)\u001b[0m\u001b[0;34m:\u001b[0m\u001b[0;34m\u001b[0m\u001b[0;34m\u001b[0m\u001b[0m\n\u001b[1;32m   2387\u001b[0m                 \u001b[0mbb\u001b[0m\u001b[0;34m.\u001b[0m\u001b[0mappend\u001b[0m\u001b[0;34m(\u001b[0m\u001b[0mbbox\u001b[0m\u001b[0;34m)\u001b[0m\u001b[0;34m\u001b[0m\u001b[0;34m\u001b[0m\u001b[0m\n",
            "\u001b[0;32m/usr/local/lib/python3.7/dist-packages/matplotlib/axes/_base.py\u001b[0m in \u001b[0;36mget_tightbbox\u001b[0;34m(self, renderer, call_axes_locator, bbox_extra_artists)\u001b[0m\n\u001b[1;32m   4321\u001b[0m \u001b[0;34m\u001b[0m\u001b[0m\n\u001b[1;32m   4322\u001b[0m         \u001b[0;32mif\u001b[0m \u001b[0mself\u001b[0m\u001b[0;34m.\u001b[0m\u001b[0maxison\u001b[0m\u001b[0;34m:\u001b[0m\u001b[0;34m\u001b[0m\u001b[0;34m\u001b[0m\u001b[0m\n\u001b[0;32m-> 4323\u001b[0;31m             \u001b[0mbb_xaxis\u001b[0m \u001b[0;34m=\u001b[0m \u001b[0mself\u001b[0m\u001b[0;34m.\u001b[0m\u001b[0mxaxis\u001b[0m\u001b[0;34m.\u001b[0m\u001b[0mget_tightbbox\u001b[0m\u001b[0;34m(\u001b[0m\u001b[0mrenderer\u001b[0m\u001b[0;34m)\u001b[0m\u001b[0;34m\u001b[0m\u001b[0;34m\u001b[0m\u001b[0m\n\u001b[0m\u001b[1;32m   4324\u001b[0m             \u001b[0;32mif\u001b[0m \u001b[0mbb_xaxis\u001b[0m\u001b[0;34m:\u001b[0m\u001b[0;34m\u001b[0m\u001b[0;34m\u001b[0m\u001b[0m\n\u001b[1;32m   4325\u001b[0m                 \u001b[0mbb\u001b[0m\u001b[0;34m.\u001b[0m\u001b[0mappend\u001b[0m\u001b[0;34m(\u001b[0m\u001b[0mbb_xaxis\u001b[0m\u001b[0;34m)\u001b[0m\u001b[0;34m\u001b[0m\u001b[0;34m\u001b[0m\u001b[0m\n",
            "\u001b[0;32m/usr/local/lib/python3.7/dist-packages/matplotlib/axis.py\u001b[0m in \u001b[0;36mget_tightbbox\u001b[0;34m(self, renderer)\u001b[0m\n\u001b[1;32m   1186\u001b[0m         \u001b[0mticks_to_draw\u001b[0m \u001b[0;34m=\u001b[0m \u001b[0mself\u001b[0m\u001b[0;34m.\u001b[0m\u001b[0m_update_ticks\u001b[0m\u001b[0;34m(\u001b[0m\u001b[0;34m)\u001b[0m\u001b[0;34m\u001b[0m\u001b[0;34m\u001b[0m\u001b[0m\n\u001b[1;32m   1187\u001b[0m \u001b[0;34m\u001b[0m\u001b[0m\n\u001b[0;32m-> 1188\u001b[0;31m         \u001b[0mself\u001b[0m\u001b[0;34m.\u001b[0m\u001b[0m_update_label_position\u001b[0m\u001b[0;34m(\u001b[0m\u001b[0mrenderer\u001b[0m\u001b[0;34m)\u001b[0m\u001b[0;34m\u001b[0m\u001b[0;34m\u001b[0m\u001b[0m\n\u001b[0m\u001b[1;32m   1189\u001b[0m \u001b[0;34m\u001b[0m\u001b[0m\n\u001b[1;32m   1190\u001b[0m         \u001b[0;31m# go back to just this axis's tick labels\u001b[0m\u001b[0;34m\u001b[0m\u001b[0;34m\u001b[0m\u001b[0;34m\u001b[0m\u001b[0m\n",
            "\u001b[0;32m/usr/local/lib/python3.7/dist-packages/matplotlib/axis.py\u001b[0m in \u001b[0;36m_update_label_position\u001b[0;34m(self, renderer)\u001b[0m\n\u001b[1;32m   2019\u001b[0m         \u001b[0;31m# get bounding boxes for this axis and any siblings\u001b[0m\u001b[0;34m\u001b[0m\u001b[0;34m\u001b[0m\u001b[0;34m\u001b[0m\u001b[0m\n\u001b[1;32m   2020\u001b[0m         \u001b[0;31m# that have been set by `fig.align_xlabels()`\u001b[0m\u001b[0;34m\u001b[0m\u001b[0;34m\u001b[0m\u001b[0;34m\u001b[0m\u001b[0m\n\u001b[0;32m-> 2021\u001b[0;31m         \u001b[0mbboxes\u001b[0m\u001b[0;34m,\u001b[0m \u001b[0mbboxes2\u001b[0m \u001b[0;34m=\u001b[0m \u001b[0mself\u001b[0m\u001b[0;34m.\u001b[0m\u001b[0m_get_tick_boxes_siblings\u001b[0m\u001b[0;34m(\u001b[0m\u001b[0mrenderer\u001b[0m\u001b[0;34m=\u001b[0m\u001b[0mrenderer\u001b[0m\u001b[0;34m)\u001b[0m\u001b[0;34m\u001b[0m\u001b[0;34m\u001b[0m\u001b[0m\n\u001b[0m\u001b[1;32m   2022\u001b[0m \u001b[0;34m\u001b[0m\u001b[0m\n\u001b[1;32m   2023\u001b[0m         \u001b[0mx\u001b[0m\u001b[0;34m,\u001b[0m \u001b[0my\u001b[0m \u001b[0;34m=\u001b[0m \u001b[0mself\u001b[0m\u001b[0;34m.\u001b[0m\u001b[0mlabel\u001b[0m\u001b[0;34m.\u001b[0m\u001b[0mget_position\u001b[0m\u001b[0;34m(\u001b[0m\u001b[0;34m)\u001b[0m\u001b[0;34m\u001b[0m\u001b[0;34m\u001b[0m\u001b[0m\n",
            "\u001b[0;32m/usr/local/lib/python3.7/dist-packages/matplotlib/axis.py\u001b[0m in \u001b[0;36m_get_tick_boxes_siblings\u001b[0;34m(self, renderer)\u001b[0m\n\u001b[1;32m   2004\u001b[0m         \u001b[0;32mfor\u001b[0m \u001b[0mnn\u001b[0m\u001b[0;34m,\u001b[0m \u001b[0maxx\u001b[0m \u001b[0;32min\u001b[0m \u001b[0menumerate\u001b[0m\u001b[0;34m(\u001b[0m\u001b[0mgrp\u001b[0m\u001b[0;34m.\u001b[0m\u001b[0mget_siblings\u001b[0m\u001b[0;34m(\u001b[0m\u001b[0mself\u001b[0m\u001b[0;34m.\u001b[0m\u001b[0maxes\u001b[0m\u001b[0;34m)\u001b[0m\u001b[0;34m)\u001b[0m\u001b[0;34m:\u001b[0m\u001b[0;34m\u001b[0m\u001b[0;34m\u001b[0m\u001b[0m\n\u001b[1;32m   2005\u001b[0m             \u001b[0mticks_to_draw\u001b[0m \u001b[0;34m=\u001b[0m \u001b[0maxx\u001b[0m\u001b[0;34m.\u001b[0m\u001b[0mxaxis\u001b[0m\u001b[0;34m.\u001b[0m\u001b[0m_update_ticks\u001b[0m\u001b[0;34m(\u001b[0m\u001b[0;34m)\u001b[0m\u001b[0;34m\u001b[0m\u001b[0;34m\u001b[0m\u001b[0m\n\u001b[0;32m-> 2006\u001b[0;31m             \u001b[0mtlb\u001b[0m\u001b[0;34m,\u001b[0m \u001b[0mtlb2\u001b[0m \u001b[0;34m=\u001b[0m \u001b[0maxx\u001b[0m\u001b[0;34m.\u001b[0m\u001b[0mxaxis\u001b[0m\u001b[0;34m.\u001b[0m\u001b[0m_get_tick_bboxes\u001b[0m\u001b[0;34m(\u001b[0m\u001b[0mticks_to_draw\u001b[0m\u001b[0;34m,\u001b[0m \u001b[0mrenderer\u001b[0m\u001b[0;34m)\u001b[0m\u001b[0;34m\u001b[0m\u001b[0;34m\u001b[0m\u001b[0m\n\u001b[0m\u001b[1;32m   2007\u001b[0m             \u001b[0mbboxes\u001b[0m\u001b[0;34m.\u001b[0m\u001b[0mextend\u001b[0m\u001b[0;34m(\u001b[0m\u001b[0mtlb\u001b[0m\u001b[0;34m)\u001b[0m\u001b[0;34m\u001b[0m\u001b[0;34m\u001b[0m\u001b[0m\n\u001b[1;32m   2008\u001b[0m             \u001b[0mbboxes2\u001b[0m\u001b[0;34m.\u001b[0m\u001b[0mextend\u001b[0m\u001b[0;34m(\u001b[0m\u001b[0mtlb2\u001b[0m\u001b[0;34m)\u001b[0m\u001b[0;34m\u001b[0m\u001b[0;34m\u001b[0m\u001b[0m\n",
            "\u001b[0;32m/usr/local/lib/python3.7/dist-packages/matplotlib/axis.py\u001b[0m in \u001b[0;36m_get_tick_bboxes\u001b[0;34m(self, ticks, renderer)\u001b[0m\n\u001b[1;32m   1172\u001b[0m         \u001b[0;34m\"\"\"Return lists of bboxes for ticks' label1's and label2's.\"\"\"\u001b[0m\u001b[0;34m\u001b[0m\u001b[0;34m\u001b[0m\u001b[0m\n\u001b[1;32m   1173\u001b[0m         return ([tick.label1.get_window_extent(renderer)\n\u001b[0;32m-> 1174\u001b[0;31m                  for tick in ticks if tick.label1.get_visible()],\n\u001b[0m\u001b[1;32m   1175\u001b[0m                 [tick.label2.get_window_extent(renderer)\n\u001b[1;32m   1176\u001b[0m                  for tick in ticks if tick.label2.get_visible()])\n",
            "\u001b[0;32m/usr/local/lib/python3.7/dist-packages/matplotlib/axis.py\u001b[0m in \u001b[0;36m<listcomp>\u001b[0;34m(.0)\u001b[0m\n\u001b[1;32m   1172\u001b[0m         \u001b[0;34m\"\"\"Return lists of bboxes for ticks' label1's and label2's.\"\"\"\u001b[0m\u001b[0;34m\u001b[0m\u001b[0;34m\u001b[0m\u001b[0m\n\u001b[1;32m   1173\u001b[0m         return ([tick.label1.get_window_extent(renderer)\n\u001b[0;32m-> 1174\u001b[0;31m                  for tick in ticks if tick.label1.get_visible()],\n\u001b[0m\u001b[1;32m   1175\u001b[0m                 [tick.label2.get_window_extent(renderer)\n\u001b[1;32m   1176\u001b[0m                  for tick in ticks if tick.label2.get_visible()])\n",
            "\u001b[0;32m/usr/local/lib/python3.7/dist-packages/matplotlib/text.py\u001b[0m in \u001b[0;36mget_window_extent\u001b[0;34m(self, renderer, dpi)\u001b[0m\n\u001b[1;32m    903\u001b[0m             \u001b[0;32mraise\u001b[0m \u001b[0mRuntimeError\u001b[0m\u001b[0;34m(\u001b[0m\u001b[0;34m'Cannot get window extent w/o renderer'\u001b[0m\u001b[0;34m)\u001b[0m\u001b[0;34m\u001b[0m\u001b[0;34m\u001b[0m\u001b[0m\n\u001b[1;32m    904\u001b[0m \u001b[0;34m\u001b[0m\u001b[0m\n\u001b[0;32m--> 905\u001b[0;31m         \u001b[0mbbox\u001b[0m\u001b[0;34m,\u001b[0m \u001b[0minfo\u001b[0m\u001b[0;34m,\u001b[0m \u001b[0mdescent\u001b[0m \u001b[0;34m=\u001b[0m \u001b[0mself\u001b[0m\u001b[0;34m.\u001b[0m\u001b[0m_get_layout\u001b[0m\u001b[0;34m(\u001b[0m\u001b[0mself\u001b[0m\u001b[0;34m.\u001b[0m\u001b[0m_renderer\u001b[0m\u001b[0;34m)\u001b[0m\u001b[0;34m\u001b[0m\u001b[0;34m\u001b[0m\u001b[0m\n\u001b[0m\u001b[1;32m    906\u001b[0m         \u001b[0mx\u001b[0m\u001b[0;34m,\u001b[0m \u001b[0my\u001b[0m \u001b[0;34m=\u001b[0m \u001b[0mself\u001b[0m\u001b[0;34m.\u001b[0m\u001b[0mget_unitless_position\u001b[0m\u001b[0;34m(\u001b[0m\u001b[0;34m)\u001b[0m\u001b[0;34m\u001b[0m\u001b[0;34m\u001b[0m\u001b[0m\n\u001b[1;32m    907\u001b[0m         \u001b[0mx\u001b[0m\u001b[0;34m,\u001b[0m \u001b[0my\u001b[0m \u001b[0;34m=\u001b[0m \u001b[0mself\u001b[0m\u001b[0;34m.\u001b[0m\u001b[0mget_transform\u001b[0m\u001b[0;34m(\u001b[0m\u001b[0;34m)\u001b[0m\u001b[0;34m.\u001b[0m\u001b[0mtransform\u001b[0m\u001b[0;34m(\u001b[0m\u001b[0;34m(\u001b[0m\u001b[0mx\u001b[0m\u001b[0;34m,\u001b[0m \u001b[0my\u001b[0m\u001b[0;34m)\u001b[0m\u001b[0;34m)\u001b[0m\u001b[0;34m\u001b[0m\u001b[0;34m\u001b[0m\u001b[0m\n",
            "\u001b[0;32m/usr/local/lib/python3.7/dist-packages/matplotlib/text.py\u001b[0m in \u001b[0;36m_get_layout\u001b[0;34m(self, renderer)\u001b[0m\n\u001b[1;32m    291\u001b[0m         _, lp_h, lp_d = renderer.get_text_width_height_descent(\n\u001b[1;32m    292\u001b[0m             \u001b[0;34m\"lp\"\u001b[0m\u001b[0;34m,\u001b[0m \u001b[0mself\u001b[0m\u001b[0;34m.\u001b[0m\u001b[0m_fontproperties\u001b[0m\u001b[0;34m,\u001b[0m\u001b[0;34m\u001b[0m\u001b[0;34m\u001b[0m\u001b[0m\n\u001b[0;32m--> 293\u001b[0;31m             ismath=\"TeX\" if self.get_usetex() else False)\n\u001b[0m\u001b[1;32m    294\u001b[0m         \u001b[0mmin_dy\u001b[0m \u001b[0;34m=\u001b[0m \u001b[0;34m(\u001b[0m\u001b[0mlp_h\u001b[0m \u001b[0;34m-\u001b[0m \u001b[0mlp_d\u001b[0m\u001b[0;34m)\u001b[0m \u001b[0;34m*\u001b[0m \u001b[0mself\u001b[0m\u001b[0;34m.\u001b[0m\u001b[0m_linespacing\u001b[0m\u001b[0;34m\u001b[0m\u001b[0;34m\u001b[0m\u001b[0m\n\u001b[1;32m    295\u001b[0m \u001b[0;34m\u001b[0m\u001b[0m\n",
            "\u001b[0;32m/usr/local/lib/python3.7/dist-packages/matplotlib/backends/backend_agg.py\u001b[0m in \u001b[0;36mget_text_width_height_descent\u001b[0;34m(self, s, prop, ismath)\u001b[0m\n\u001b[1;32m    212\u001b[0m         \u001b[0mflags\u001b[0m \u001b[0;34m=\u001b[0m \u001b[0mget_hinting_flag\u001b[0m\u001b[0;34m(\u001b[0m\u001b[0;34m)\u001b[0m\u001b[0;34m\u001b[0m\u001b[0;34m\u001b[0m\u001b[0m\n\u001b[1;32m    213\u001b[0m         \u001b[0mfont\u001b[0m \u001b[0;34m=\u001b[0m \u001b[0mself\u001b[0m\u001b[0;34m.\u001b[0m\u001b[0m_get_agg_font\u001b[0m\u001b[0;34m(\u001b[0m\u001b[0mprop\u001b[0m\u001b[0;34m)\u001b[0m\u001b[0;34m\u001b[0m\u001b[0;34m\u001b[0m\u001b[0m\n\u001b[0;32m--> 214\u001b[0;31m         \u001b[0mfont\u001b[0m\u001b[0;34m.\u001b[0m\u001b[0mset_text\u001b[0m\u001b[0;34m(\u001b[0m\u001b[0ms\u001b[0m\u001b[0;34m,\u001b[0m \u001b[0;36m0.0\u001b[0m\u001b[0;34m,\u001b[0m \u001b[0mflags\u001b[0m\u001b[0;34m=\u001b[0m\u001b[0mflags\u001b[0m\u001b[0;34m)\u001b[0m\u001b[0;34m\u001b[0m\u001b[0;34m\u001b[0m\u001b[0m\n\u001b[0m\u001b[1;32m    215\u001b[0m         \u001b[0mw\u001b[0m\u001b[0;34m,\u001b[0m \u001b[0mh\u001b[0m \u001b[0;34m=\u001b[0m \u001b[0mfont\u001b[0m\u001b[0;34m.\u001b[0m\u001b[0mget_width_height\u001b[0m\u001b[0;34m(\u001b[0m\u001b[0;34m)\u001b[0m  \u001b[0;31m# width and height of unrotated string\u001b[0m\u001b[0;34m\u001b[0m\u001b[0;34m\u001b[0m\u001b[0m\n\u001b[1;32m    216\u001b[0m         \u001b[0md\u001b[0m \u001b[0;34m=\u001b[0m \u001b[0mfont\u001b[0m\u001b[0;34m.\u001b[0m\u001b[0mget_descent\u001b[0m\u001b[0;34m(\u001b[0m\u001b[0;34m)\u001b[0m\u001b[0;34m\u001b[0m\u001b[0;34m\u001b[0m\u001b[0m\n",
            "\u001b[0;31mKeyboardInterrupt\u001b[0m: "
          ]
        }
      ]
    },
    {
      "cell_type": "code",
      "source": [
        ""
      ],
      "metadata": {
        "id": "81dm8kgJUA9V"
      },
      "execution_count": null,
      "outputs": []
    },
    {
      "cell_type": "code",
      "source": [
        "len(df)"
      ],
      "metadata": {
        "colab": {
          "base_uri": "https://localhost:8080/"
        },
        "id": "13GzAAbNUBMO",
        "outputId": "8ce031b2-d401-4069-8fe5-38025ed85513"
      },
      "execution_count": null,
      "outputs": [
        {
          "output_type": "execute_result",
          "data": {
            "text/plain": [
              "20640"
            ]
          },
          "metadata": {},
          "execution_count": 34
        }
      ]
    },
    {
      "cell_type": "code",
      "source": [
        "plt.figure(figsize=(10,6))\n",
        "sns.scatterplot(x='SalePrice', y='Longitude', data=df\n",
        ")"
      ],
      "metadata": {
        "colab": {
          "base_uri": "https://localhost:8080/",
          "height": 405
        },
        "id": "zhOxBYj-Rzu0",
        "outputId": "b6591600-d06f-4a94-9874-dff3876b1135"
      },
      "execution_count": null,
      "outputs": [
        {
          "output_type": "execute_result",
          "data": {
            "text/plain": [
              "<matplotlib.axes._subplots.AxesSubplot at 0x7f213b2f9f90>"
            ]
          },
          "metadata": {},
          "execution_count": 24
        },
        {
          "output_type": "display_data",
          "data": {
            "text/plain": [
              "<Figure size 720x432 with 1 Axes>"
            ],
            "image/png": "[encoded data removed]"
          },
          "metadata": {
            "needs_background": "light"
          }
        }
      ]
    },
    {
      "cell_type": "code",
      "source": [
        "sns.scatterplot(x='Longitude', y='Latitude', data=df, hue='HouseAge')"
      ],
      "metadata": {
        "colab": {
          "base_uri": "https://localhost:8080/",
          "height": 296
        },
        "id": "KhtsHP-4SGbo",
        "outputId": "050b8f23-bbe9-418b-efb8-da4bb3ccd8c3"
      },
      "execution_count": null,
      "outputs": [
        {
          "output_type": "execute_result",
          "data": {
            "text/plain": [
              "<matplotlib.axes._subplots.AxesSubplot at 0x7f2139982110>"
            ]
          },
          "metadata": {},
          "execution_count": 30
        },
        {
          "output_type": "display_data",
          "data": {
            "text/plain": [
              "<Figure size 432x288 with 1 Axes>"
            ],
            "image/png": "[encoded data removed]"
          },
          "metadata": {
            "needs_background": "light"
          }
        }
      ]
    },
    {
      "cell_type": "code",
      "source": [
        "df.sort_values('SalePrice', ascending=False).head(20)"
      ],
      "metadata": {
        "colab": {
          "base_uri": "https://localhost:8080/",
          "height": 740
        },
        "id": "ndaGBR52SVTw",
        "outputId": "6713ab0b-bdeb-4f75-a35d-07fd02da4955"
      },
      "execution_count": null,
      "outputs": [
        {
          "output_type": "execute_result",
          "data": {
            "text/plain": [
              "        MedInc  HouseAge  AveRooms  AveBedrms  Population  AveOccup  Latitude  \\\n",
              "10667  10.1275      27.0  7.493421   1.039474       772.0  2.539474     33.55   \n",
              "16916   7.0422      52.0  7.045455   1.090909       967.0  2.585561     37.57   \n",
              "16946   6.1349      33.0  6.893417   0.978056       827.0  2.592476     37.55   \n",
              "8877    8.0257      48.0  7.781046   1.127451       859.0  2.807190     34.04   \n",
              "8878   15.0001      52.0  8.000000   0.997333      1143.0  3.048000     34.04   \n",
              "8879    8.3839      52.0  8.061372   1.144404       769.0  2.776173     34.04   \n",
              "16941   6.9533      44.0  7.608025   1.012346       843.0  2.601852     37.55   \n",
              "16940   9.3694      51.0  8.300971   1.074434       870.0  2.815534     37.55   \n",
              "16939   4.6406      50.0  6.100000   1.056098      1050.0  2.560976     37.55   \n",
              "16938  10.0743      50.0  7.868526   0.976096       644.0  2.565737     37.56   \n",
              "8880    4.8125      31.0  4.684332   1.095622      1532.0  1.764977     34.04   \n",
              "16936   5.5490      49.0  7.000000   1.038194       691.0  2.399306     37.56   \n",
              "16935   3.4902      34.0  4.274064   1.082219      2400.0  1.604278     37.56   \n",
              "8882   11.7045      40.0  7.764045   0.938202       483.0  2.713483     34.04   \n",
              "16918  10.4286      52.0  7.919708   0.981752       784.0  2.861314     37.57   \n",
              "16917   8.2598      52.0  7.094708   1.038997       876.0  2.440111     37.57   \n",
              "16915  14.4219      52.0  8.253731   0.950249       519.0  2.582090     37.56   \n",
              "16897   4.7404      43.0  5.855140   1.009346       967.0  2.259346     37.58   \n",
              "16914  10.1675      23.0  8.834286   1.067143      2165.0  3.092857     37.54   \n",
              "16913  13.3913      25.0  8.869048   1.027778      1507.0  2.990079     37.55   \n",
              "\n",
              "       Longitude  SalePrice  \n",
              "10667    -117.88    5.00001  \n",
              "16916    -122.34    5.00001  \n",
              "16946    -122.33    5.00001  \n",
              "8877     -118.49    5.00001  \n",
              "8878     -118.50    5.00001  \n",
              "8879     -118.50    5.00001  \n",
              "16941    -122.34    5.00001  \n",
              "16940    -122.33    5.00001  \n",
              "16939    -122.32    5.00001  \n",
              "16938    -122.33    5.00001  \n",
              "8880     -118.49    5.00001  \n",
              "16936    -122.32    5.00001  \n",
              "16935    -122.33    5.00001  \n",
              "8882     -118.51    5.00001  \n",
              "16918    -122.35    5.00001  \n",
              "16917    -122.34    5.00001  \n",
              "16915    -122.35    5.00001  \n",
              "16897    -122.37    5.00001  \n",
              "16914    -122.36    5.00001  \n",
              "16913    -122.34    5.00001  "
            ],
            "text/html": [
              "\n",
              "  <div id=\"df-f423957d-5074-49d8-b586-af6c0cacfb24\">\n",
              "    <div class=\"colab-df-container\">\n",
              "      <div>\n",
              "<style scoped>\n",
              "    .dataframe tbody tr th:only-of-type {\n",
              "        vertical-align: middle;\n",
              "    }\n",
              "\n",
              "    .dataframe tbody tr th {\n",
              "        vertical-align: top;\n",
              "    }\n",
              "\n",
              "    .dataframe thead th {\n",
              "        text-align: right;\n",
              "    }\n",
              "</style>\n",
              "<table border=\"1\" class=\"dataframe\">\n",
              "  <thead>\n",
              "    <tr style=\"text-align: right;\">\n",
              "      <th></th>\n",
              "      <th>MedInc</th>\n",
              "      <th>HouseAge</th>\n",
              "      <th>AveRooms</th>\n",
              "      <th>AveBedrms</th>\n",
              "      <th>Population</th>\n",
              "      <th>AveOccup</th>\n",
              "      <th>Latitude</th>\n",
              "      <th>Longitude</th>\n",
              "      <th>SalePrice</th>\n",
              "    </tr>\n",
              "  </thead>\n",
              "  <tbody>\n",
              "    <tr>\n",
              "      <th>10667</th>\n",
              "      <td>10.1275</td>\n",
              "      <td>27.0</td>\n",
              "      <td>7.493421</td>\n",
              "      <td>1.039474</td>\n",
              "      <td>772.0</td>\n",
              "      <td>2.539474</td>\n",
              "      <td>33.55</td>\n",
              "      <td>-117.88</td>\n",
              "      <td>5.00001</td>\n",
              "    </tr>\n",
              "    <tr>\n",
              "      <th>16916</th>\n",
              "      <td>7.0422</td>\n",
              "      <td>52.0</td>\n",
              "      <td>7.045455</td>\n",
              "      <td>1.090909</td>\n",
              "      <td>967.0</td>\n",
              "      <td>2.585561</td>\n",
              "      <td>37.57</td>\n",
              "      <td>-122.34</td>\n",
              "      <td>5.00001</td>\n",
              "    </tr>\n",
              "    <tr>\n",
              "      <th>16946</th>\n",
              "      <td>6.1349</td>\n",
              "      <td>33.0</td>\n",
              "      <td>6.893417</td>\n",
              "      <td>0.978056</td>\n",
              "      <td>827.0</td>\n",
              "      <td>2.592476</td>\n",
              "      <td>37.55</td>\n",
              "      <td>-122.33</td>\n",
              "      <td>5.00001</td>\n",
              "    </tr>\n",
              "    <tr>\n",
              "      <th>8877</th>\n",
              "      <td>8.0257</td>\n",
              "      <td>48.0</td>\n",
              "      <td>7.781046</td>\n",
              "      <td>1.127451</td>\n",
              "      <td>859.0</td>\n",
              "      <td>2.807190</td>\n",
              "      <td>34.04</td>\n",
              "      <td>-118.49</td>\n",
              "      <td>5.00001</td>\n",
              "    </tr>\n",
              "    <tr>\n",
              "      <th>8878</th>\n",
              "      <td>15.0001</td>\n",
              "      <td>52.0</td>\n",
              "      <td>8.000000</td>\n",
              "      <td>0.997333</td>\n",
              "      <td>1143.0</td>\n",
              "      <td>3.048000</td>\n",
              "      <td>34.04</td>\n",
              "      <td>-118.50</td>\n",
              "      <td>5.00001</td>\n",
              "    </tr>\n",
              "    <tr>\n",
              "      <th>8879</th>\n",
              "      <td>8.3839</td>\n",
              "      <td>52.0</td>\n",
              "      <td>8.061372</td>\n",
              "      <td>1.144404</td>\n",
              "      <td>769.0</td>\n",
              "      <td>2.776173</td>\n",
              "      <td>34.04</td>\n",
              "      <td>-118.50</td>\n",
              "      <td>5.00001</td>\n",
              "    </tr>\n",
              "    <tr>\n",
              "      <th>16941</th>\n",
              "      <td>6.9533</td>\n",
              "      <td>44.0</td>\n",
              "      <td>7.608025</td>\n",
              "      <td>1.012346</td>\n",
              "      <td>843.0</td>\n",
              "      <td>2.601852</td>\n",
              "      <td>37.55</td>\n",
              "      <td>-122.34</td>\n",
              "      <td>5.00001</td>\n",
              "    </tr>\n",
              "    <tr>\n",
              "      <th>16940</th>\n",
              "      <td>9.3694</td>\n",
              "      <td>51.0</td>\n",
              "      <td>8.300971</td>\n",
              "      <td>1.074434</td>\n",
              "      <td>870.0</td>\n",
              "      <td>2.815534</td>\n",
              "      <td>37.55</td>\n",
              "      <td>-122.33</td>\n",
              "      <td>5.00001</td>\n",
              "    </tr>\n",
              "    <tr>\n",
              "      <th>16939</th>\n",
              "      <td>4.6406</td>\n",
              "      <td>50.0</td>\n",
              "      <td>6.100000</td>\n",
              "      <td>1.056098</td>\n",
              "      <td>1050.0</td>\n",
              "      <td>2.560976</td>\n",
              "      <td>37.55</td>\n",
              "      <td>-122.32</td>\n",
              "      <td>5.00001</td>\n",
              "    </tr>\n",
              "    <tr>\n",
              "      <th>16938</th>\n",
              "      <td>10.0743</td>\n",
              "      <td>50.0</td>\n",
              "      <td>7.868526</td>\n",
              "      <td>0.976096</td>\n",
              "      <td>644.0</td>\n",
              "      <td>2.565737</td>\n",
              "      <td>37.56</td>\n",
              "      <td>-122.33</td>\n",
              "      <td>5.00001</td>\n",
              "    </tr>\n",
              "    <tr>\n",
              "      <th>8880</th>\n",
              "      <td>4.8125</td>\n",
              "      <td>31.0</td>\n",
              "      <td>4.684332</td>\n",
              "      <td>1.095622</td>\n",
              "      <td>1532.0</td>\n",
              "      <td>1.764977</td>\n",
              "      <td>34.04</td>\n",
              "      <td>-118.49</td>\n",
              "      <td>5.00001</td>\n",
              "    </tr>\n",
              "    <tr>\n",
              "      <th>16936</th>\n",
              "      <td>5.5490</td>\n",
              "      <td>49.0</td>\n",
              "      <td>7.000000</td>\n",
              "      <td>1.038194</td>\n",
              "      <td>691.0</td>\n",
              "      <td>2.399306</td>\n",
              "      <td>37.56</td>\n",
              "      <td>-122.32</td>\n",
              "      <td>5.00001</td>\n",
              "    </tr>\n",
              "    <tr>\n",
              "      <th>16935</th>\n",
              "      <td>3.4902</td>\n",
              "      <td>34.0</td>\n",
              "      <td>4.274064</td>\n",
              "      <td>1.082219</td>\n",
              "      <td>2400.0</td>\n",
              "      <td>1.604278</td>\n",
              "      <td>37.56</td>\n",
              "      <td>-122.33</td>\n",
              "      <td>5.00001</td>\n",
              "    </tr>\n",
              "    <tr>\n",
              "      <th>8882</th>\n",
              "      <td>11.7045</td>\n",
              "      <td>40.0</td>\n",
              "      <td>7.764045</td>\n",
              "      <td>0.938202</td>\n",
              "      <td>483.0</td>\n",
              "      <td>2.713483</td>\n",
              "      <td>34.04</td>\n",
              "      <td>-118.51</td>\n",
              "      <td>5.00001</td>\n",
              "    </tr>\n",
              "    <tr>\n",
              "      <th>16918</th>\n",
              "      <td>10.4286</td>\n",
              "      <td>52.0</td>\n",
              "      <td>7.919708</td>\n",
              "      <td>0.981752</td>\n",
              "      <td>784.0</td>\n",
              "      <td>2.861314</td>\n",
              "      <td>37.57</td>\n",
              "      <td>-122.35</td>\n",
              "      <td>5.00001</td>\n",
              "    </tr>\n",
              "    <tr>\n",
              "      <th>16917</th>\n",
              "      <td>8.2598</td>\n",
              "      <td>52.0</td>\n",
              "      <td>7.094708</td>\n",
              "      <td>1.038997</td>\n",
              "      <td>876.0</td>\n",
              "      <td>2.440111</td>\n",
              "      <td>37.57</td>\n",
              "      <td>-122.34</td>\n",
              "      <td>5.00001</td>\n",
              "    </tr>\n",
              "    <tr>\n",
              "      <th>16915</th>\n",
              "      <td>14.4219</td>\n",
              "      <td>52.0</td>\n",
              "      <td>8.253731</td>\n",
              "      <td>0.950249</td>\n",
              "      <td>519.0</td>\n",
              "      <td>2.582090</td>\n",
              "      <td>37.56</td>\n",
              "      <td>-122.35</td>\n",
              "      <td>5.00001</td>\n",
              "    </tr>\n",
              "    <tr>\n",
              "      <th>16897</th>\n",
              "      <td>4.7404</td>\n",
              "      <td>43.0</td>\n",
              "      <td>5.855140</td>\n",
              "      <td>1.009346</td>\n",
              "      <td>967.0</td>\n",
              "      <td>2.259346</td>\n",
              "      <td>37.58</td>\n",
              "      <td>-122.37</td>\n",
              "      <td>5.00001</td>\n",
              "    </tr>\n",
              "    <tr>\n",
              "      <th>16914</th>\n",
              "      <td>10.1675</td>\n",
              "      <td>23.0</td>\n",
              "      <td>8.834286</td>\n",
              "      <td>1.067143</td>\n",
              "      <td>2165.0</td>\n",
              "      <td>3.092857</td>\n",
              "      <td>37.54</td>\n",
              "      <td>-122.36</td>\n",
              "      <td>5.00001</td>\n",
              "    </tr>\n",
              "    <tr>\n",
              "      <th>16913</th>\n",
              "      <td>13.3913</td>\n",
              "      <td>25.0</td>\n",
              "      <td>8.869048</td>\n",
              "      <td>1.027778</td>\n",
              "      <td>1507.0</td>\n",
              "      <td>2.990079</td>\n",
              "      <td>37.55</td>\n",
              "      <td>-122.34</td>\n",
              "      <td>5.00001</td>\n",
              "    </tr>\n",
              "  </tbody>\n",
              "</table>\n",
              "</div>\n",
              "      <button class=\"colab-df-convert\" onclick=\"convertToInteractive('df-f423957d-5074-49d8-b586-af6c0cacfb24')\"\n",
              "              title=\"Convert this dataframe to an interactive table.\"\n",
              "              style=\"display:none;\">\n",
              "        \n",
              "  <svg xmlns=\"http://www.w3.org/2000/svg\" height=\"24px\"viewBox=\"0 0 24 24\"\n",
              "       width=\"24px\">\n",
              "    <path d=\"M0 0h24v24H0V0z\" fill=\"none\"/>\n",
              "    <path d=\"M18.56 5.44l.94 2.06.94-2.06 2.06-.94-2.06-.94-.94-2.06-.94 2.06-2.06.94zm-11 1L8.5 8.5l.94-2.06 2.06-.94-2.06-.94L8.5 2.5l-.94 2.06-2.06.94zm10 10l.94 2.06.94-2.06 2.06-.94-2.06-.94-.94-2.06-.94 2.06-2.06.94z\"/><path d=\"M17.41 7.96l-1.37-1.37c-.4-.4-.92-.59-1.43-.59-.52 0-1.04.2-1.43.59L10.3 9.45l-7.72 7.72c-.78.78-.78 2.05 0 2.83L4 21.41c.39.39.9.59 1.41.59.51 0 1.02-.2 1.41-.59l7.78-7.78 2.81-2.81c.8-.78.8-2.07 0-2.86zM5.41 20L4 18.59l7.72-7.72 1.47 1.35L5.41 20z\"/>\n",
              "  </svg>\n",
              "      </button>\n",
              "      \n",
              "  <style>\n",
              "    .colab-df-container {\n",
              "      display:flex;\n",
              "      flex-wrap:wrap;\n",
              "      gap: 12px;\n",
              "    }\n",
              "\n",
              "    .colab-df-convert {\n",
              "      background-color: #E8F0FE;\n",
              "      border: none;\n",
              "      border-radius: 50%;\n",
              "      cursor: pointer;\n",
              "      display: none;\n",
              "      fill: #1967D2;\n",
              "      height: 32px;\n",
              "      padding: 0 0 0 0;\n",
              "      width: 32px;\n",
              "    }\n",
              "\n",
              "    .colab-df-convert:hover {\n",
              "      background-color: #E2EBFA;\n",
              "      box-shadow: 0px 1px 2px rgba(60, 64, 67, 0.3), 0px 1px 3px 1px rgba(60, 64, 67, 0.15);\n",
              "      fill: #174EA6;\n",
              "    }\n",
              "\n",
              "    [theme=dark] .colab-df-convert {\n",
              "      background-color: #3B4455;\n",
              "      fill: #D2E3FC;\n",
              "    }\n",
              "\n",
              "    [theme=dark] .colab-df-convert:hover {\n",
              "      background-color: #434B5C;\n",
              "      box-shadow: 0px 1px 3px 1px rgba(0, 0, 0, 0.15);\n",
              "      filter: drop-shadow(0px 1px 2px rgba(0, 0, 0, 0.3));\n",
              "      fill: #FFFFFF;\n",
              "    }\n",
              "  </style>\n",
              "\n",
              "      <script>\n",
              "        const buttonEl =\n",
              "          document.querySelector('#df-f423957d-5074-49d8-b586-af6c0cacfb24 button.colab-df-convert');\n",
              "        buttonEl.style.display =\n",
              "          google.colab.kernel.accessAllowed ? 'block' : 'none';\n",
              "\n",
              "        async function convertToInteractive(key) {\n",
              "          const element = document.querySelector('#df-f423957d-5074-49d8-b586-af6c0cacfb24');\n",
              "          const dataTable =\n",
              "            await google.colab.kernel.invokeFunction('convertToInteractive',\n",
              "                                                     [key], {});\n",
              "          if (!dataTable) return;\n",
              "\n",
              "          const docLinkHtml = 'Like what you see? Visit the ' +\n",
              "            '<a target=\"_blank\" href=https://colab.research.google.com/notebooks/data_table.ipynb>data table notebook</a>'\n",
              "            + ' to learn more about interactive tables.';\n",
              "          element.innerHTML = '';\n",
              "          dataTable['output_type'] = 'display_data';\n",
              "          await google.colab.output.renderOutput(dataTable, element);\n",
              "          const docLink = document.createElement('div');\n",
              "          docLink.innerHTML = docLinkHtml;\n",
              "          element.appendChild(docLink);\n",
              "        }\n",
              "      </script>\n",
              "    </div>\n",
              "  </div>\n",
              "  "
            ]
          },
          "metadata": {},
          "execution_count": 29
        }
      ]
    },
    {
      "cell_type": "code",
      "source": [
        "non_top_1_perc = df.sort_values('SalePrice', ascending=False).iloc[2000:]"
      ],
      "metadata": {
        "id": "QAvXm8CuTkTJ"
      },
      "execution_count": null,
      "outputs": []
    },
    {
      "cell_type": "code",
      "source": [
        "sns.scatterplot(x='Longitude', y='Latitude', data=non_top_1_perc, hue='SalePrice', \n",
        "                edgecolor=None, alpha=0.2, palette='RdYlGn')"
      ],
      "metadata": {
        "colab": {
          "base_uri": "https://localhost:8080/",
          "height": 296
        },
        "id": "mHaf5hrsTGMX",
        "outputId": "e704d045-fcbb-4bbc-f110-3632e15ed69c"
      },
      "execution_count": null,
      "outputs": [
        {
          "output_type": "execute_result",
          "data": {
            "text/plain": [
              "<matplotlib.axes._subplots.AxesSubplot at 0x7f21397ddf90>"
            ]
          },
          "metadata": {},
          "execution_count": 45
        },
        {
          "output_type": "display_data",
          "data": {
            "text/plain": [
              "<Figure size 432x288 with 1 Axes>"
            ],
            "image/png": "[encoded data removed]"
          },
          "metadata": {
            "needs_background": "light"
          }
        }
      ]
    },
    {
      "cell_type": "code",
      "source": [
        "df.head()"
      ],
      "metadata": {
        "colab": {
          "base_uri": "https://localhost:8080/",
          "height": 562
        },
        "id": "5zVVvcEOUW5O",
        "outputId": "166b7450-d7a6-430a-cef3-482c0f19e274"
      },
      "execution_count": null,
      "outputs": [
        {
          "output_type": "execute_result",
          "data": {
            "text/plain": [
              "   MedInc  HouseAge  AveRooms  AveBedrms  Population  AveOccup  Latitude  \\\n",
              "0  8.3252      41.0  6.984127   1.023810       322.0  2.555556     37.88   \n",
              "1  8.3014      21.0  6.238137   0.971880      2401.0  2.109842     37.86   \n",
              "2  7.2574      52.0  8.288136   1.073446       496.0  2.802260     37.85   \n",
              "3  5.6431      52.0  5.817352   1.073059       558.0  2.547945     37.85   \n",
              "4  3.8462      52.0  6.281853   1.081081       565.0  2.181467     37.85   \n",
              "\n",
              "   Longitude  SalePrice  \n",
              "0    -122.23      4.526  \n",
              "1    -122.22      3.585  \n",
              "2    -122.24      3.521  \n",
              "3    -122.25      3.413  \n",
              "4    -122.25      3.422  "
            ],
            "text/html": [
              "\n",
              "  <div id=\"df-5900f519-20df-4dde-a4a5-72f7f02f916d\">\n",
              "    <div class=\"colab-df-container\">\n",
              "      <div>\n",
              "<style scoped>\n",
              "    .dataframe tbody tr th:only-of-type {\n",
              "        vertical-align: middle;\n",
              "    }\n",
              "\n",
              "    .dataframe tbody tr th {\n",
              "        vertical-align: top;\n",
              "    }\n",
              "\n",
              "    .dataframe thead th {\n",
              "        text-align: right;\n",
              "    }\n",
              "</style>\n",
              "<table border=\"1\" class=\"dataframe\">\n",
              "  <thead>\n",
              "    <tr style=\"text-align: right;\">\n",
              "      <th></th>\n",
              "      <th>MedInc</th>\n",
              "      <th>HouseAge</th>\n",
              "      <th>AveRooms</th>\n",
              "      <th>AveBedrms</th>\n",
              "      <th>Population</th>\n",
              "      <th>AveOccup</th>\n",
              "      <th>Latitude</th>\n",
              "      <th>Longitude</th>\n",
              "      <th>SalePrice</th>\n",
              "    </tr>\n",
              "  </thead>\n",
              "  <tbody>\n",
              "    <tr>\n",
              "      <th>0</th>\n",
              "      <td>8.3252</td>\n",
              "      <td>41.0</td>\n",
              "      <td>6.984127</td>\n",
              "      <td>1.023810</td>\n",
              "      <td>322.0</td>\n",
              "      <td>2.555556</td>\n",
              "      <td>37.88</td>\n",
              "      <td>-122.23</td>\n",
              "      <td>4.526</td>\n",
              "    </tr>\n",
              "    <tr>\n",
              "      <th>1</th>\n",
              "      <td>8.3014</td>\n",
              "      <td>21.0</td>\n",
              "      <td>6.238137</td>\n",
              "      <td>0.971880</td>\n",
              "      <td>2401.0</td>\n",
              "      <td>2.109842</td>\n",
              "      <td>37.86</td>\n",
              "      <td>-122.22</td>\n",
              "      <td>3.585</td>\n",
              "    </tr>\n",
              "    <tr>\n",
              "      <th>2</th>\n",
              "      <td>7.2574</td>\n",
              "      <td>52.0</td>\n",
              "      <td>8.288136</td>\n",
              "      <td>1.073446</td>\n",
              "      <td>496.0</td>\n",
              "      <td>2.802260</td>\n",
              "      <td>37.85</td>\n",
              "      <td>-122.24</td>\n",
              "      <td>3.521</td>\n",
              "    </tr>\n",
              "    <tr>\n",
              "      <th>3</th>\n",
              "      <td>5.6431</td>\n",
              "      <td>52.0</td>\n",
              "      <td>5.817352</td>\n",
              "      <td>1.073059</td>\n",
              "      <td>558.0</td>\n",
              "      <td>2.547945</td>\n",
              "      <td>37.85</td>\n",
              "      <td>-122.25</td>\n",
              "      <td>3.413</td>\n",
              "    </tr>\n",
              "    <tr>\n",
              "      <th>4</th>\n",
              "      <td>3.8462</td>\n",
              "      <td>52.0</td>\n",
              "      <td>6.281853</td>\n",
              "      <td>1.081081</td>\n",
              "      <td>565.0</td>\n",
              "      <td>2.181467</td>\n",
              "      <td>37.85</td>\n",
              "      <td>-122.25</td>\n",
              "      <td>3.422</td>\n",
              "    </tr>\n",
              "  </tbody>\n",
              "</table>\n",
              "</div>\n",
              "      <button class=\"colab-df-convert\" onclick=\"convertToInteractive('df-5900f519-20df-4dde-a4a5-72f7f02f916d')\"\n",
              "              title=\"Convert this dataframe to an interactive table.\"\n",
              "              style=\"display:none;\">\n",
              "        \n",
              "  <svg xmlns=\"http://www.w3.org/2000/svg\" height=\"24px\"viewBox=\"0 0 24 24\"\n",
              "       width=\"24px\">\n",
              "    <path d=\"M0 0h24v24H0V0z\" fill=\"none\"/>\n",
              "    <path d=\"M18.56 5.44l.94 2.06.94-2.06 2.06-.94-2.06-.94-.94-2.06-.94 2.06-2.06.94zm-11 1L8.5 8.5l.94-2.06 2.06-.94-2.06-.94L8.5 2.5l-.94 2.06-2.06.94zm10 10l.94 2.06.94-2.06 2.06-.94-2.06-.94-.94-2.06-.94 2.06-2.06.94z\"/><path d=\"M17.41 7.96l-1.37-1.37c-.4-.4-.92-.59-1.43-.59-.52 0-1.04.2-1.43.59L10.3 9.45l-7.72 7.72c-.78.78-.78 2.05 0 2.83L4 21.41c.39.39.9.59 1.41.59.51 0 1.02-.2 1.41-.59l7.78-7.78 2.81-2.81c.8-.78.8-2.07 0-2.86zM5.41 20L4 18.59l7.72-7.72 1.47 1.35L5.41 20z\"/>\n",
              "  </svg>\n",
              "      </button>\n",
              "      \n",
              "  <style>\n",
              "    .colab-df-container {\n",
              "      display:flex;\n",
              "      flex-wrap:wrap;\n",
              "      gap: 12px;\n",
              "    }\n",
              "\n",
              "    .colab-df-convert {\n",
              "      background-color: #E8F0FE;\n",
              "      border: none;\n",
              "      border-radius: 50%;\n",
              "      cursor: pointer;\n",
              "      display: none;\n",
              "      fill: #1967D2;\n",
              "      height: 32px;\n",
              "      padding: 0 0 0 0;\n",
              "      width: 32px;\n",
              "    }\n",
              "\n",
              "    .colab-df-convert:hover {\n",
              "      background-color: #E2EBFA;\n",
              "      box-shadow: 0px 1px 2px rgba(60, 64, 67, 0.3), 0px 1px 3px 1px rgba(60, 64, 67, 0.15);\n",
              "      fill: #174EA6;\n",
              "    }\n",
              "\n",
              "    [theme=dark] .colab-df-convert {\n",
              "      background-color: #3B4455;\n",
              "      fill: #D2E3FC;\n",
              "    }\n",
              "\n",
              "    [theme=dark] .colab-df-convert:hover {\n",
              "      background-color: #434B5C;\n",
              "      box-shadow: 0px 1px 3px 1px rgba(0, 0, 0, 0.15);\n",
              "      filter: drop-shadow(0px 1px 2px rgba(0, 0, 0, 0.3));\n",
              "      fill: #FFFFFF;\n",
              "    }\n",
              "  </style>\n",
              "\n",
              "      <script>\n",
              "        const buttonEl =\n",
              "          document.querySelector('#df-5900f519-20df-4dde-a4a5-72f7f02f916d button.colab-df-convert');\n",
              "        buttonEl.style.display =\n",
              "          google.colab.kernel.accessAllowed ? 'block' : 'none';\n",
              "\n",
              "        async function convertToInteractive(key) {\n",
              "          const element = document.querySelector('#df-5900f519-20df-4dde-a4a5-72f7f02f916d');\n",
              "          const dataTable =\n",
              "            await google.colab.kernel.invokeFunction('convertToInteractive',\n",
              "                                                     [key], {});\n",
              "          if (!dataTable) return;\n",
              "\n",
              "          const docLinkHtml = 'Like what you see? Visit the ' +\n",
              "            '<a target=\"_blank\" href=https://colab.research.google.com/notebooks/data_table.ipynb>data table notebook</a>'\n",
              "            + ' to learn more about interactive tables.';\n",
              "          element.innerHTML = '';\n",
              "          dataTable['output_type'] = 'display_data';\n",
              "          await google.colab.output.renderOutput(dataTable, element);\n",
              "          const docLink = document.createElement('div');\n",
              "          docLink.innerHTML = docLinkHtml;\n",
              "          element.appendChild(docLink);\n",
              "        }\n",
              "      </script>\n",
              "    </div>\n",
              "  </div>\n",
              "  "
            ]
          },
          "metadata": {},
          "execution_count": 46
        }
      ]
    },
    {
      "cell_type": "code",
      "source": [
        "X = df.drop('SalePrice', axis=1).values\n",
        "y = df['SalePrice'].values"
      ],
      "metadata": {
        "id": "wk986x3PVPgt"
      },
      "execution_count": null,
      "outputs": []
    },
    {
      "cell_type": "code",
      "source": [
        "from sklearn.model_selection import train_test_split"
      ],
      "metadata": {
        "id": "45HfYGr6WTE1"
      },
      "execution_count": null,
      "outputs": []
    },
    {
      "cell_type": "code",
      "source": [
        "X_train, X_test, y_train, y_test = train_test_split(X, y, test_size=0.3, random_state=101)"
      ],
      "metadata": {
        "id": "GND-dNaSWacz"
      },
      "execution_count": null,
      "outputs": []
    },
    {
      "cell_type": "code",
      "source": [
        "from sklearn.preprocessing import MinMaxScaler"
      ],
      "metadata": {
        "id": "PZ7dduTZXwMg"
      },
      "execution_count": null,
      "outputs": []
    },
    {
      "cell_type": "code",
      "source": [
        "scaler = MinMaxScaler()"
      ],
      "metadata": {
        "id": "r3bfr5IcX9q4"
      },
      "execution_count": null,
      "outputs": []
    },
    {
      "cell_type": "code",
      "source": [
        "X_train = scaler.fit_transform(X_train)"
      ],
      "metadata": {
        "colab": {
          "base_uri": "https://localhost:8080/"
        },
        "id": "kQ4IHJRGYCl_",
        "outputId": "7025f86a-d501-428b-cf71-2f4fc63b6886"
      },
      "execution_count": null,
      "outputs": [
        {
          "output_type": "execute_result",
          "data": {
            "text/plain": [
              "array([[   2.5663    ,   19.        ,    3.90042674, ...,    1.98577525,\n",
              "          34.1       , -118.13      ],\n",
              "       [   1.1528    ,   32.        ,    5.10344828, ...,    2.7816092 ,\n",
              "          35.27      , -118.99      ],\n",
              "       [   3.5865    ,   35.        ,    5.37297297, ...,    3.25405405,\n",
              "          33.89      , -118.1       ],\n",
              "       ...,\n",
              "       [   6.1463    ,    6.        ,    7.18126273, ...,    2.80651731,\n",
              "          37.3       , -121.76      ],\n",
              "       [   3.2813    ,   36.        ,    3.94312796, ...,    2.58293839,\n",
              "          37.35      , -121.95      ],\n",
              "       [   2.6719    ,   23.        ,    5.15975422, ...,    2.86021505,\n",
              "          36.85      , -121.53      ]])"
            ]
          },
          "metadata": {},
          "execution_count": 54
        }
      ]
    },
    {
      "cell_type": "code",
      "source": [
        "X_test = scaler.fit_transform(X_test)"
      ],
      "metadata": {
        "id": "_HSAa2wFYS-G"
      },
      "execution_count": null,
      "outputs": []
    },
    {
      "cell_type": "code",
      "source": [
        "from tensorflow.keras.models import Sequential\n",
        "from tensorflow.keras.layers import Dense"
      ],
      "metadata": {
        "id": "l7nw0x89pvP8"
      },
      "execution_count": null,
      "outputs": []
    },
    {
      "cell_type": "code",
      "source": [
        "X_train.shape"
      ],
      "metadata": {
        "colab": {
          "base_uri": "https://localhost:8080/"
        },
        "id": "t1scvoXxp134",
        "outputId": "27786ddf-0128-4acc-d452-7898b7b0f0af"
      },
      "execution_count": null,
      "outputs": [
        {
          "output_type": "execute_result",
          "data": {
            "text/plain": [
              "(14448, 8)"
            ]
          },
          "metadata": {},
          "execution_count": 58
        }
      ]
    },
    {
      "cell_type": "code",
      "source": [
        "model = Sequential()\n",
        "model.add(Dense(8, activation='relu'))\n",
        "model.add(Dense(8, activation='relu'))\n",
        "model.add(Dense(8, activation='relu'))\n",
        "model.add(Dense(8, activation='relu'))\n",
        "model.add(Dense(1, activation='relu'))\n",
        "model.compile(optimizer='adam',loss='mse')"
      ],
      "metadata": {
        "id": "fqH1fILLp6GC"
      },
      "execution_count": null,
      "outputs": []
    },
    {
      "cell_type": "code",
      "source": [
        "model.fit(x=X_train, y=y_train, \n",
        "          validation_data= (X_test, y_test),\n",
        "          batch_size= 128, epochs=400)"
      ],
      "metadata": {
        "colab": {
          "base_uri": "https://localhost:8080/"
        },
        "id": "pvG8KcY3qHiQ",
        "outputId": "4aa16b90-2ed4-4c0a-cfcc-6719d8670336"
      },
      "execution_count": null,
      "outputs": [
        {
          "output_type": "stream",
          "name": "stdout",
          "text": [
            "Epoch 1/400\n",
            "113/113 [==============================] - 1s 5ms/step - loss: 1.3059 - val_loss: 5.2802\n",
            "Epoch 2/400\n",
            "113/113 [==============================] - 1s 5ms/step - loss: 1.2861 - val_loss: 5.3618\n",
            "Epoch 3/400\n",
            "113/113 [==============================] - 1s 5ms/step - loss: 1.2763 - val_loss: 5.6085\n",
            "Epoch 4/400\n",
            "113/113 [==============================] - 1s 5ms/step - loss: 1.2685 - val_loss: 5.5687\n",
            "Epoch 5/400\n",
            "113/113 [==============================] - 0s 4ms/step - loss: 1.2599 - val_loss: 5.6056\n",
            "Epoch 6/400\n",
            "113/113 [==============================] - 1s 5ms/step - loss: 1.2508 - val_loss: 5.6604\n",
            "Epoch 7/400\n",
            "113/113 [==============================] - 0s 4ms/step - loss: 1.2432 - val_loss: 5.6656\n",
            "Epoch 8/400\n",
            "113/113 [==============================] - 0s 4ms/step - loss: 1.2341 - val_loss: 5.6656\n",
            "Epoch 9/400\n",
            "113/113 [==============================] - 1s 5ms/step - loss: 1.2222 - val_loss: 5.6656\n",
            "Epoch 10/400\n",
            "113/113 [==============================] - 1s 5ms/step - loss: 1.2130 - val_loss: 5.6656\n",
            "Epoch 11/400\n",
            "113/113 [==============================] - 1s 5ms/step - loss: 1.2049 - val_loss: 5.6656\n",
            "Epoch 12/400\n",
            "113/113 [==============================] - 1s 4ms/step - loss: 1.1817 - val_loss: 5.6656\n",
            "Epoch 13/400\n",
            "113/113 [==============================] - 1s 5ms/step - loss: 1.2023 - val_loss: 5.6656\n",
            "Epoch 14/400\n",
            "113/113 [==============================] - 1s 5ms/step - loss: 1.1459 - val_loss: 5.6656\n",
            "Epoch 15/400\n",
            "113/113 [==============================] - 1s 4ms/step - loss: 1.1282 - val_loss: 5.6656\n",
            "Epoch 16/400\n",
            "113/113 [==============================] - 1s 5ms/step - loss: 1.0978 - val_loss: 5.6656\n",
            "Epoch 17/400\n",
            "113/113 [==============================] - 1s 5ms/step - loss: 1.0662 - val_loss: 5.6656\n",
            "Epoch 18/400\n",
            "113/113 [==============================] - 1s 5ms/step - loss: 1.0249 - val_loss: 5.6656\n",
            "Epoch 19/400\n",
            "113/113 [==============================] - 1s 5ms/step - loss: 0.9784 - val_loss: 5.6656\n",
            "Epoch 20/400\n",
            "113/113 [==============================] - 1s 5ms/step - loss: 0.9099 - val_loss: 5.6656\n",
            "Epoch 21/400\n",
            "113/113 [==============================] - 0s 4ms/step - loss: 0.8190 - val_loss: 5.6656\n",
            "Epoch 22/400\n",
            "113/113 [==============================] - 0s 4ms/step - loss: 0.7358 - val_loss: 5.6656\n",
            "Epoch 23/400\n",
            "113/113 [==============================] - 0s 4ms/step - loss: 0.6764 - val_loss: 5.6656\n",
            "Epoch 24/400\n",
            "113/113 [==============================] - 1s 5ms/step - loss: 0.6454 - val_loss: 5.6656\n",
            "Epoch 25/400\n",
            "113/113 [==============================] - 1s 4ms/step - loss: 0.6277 - val_loss: 5.6656\n",
            "Epoch 26/400\n",
            "113/113 [==============================] - 1s 5ms/step - loss: 0.6205 - val_loss: 5.6656\n",
            "Epoch 27/400\n",
            "113/113 [==============================] - 1s 5ms/step - loss: 0.6050 - val_loss: 5.6656\n",
            "Epoch 28/400\n",
            "113/113 [==============================] - 1s 5ms/step - loss: 0.6063 - val_loss: 5.6656\n",
            "Epoch 29/400\n",
            "113/113 [==============================] - 1s 5ms/step - loss: 0.6164 - val_loss: 5.6656\n",
            "Epoch 30/400\n",
            "113/113 [==============================] - 1s 5ms/step - loss: 0.6039 - val_loss: 5.6656\n",
            "Epoch 31/400\n",
            "113/113 [==============================] - 1s 5ms/step - loss: 0.6040 - val_loss: 5.6656\n",
            "Epoch 32/400\n",
            "113/113 [==============================] - 1s 5ms/step - loss: 0.5845 - val_loss: 5.6656\n",
            "Epoch 33/400\n",
            "113/113 [==============================] - 1s 5ms/step - loss: 0.5870 - val_loss: 5.6656\n",
            "Epoch 34/400\n",
            "113/113 [==============================] - 1s 5ms/step - loss: 0.5837 - val_loss: 5.6656\n",
            "Epoch 35/400\n",
            "113/113 [==============================] - 1s 5ms/step - loss: 0.5875 - val_loss: 5.6656\n",
            "Epoch 36/400\n",
            "113/113 [==============================] - 0s 4ms/step - loss: 0.5813 - val_loss: 5.6656\n",
            "Epoch 37/400\n",
            "113/113 [==============================] - 1s 5ms/step - loss: 0.5750 - val_loss: 5.6656\n",
            "Epoch 38/400\n",
            "113/113 [==============================] - 1s 5ms/step - loss: 0.5803 - val_loss: 5.6656\n",
            "Epoch 39/400\n",
            "113/113 [==============================] - 1s 5ms/step - loss: 0.5790 - val_loss: 5.6656\n",
            "Epoch 40/400\n",
            "113/113 [==============================] - 0s 4ms/step - loss: 0.5699 - val_loss: 5.6656\n",
            "Epoch 41/400\n",
            "113/113 [==============================] - 1s 5ms/step - loss: 0.5666 - val_loss: 5.6656\n",
            "Epoch 42/400\n",
            "113/113 [==============================] - 1s 5ms/step - loss: 0.5639 - val_loss: 5.6656\n",
            "Epoch 43/400\n",
            "113/113 [==============================] - 1s 4ms/step - loss: 0.5649 - val_loss: 5.6656\n",
            "Epoch 44/400\n",
            "113/113 [==============================] - 0s 4ms/step - loss: 0.5628 - val_loss: 5.6656\n",
            "Epoch 45/400\n",
            "113/113 [==============================] - 1s 5ms/step - loss: 0.5592 - val_loss: 5.6656\n",
            "Epoch 46/400\n",
            "113/113 [==============================] - 1s 5ms/step - loss: 0.5539 - val_loss: 5.6656\n",
            "Epoch 47/400\n",
            "113/113 [==============================] - 1s 5ms/step - loss: 0.5515 - val_loss: 5.6656\n",
            "Epoch 48/400\n",
            "113/113 [==============================] - 1s 4ms/step - loss: 0.5546 - val_loss: 5.6656\n",
            "Epoch 49/400\n",
            "113/113 [==============================] - 1s 5ms/step - loss: 0.5569 - val_loss: 5.6656\n",
            "Epoch 50/400\n",
            "113/113 [==============================] - 1s 4ms/step - loss: 0.5516 - val_loss: 5.6656\n",
            "Epoch 51/400\n",
            "113/113 [==============================] - 1s 5ms/step - loss: 0.5539 - val_loss: 5.6656\n",
            "Epoch 52/400\n",
            "113/113 [==============================] - 1s 5ms/step - loss: 0.5538 - val_loss: 5.6656\n",
            "Epoch 53/400\n",
            "113/113 [==============================] - 1s 4ms/step - loss: 0.5418 - val_loss: 5.6656\n",
            "Epoch 54/400\n",
            "113/113 [==============================] - 0s 4ms/step - loss: 0.5452 - val_loss: 5.6656\n",
            "Epoch 55/400\n",
            "113/113 [==============================] - 1s 5ms/step - loss: 0.5555 - val_loss: 5.6656\n",
            "Epoch 56/400\n",
            "113/113 [==============================] - 1s 5ms/step - loss: 0.5380 - val_loss: 5.6656\n",
            "Epoch 57/400\n",
            "113/113 [==============================] - 1s 5ms/step - loss: 0.5413 - val_loss: 5.6656\n",
            "Epoch 58/400\n",
            "113/113 [==============================] - 1s 5ms/step - loss: 0.5482 - val_loss: 5.6656\n",
            "Epoch 59/400\n",
            "113/113 [==============================] - 1s 5ms/step - loss: 0.5416 - val_loss: 5.6656\n",
            "Epoch 60/400\n",
            "113/113 [==============================] - 1s 5ms/step - loss: 0.5370 - val_loss: 5.6656\n",
            "Epoch 61/400\n",
            "113/113 [==============================] - 1s 5ms/step - loss: 0.5337 - val_loss: 5.6656\n",
            "Epoch 62/400\n",
            "113/113 [==============================] - 0s 4ms/step - loss: 0.5371 - val_loss: 5.6656\n",
            "Epoch 63/400\n",
            "113/113 [==============================] - 0s 4ms/step - loss: 0.5398 - val_loss: 5.6656\n",
            "Epoch 64/400\n",
            "113/113 [==============================] - 0s 4ms/step - loss: 0.5444 - val_loss: 5.6656\n",
            "Epoch 65/400\n",
            "113/113 [==============================] - 0s 4ms/step - loss: 0.5321 - val_loss: 5.6656\n",
            "Epoch 66/400\n",
            "113/113 [==============================] - 1s 5ms/step - loss: 0.5350 - val_loss: 5.6656\n",
            "Epoch 67/400\n",
            "113/113 [==============================] - 1s 5ms/step - loss: 0.5273 - val_loss: 5.6656\n",
            "Epoch 68/400\n",
            "113/113 [==============================] - 1s 5ms/step - loss: 0.5321 - val_loss: 5.6656\n",
            "Epoch 69/400\n",
            "113/113 [==============================] - 1s 5ms/step - loss: 0.5539 - val_loss: 5.6656\n",
            "Epoch 70/400\n",
            "113/113 [==============================] - 1s 4ms/step - loss: 0.5239 - val_loss: 5.6656\n",
            "Epoch 71/400\n",
            "113/113 [==============================] - 1s 5ms/step - loss: 0.5275 - val_loss: 5.6656\n",
            "Epoch 72/400\n",
            "113/113 [==============================] - 1s 4ms/step - loss: 0.5253 - val_loss: 5.6656\n",
            "Epoch 73/400\n",
            "113/113 [==============================] - 1s 5ms/step - loss: 0.5226 - val_loss: 5.6656\n",
            "Epoch 74/400\n",
            "113/113 [==============================] - 1s 5ms/step - loss: 0.5231 - val_loss: 5.6656\n",
            "Epoch 75/400\n",
            "113/113 [==============================] - 1s 5ms/step - loss: 0.5216 - val_loss: 5.6656\n",
            "Epoch 76/400\n",
            "113/113 [==============================] - 1s 6ms/step - loss: 0.5557 - val_loss: 5.6656\n",
            "Epoch 77/400\n",
            "113/113 [==============================] - 1s 6ms/step - loss: 0.5224 - val_loss: 5.6656\n",
            "Epoch 78/400\n",
            "113/113 [==============================] - 1s 5ms/step - loss: 0.5248 - val_loss: 5.6656\n",
            "Epoch 79/400\n",
            "113/113 [==============================] - 0s 4ms/step - loss: 0.5220 - val_loss: 5.6656\n",
            "Epoch 80/400\n",
            "113/113 [==============================] - 1s 5ms/step - loss: 0.5122 - val_loss: 5.6656\n",
            "Epoch 81/400\n",
            "113/113 [==============================] - 1s 6ms/step - loss: 0.5164 - val_loss: 5.6656\n",
            "Epoch 82/400\n",
            "113/113 [==============================] - 0s 4ms/step - loss: 0.5230 - val_loss: 5.6656\n",
            "Epoch 83/400\n",
            "113/113 [==============================] - 0s 3ms/step - loss: 0.5137 - val_loss: 5.6656\n",
            "Epoch 84/400\n",
            "113/113 [==============================] - 0s 3ms/step - loss: 0.5183 - val_loss: 5.6656\n",
            "Epoch 85/400\n",
            "113/113 [==============================] - 0s 3ms/step - loss: 0.5162 - val_loss: 5.6656\n",
            "Epoch 86/400\n",
            "113/113 [==============================] - 0s 3ms/step - loss: 0.5124 - val_loss: 5.6656\n",
            "Epoch 87/400\n",
            "113/113 [==============================] - 0s 3ms/step - loss: 0.5224 - val_loss: 5.6656\n",
            "Epoch 88/400\n",
            "113/113 [==============================] - 0s 3ms/step - loss: 0.5110 - val_loss: 5.6656\n",
            "Epoch 89/400\n",
            "113/113 [==============================] - 0s 3ms/step - loss: 0.5054 - val_loss: 5.6656\n",
            "Epoch 90/400\n",
            "113/113 [==============================] - 0s 3ms/step - loss: 0.5127 - val_loss: 5.6656\n",
            "Epoch 91/400\n",
            "113/113 [==============================] - 0s 3ms/step - loss: 0.5117 - val_loss: 5.6656\n",
            "Epoch 92/400\n",
            "113/113 [==============================] - 0s 3ms/step - loss: 0.5032 - val_loss: 5.6656\n",
            "Epoch 93/400\n",
            "113/113 [==============================] - 0s 3ms/step - loss: 0.5057 - val_loss: 5.6656\n",
            "Epoch 94/400\n",
            "113/113 [==============================] - 0s 3ms/step - loss: 0.5033 - val_loss: 5.6656\n",
            "Epoch 95/400\n",
            "113/113 [==============================] - 0s 3ms/step - loss: 0.5123 - val_loss: 5.6656\n",
            "Epoch 96/400\n",
            "113/113 [==============================] - 0s 3ms/step - loss: 0.5132 - val_loss: 5.6656\n",
            "Epoch 97/400\n",
            "113/113 [==============================] - 0s 3ms/step - loss: 0.5029 - val_loss: 5.6656\n",
            "Epoch 98/400\n",
            "113/113 [==============================] - 0s 3ms/step - loss: 0.5103 - val_loss: 5.6656\n",
            "Epoch 99/400\n",
            "113/113 [==============================] - 0s 3ms/step - loss: 0.5187 - val_loss: 5.6656\n",
            "Epoch 100/400\n",
            "113/113 [==============================] - 0s 3ms/step - loss: 0.5161 - val_loss: 5.6656\n",
            "Epoch 101/400\n",
            "113/113 [==============================] - 0s 3ms/step - loss: 0.5020 - val_loss: 5.6656\n",
            "Epoch 102/400\n",
            "113/113 [==============================] - 0s 3ms/step - loss: 0.5037 - val_loss: 5.6655\n",
            "Epoch 103/400\n",
            "113/113 [==============================] - 0s 3ms/step - loss: 0.4974 - val_loss: 5.6655\n",
            "Epoch 104/400\n",
            "113/113 [==============================] - 0s 3ms/step - loss: 0.5006 - val_loss: 5.6648\n",
            "Epoch 105/400\n",
            "113/113 [==============================] - 0s 3ms/step - loss: 0.4949 - val_loss: 5.6644\n",
            "Epoch 106/400\n",
            "113/113 [==============================] - 0s 3ms/step - loss: 0.4932 - val_loss: 5.6592\n",
            "Epoch 107/400\n",
            "113/113 [==============================] - 0s 3ms/step - loss: 0.4947 - val_loss: 5.6210\n",
            "Epoch 108/400\n",
            "113/113 [==============================] - 0s 3ms/step - loss: 0.4966 - val_loss: 5.5402\n",
            "Epoch 109/400\n",
            "113/113 [==============================] - 0s 3ms/step - loss: 0.4903 - val_loss: 5.4667\n",
            "Epoch 110/400\n",
            "113/113 [==============================] - 0s 3ms/step - loss: 0.4929 - val_loss: 5.4123\n",
            "Epoch 111/400\n",
            "113/113 [==============================] - 0s 3ms/step - loss: 0.5009 - val_loss: 5.3199\n",
            "Epoch 112/400\n",
            "113/113 [==============================] - 0s 4ms/step - loss: 0.4959 - val_loss: 5.3036\n",
            "Epoch 113/400\n",
            "113/113 [==============================] - 0s 3ms/step - loss: 0.5006 - val_loss: 5.2357\n",
            "Epoch 114/400\n",
            "113/113 [==============================] - 0s 3ms/step - loss: 0.5015 - val_loss: 5.1427\n",
            "Epoch 115/400\n",
            "113/113 [==============================] - 0s 3ms/step - loss: 0.4910 - val_loss: 5.1033\n",
            "Epoch 116/400\n",
            "113/113 [==============================] - 0s 3ms/step - loss: 0.4903 - val_loss: 5.0700\n",
            "Epoch 117/400\n",
            "113/113 [==============================] - 0s 3ms/step - loss: 0.4874 - val_loss: 5.0000\n",
            "Epoch 118/400\n",
            "113/113 [==============================] - 0s 3ms/step - loss: 0.4859 - val_loss: 4.9207\n",
            "Epoch 119/400\n",
            "113/113 [==============================] - 0s 3ms/step - loss: 0.5006 - val_loss: 4.9380\n",
            "Epoch 120/400\n",
            "113/113 [==============================] - 1s 8ms/step - loss: 0.4893 - val_loss: 4.8595\n",
            "Epoch 121/400\n",
            "113/113 [==============================] - 0s 2ms/step - loss: 0.4884 - val_loss: 4.8184\n",
            "Epoch 122/400\n",
            "113/113 [==============================] - 0s 3ms/step - loss: 0.4965 - val_loss: 4.7641\n",
            "Epoch 123/400\n",
            "113/113 [==============================] - 0s 3ms/step - loss: 0.4832 - val_loss: 4.7229\n",
            "Epoch 124/400\n",
            "113/113 [==============================] - 0s 3ms/step - loss: 0.4861 - val_loss: 4.6416\n",
            "Epoch 125/400\n",
            "113/113 [==============================] - 0s 3ms/step - loss: 0.4873 - val_loss: 4.6190\n",
            "Epoch 126/400\n",
            "113/113 [==============================] - 0s 3ms/step - loss: 0.4923 - val_loss: 4.5437\n",
            "Epoch 127/400\n",
            "113/113 [==============================] - 0s 3ms/step - loss: 0.4935 - val_loss: 4.4799\n",
            "Epoch 128/400\n",
            "113/113 [==============================] - 0s 3ms/step - loss: 0.4786 - val_loss: 4.4223\n",
            "Epoch 129/400\n",
            "113/113 [==============================] - 0s 3ms/step - loss: 0.4793 - val_loss: 4.3785\n",
            "Epoch 130/400\n",
            "113/113 [==============================] - 0s 3ms/step - loss: 0.4818 - val_loss: 4.2954\n",
            "Epoch 131/400\n",
            "113/113 [==============================] - 0s 3ms/step - loss: 0.4899 - val_loss: 4.2360\n",
            "Epoch 132/400\n",
            "113/113 [==============================] - 0s 3ms/step - loss: 0.4853 - val_loss: 4.1325\n",
            "Epoch 133/400\n",
            "113/113 [==============================] - 0s 3ms/step - loss: 0.4821 - val_loss: 4.0809\n",
            "Epoch 134/400\n",
            "113/113 [==============================] - 0s 3ms/step - loss: 0.4783 - val_loss: 3.9852\n",
            "Epoch 135/400\n",
            "113/113 [==============================] - 0s 2ms/step - loss: 0.4726 - val_loss: 3.8929\n",
            "Epoch 136/400\n",
            "113/113 [==============================] - 0s 3ms/step - loss: 0.4761 - val_loss: 3.7935\n",
            "Epoch 137/400\n",
            "113/113 [==============================] - 0s 3ms/step - loss: 0.4752 - val_loss: 3.6749\n",
            "Epoch 138/400\n",
            "113/113 [==============================] - 0s 3ms/step - loss: 0.4770 - val_loss: 3.5806\n",
            "Epoch 139/400\n",
            "113/113 [==============================] - 0s 3ms/step - loss: 0.4705 - val_loss: 3.5019\n",
            "Epoch 140/400\n",
            "113/113 [==============================] - 0s 3ms/step - loss: 0.4711 - val_loss: 3.3773\n",
            "Epoch 141/400\n",
            "113/113 [==============================] - 0s 3ms/step - loss: 0.4749 - val_loss: 3.3320\n",
            "Epoch 142/400\n",
            "113/113 [==============================] - 0s 3ms/step - loss: 0.4771 - val_loss: 3.1312\n",
            "Epoch 143/400\n",
            "113/113 [==============================] - 0s 3ms/step - loss: 0.4700 - val_loss: 3.1588\n",
            "Epoch 144/400\n",
            "113/113 [==============================] - 0s 3ms/step - loss: 0.4690 - val_loss: 2.9269\n",
            "Epoch 145/400\n",
            "113/113 [==============================] - 0s 3ms/step - loss: 0.4675 - val_loss: 2.9086\n",
            "Epoch 146/400\n",
            "113/113 [==============================] - 0s 3ms/step - loss: 0.4740 - val_loss: 2.7938\n",
            "Epoch 147/400\n",
            "113/113 [==============================] - 0s 3ms/step - loss: 0.4703 - val_loss: 2.7444\n",
            "Epoch 148/400\n",
            "113/113 [==============================] - 0s 3ms/step - loss: 0.4611 - val_loss: 2.7227\n",
            "Epoch 149/400\n",
            "113/113 [==============================] - 0s 3ms/step - loss: 0.4638 - val_loss: 2.6688\n",
            "Epoch 150/400\n",
            "113/113 [==============================] - 0s 3ms/step - loss: 0.4649 - val_loss: 2.6505\n",
            "Epoch 151/400\n",
            "113/113 [==============================] - 0s 3ms/step - loss: 0.4682 - val_loss: 2.6611\n",
            "Epoch 152/400\n",
            "113/113 [==============================] - 0s 3ms/step - loss: 0.4630 - val_loss: 2.5771\n",
            "Epoch 153/400\n",
            "113/113 [==============================] - 0s 3ms/step - loss: 0.4678 - val_loss: 2.5771\n",
            "Epoch 154/400\n",
            "113/113 [==============================] - 0s 3ms/step - loss: 0.4804 - val_loss: 2.6002\n",
            "Epoch 155/400\n",
            "113/113 [==============================] - 0s 3ms/step - loss: 0.4704 - val_loss: 2.5449\n",
            "Epoch 156/400\n",
            "113/113 [==============================] - 0s 3ms/step - loss: 0.4635 - val_loss: 2.4831\n",
            "Epoch 157/400\n",
            "113/113 [==============================] - 0s 3ms/step - loss: 0.4771 - val_loss: 2.4332\n",
            "Epoch 158/400\n",
            "113/113 [==============================] - 0s 3ms/step - loss: 0.4641 - val_loss: 2.4220\n",
            "Epoch 159/400\n",
            "113/113 [==============================] - 0s 3ms/step - loss: 0.4616 - val_loss: 2.4089\n",
            "Epoch 160/400\n",
            "113/113 [==============================] - 0s 3ms/step - loss: 0.4651 - val_loss: 2.3930\n",
            "Epoch 161/400\n",
            "113/113 [==============================] - 0s 3ms/step - loss: 0.4662 - val_loss: 2.3910\n",
            "Epoch 162/400\n",
            "113/113 [==============================] - 0s 3ms/step - loss: 0.4749 - val_loss: 2.3876\n",
            "Epoch 163/400\n",
            "113/113 [==============================] - 0s 3ms/step - loss: 0.4597 - val_loss: 2.4053\n",
            "Epoch 164/400\n",
            "113/113 [==============================] - 0s 3ms/step - loss: 0.4761 - val_loss: 2.3776\n",
            "Epoch 165/400\n",
            "113/113 [==============================] - 0s 3ms/step - loss: 0.4628 - val_loss: 2.3853\n",
            "Epoch 166/400\n",
            "113/113 [==============================] - 0s 3ms/step - loss: 0.4682 - val_loss: 2.3204\n",
            "Epoch 167/400\n",
            "113/113 [==============================] - 0s 3ms/step - loss: 0.4617 - val_loss: 2.3946\n",
            "Epoch 168/400\n",
            "113/113 [==============================] - 0s 3ms/step - loss: 0.4612 - val_loss: 2.3567\n",
            "Epoch 169/400\n",
            "113/113 [==============================] - 0s 3ms/step - loss: 0.4654 - val_loss: 2.3499\n",
            "Epoch 170/400\n",
            "113/113 [==============================] - 0s 3ms/step - loss: 0.4648 - val_loss: 2.3600\n",
            "Epoch 171/400\n",
            "113/113 [==============================] - 0s 3ms/step - loss: 0.4620 - val_loss: 2.3921\n",
            "Epoch 172/400\n",
            "113/113 [==============================] - 0s 3ms/step - loss: 0.4679 - val_loss: 2.3694\n",
            "Epoch 173/400\n",
            "113/113 [==============================] - 0s 3ms/step - loss: 0.4619 - val_loss: 2.3696\n",
            "Epoch 174/400\n",
            "113/113 [==============================] - 0s 3ms/step - loss: 0.4595 - val_loss: 2.3899\n",
            "Epoch 175/400\n",
            "113/113 [==============================] - 0s 3ms/step - loss: 0.4609 - val_loss: 2.3862\n",
            "Epoch 176/400\n",
            "113/113 [==============================] - 0s 3ms/step - loss: 0.4648 - val_loss: 2.3632\n",
            "Epoch 177/400\n",
            "113/113 [==============================] - 0s 3ms/step - loss: 0.4688 - val_loss: 2.3660\n",
            "Epoch 178/400\n",
            "113/113 [==============================] - 0s 3ms/step - loss: 0.4595 - val_loss: 2.3930\n",
            "Epoch 179/400\n",
            "113/113 [==============================] - 0s 3ms/step - loss: 0.4604 - val_loss: 2.3699\n",
            "Epoch 180/400\n",
            "113/113 [==============================] - 0s 3ms/step - loss: 0.4675 - val_loss: 2.3705\n",
            "Epoch 181/400\n",
            "113/113 [==============================] - 0s 3ms/step - loss: 0.4616 - val_loss: 2.3815\n",
            "Epoch 182/400\n",
            "113/113 [==============================] - 0s 3ms/step - loss: 0.4626 - val_loss: 2.3943\n",
            "Epoch 183/400\n",
            "113/113 [==============================] - 0s 3ms/step - loss: 0.4702 - val_loss: 2.3839\n",
            "Epoch 184/400\n",
            "113/113 [==============================] - 0s 3ms/step - loss: 0.4597 - val_loss: 2.3905\n",
            "Epoch 185/400\n",
            "113/113 [==============================] - 0s 3ms/step - loss: 0.4637 - val_loss: 2.3816\n",
            "Epoch 186/400\n",
            "113/113 [==============================] - 0s 3ms/step - loss: 0.4627 - val_loss: 2.4183\n",
            "Epoch 187/400\n",
            "113/113 [==============================] - 0s 3ms/step - loss: 0.4590 - val_loss: 2.4419\n",
            "Epoch 188/400\n",
            "113/113 [==============================] - 0s 3ms/step - loss: 0.4599 - val_loss: 2.4062\n",
            "Epoch 189/400\n",
            "113/113 [==============================] - 0s 3ms/step - loss: 0.4628 - val_loss: 2.4123\n",
            "Epoch 190/400\n",
            "113/113 [==============================] - 0s 3ms/step - loss: 0.4600 - val_loss: 2.4166\n",
            "Epoch 191/400\n",
            "113/113 [==============================] - 0s 3ms/step - loss: 0.4643 - val_loss: 2.3820\n",
            "Epoch 192/400\n",
            "113/113 [==============================] - 0s 3ms/step - loss: 0.4574 - val_loss: 2.4214\n",
            "Epoch 193/400\n",
            "113/113 [==============================] - 0s 3ms/step - loss: 0.4642 - val_loss: 2.4614\n",
            "Epoch 194/400\n",
            "113/113 [==============================] - 0s 3ms/step - loss: 0.4615 - val_loss: 2.4294\n",
            "Epoch 195/400\n",
            "113/113 [==============================] - 0s 3ms/step - loss: 0.4654 - val_loss: 2.4191\n",
            "Epoch 196/400\n",
            "113/113 [==============================] - 0s 3ms/step - loss: 0.4633 - val_loss: 2.4727\n",
            "Epoch 197/400\n",
            "113/113 [==============================] - 0s 3ms/step - loss: 0.4607 - val_loss: 2.4661\n",
            "Epoch 198/400\n",
            "113/113 [==============================] - 0s 3ms/step - loss: 0.4565 - val_loss: 2.4883\n",
            "Epoch 199/400\n",
            "113/113 [==============================] - 0s 3ms/step - loss: 0.4579 - val_loss: 2.4453\n",
            "Epoch 200/400\n",
            "113/113 [==============================] - 0s 3ms/step - loss: 0.4679 - val_loss: 2.4428\n",
            "Epoch 201/400\n",
            "113/113 [==============================] - 0s 3ms/step - loss: 0.4653 - val_loss: 2.4457\n",
            "Epoch 202/400\n",
            "113/113 [==============================] - 0s 3ms/step - loss: 0.4588 - val_loss: 2.4475\n",
            "Epoch 203/400\n",
            "113/113 [==============================] - 0s 3ms/step - loss: 0.4551 - val_loss: 2.4471\n",
            "Epoch 204/400\n",
            "113/113 [==============================] - 0s 3ms/step - loss: 0.4568 - val_loss: 2.4680\n",
            "Epoch 205/400\n",
            "113/113 [==============================] - 0s 3ms/step - loss: 0.4632 - val_loss: 2.4237\n",
            "Epoch 206/400\n",
            "113/113 [==============================] - 0s 3ms/step - loss: 0.4606 - val_loss: 2.4451\n",
            "Epoch 207/400\n",
            "113/113 [==============================] - 0s 3ms/step - loss: 0.4617 - val_loss: 2.4450\n",
            "Epoch 208/400\n",
            "113/113 [==============================] - 0s 3ms/step - loss: 0.4545 - val_loss: 2.4455\n",
            "Epoch 209/400\n",
            "113/113 [==============================] - 0s 3ms/step - loss: 0.4579 - val_loss: 2.4451\n",
            "Epoch 210/400\n",
            "113/113 [==============================] - 0s 3ms/step - loss: 0.4632 - val_loss: 2.5089\n",
            "Epoch 211/400\n",
            "113/113 [==============================] - 0s 3ms/step - loss: 0.4590 - val_loss: 2.4721\n",
            "Epoch 212/400\n",
            "113/113 [==============================] - 0s 3ms/step - loss: 0.4583 - val_loss: 2.5463\n",
            "Epoch 213/400\n",
            "113/113 [==============================] - 0s 3ms/step - loss: 0.4572 - val_loss: 2.5508\n",
            "Epoch 214/400\n",
            "113/113 [==============================] - 0s 3ms/step - loss: 0.4603 - val_loss: 2.5196\n",
            "Epoch 215/400\n",
            "113/113 [==============================] - 0s 3ms/step - loss: 0.4606 - val_loss: 2.4761\n",
            "Epoch 216/400\n",
            "113/113 [==============================] - 0s 3ms/step - loss: 0.4627 - val_loss: 2.4358\n",
            "Epoch 217/400\n",
            "113/113 [==============================] - 0s 3ms/step - loss: 0.4597 - val_loss: 2.4968\n",
            "Epoch 218/400\n",
            "113/113 [==============================] - 0s 3ms/step - loss: 0.4549 - val_loss: 2.4915\n",
            "Epoch 219/400\n",
            "113/113 [==============================] - 0s 3ms/step - loss: 0.4603 - val_loss: 2.4424\n",
            "Epoch 220/400\n",
            "113/113 [==============================] - 0s 3ms/step - loss: 0.4569 - val_loss: 2.5072\n",
            "Epoch 221/400\n",
            "113/113 [==============================] - 0s 3ms/step - loss: 0.4553 - val_loss: 2.5056\n",
            "Epoch 222/400\n",
            "113/113 [==============================] - 0s 3ms/step - loss: 0.4623 - val_loss: 2.4791\n",
            "Epoch 223/400\n",
            "113/113 [==============================] - 0s 3ms/step - loss: 0.4578 - val_loss: 2.5164\n",
            "Epoch 224/400\n",
            "113/113 [==============================] - 0s 3ms/step - loss: 0.4518 - val_loss: 2.5543\n",
            "Epoch 225/400\n",
            "113/113 [==============================] - 0s 3ms/step - loss: 0.4565 - val_loss: 2.5248\n",
            "Epoch 226/400\n",
            "113/113 [==============================] - 0s 3ms/step - loss: 0.4535 - val_loss: 2.5015\n",
            "Epoch 227/400\n",
            "113/113 [==============================] - 0s 3ms/step - loss: 0.4622 - val_loss: 2.4264\n",
            "Epoch 228/400\n",
            "113/113 [==============================] - 0s 4ms/step - loss: 0.4539 - val_loss: 2.5013\n",
            "Epoch 229/400\n",
            "113/113 [==============================] - 0s 3ms/step - loss: 0.4568 - val_loss: 2.5076\n",
            "Epoch 230/400\n",
            "113/113 [==============================] - 0s 3ms/step - loss: 0.4572 - val_loss: 2.4497\n",
            "Epoch 231/400\n",
            "113/113 [==============================] - 0s 3ms/step - loss: 0.4583 - val_loss: 2.4682\n",
            "Epoch 232/400\n",
            "113/113 [==============================] - 0s 3ms/step - loss: 0.4539 - val_loss: 2.4442\n",
            "Epoch 233/400\n",
            "113/113 [==============================] - 0s 3ms/step - loss: 0.4584 - val_loss: 2.5026\n",
            "Epoch 234/400\n",
            "113/113 [==============================] - 0s 3ms/step - loss: 0.4508 - val_loss: 2.5417\n",
            "Epoch 235/400\n",
            "113/113 [==============================] - 0s 3ms/step - loss: 0.4564 - val_loss: 2.5152\n",
            "Epoch 236/400\n",
            "113/113 [==============================] - 0s 3ms/step - loss: 0.4587 - val_loss: 2.4480\n",
            "Epoch 237/400\n",
            "113/113 [==============================] - 0s 3ms/step - loss: 0.4672 - val_loss: 2.4831\n",
            "Epoch 238/400\n",
            "113/113 [==============================] - 0s 3ms/step - loss: 0.4688 - val_loss: 2.4417\n",
            "Epoch 239/400\n",
            "113/113 [==============================] - 0s 3ms/step - loss: 0.4587 - val_loss: 2.4742\n",
            "Epoch 240/400\n",
            "113/113 [==============================] - 0s 3ms/step - loss: 0.4599 - val_loss: 2.4433\n",
            "Epoch 241/400\n",
            "113/113 [==============================] - 0s 3ms/step - loss: 0.4591 - val_loss: 2.4592\n",
            "Epoch 242/400\n",
            "113/113 [==============================] - 0s 3ms/step - loss: 0.4552 - val_loss: 2.4694\n",
            "Epoch 243/400\n",
            "113/113 [==============================] - 0s 3ms/step - loss: 0.4596 - val_loss: 2.4573\n",
            "Epoch 244/400\n",
            "113/113 [==============================] - 0s 3ms/step - loss: 0.4722 - val_loss: 2.4347\n",
            "Epoch 245/400\n",
            "113/113 [==============================] - 0s 3ms/step - loss: 0.4657 - val_loss: 2.4620\n",
            "Epoch 246/400\n",
            "113/113 [==============================] - 0s 3ms/step - loss: 0.4524 - val_loss: 2.5337\n",
            "Epoch 247/400\n",
            "113/113 [==============================] - 0s 3ms/step - loss: 0.4535 - val_loss: 2.4904\n",
            "Epoch 248/400\n",
            "113/113 [==============================] - 0s 3ms/step - loss: 0.4533 - val_loss: 2.4783\n",
            "Epoch 249/400\n",
            "113/113 [==============================] - 0s 3ms/step - loss: 0.4573 - val_loss: 2.4452\n",
            "Epoch 250/400\n",
            "113/113 [==============================] - 0s 3ms/step - loss: 0.4526 - val_loss: 2.4031\n",
            "Epoch 251/400\n",
            "113/113 [==============================] - 0s 3ms/step - loss: 0.4537 - val_loss: 2.4764\n",
            "Epoch 252/400\n",
            "113/113 [==============================] - 0s 3ms/step - loss: 0.4535 - val_loss: 2.4530\n",
            "Epoch 253/400\n",
            "113/113 [==============================] - 0s 3ms/step - loss: 0.4650 - val_loss: 2.4627\n",
            "Epoch 254/400\n",
            "113/113 [==============================] - 0s 3ms/step - loss: 0.4560 - val_loss: 2.4208\n",
            "Epoch 255/400\n",
            "113/113 [==============================] - 0s 3ms/step - loss: 0.4532 - val_loss: 2.4490\n",
            "Epoch 256/400\n",
            "113/113 [==============================] - 0s 3ms/step - loss: 0.4561 - val_loss: 2.4531\n",
            "Epoch 257/400\n",
            "113/113 [==============================] - 0s 3ms/step - loss: 0.4571 - val_loss: 2.4307\n",
            "Epoch 258/400\n",
            "113/113 [==============================] - 0s 3ms/step - loss: 0.4560 - val_loss: 2.4631\n",
            "Epoch 259/400\n",
            "113/113 [==============================] - 0s 3ms/step - loss: 0.4551 - val_loss: 2.3875\n",
            "Epoch 260/400\n",
            "113/113 [==============================] - 0s 3ms/step - loss: 0.4592 - val_loss: 2.4651\n",
            "Epoch 261/400\n",
            "113/113 [==============================] - 0s 3ms/step - loss: 0.4584 - val_loss: 2.4064\n",
            "Epoch 262/400\n",
            "113/113 [==============================] - 0s 3ms/step - loss: 0.4633 - val_loss: 2.4760\n",
            "Epoch 263/400\n",
            "113/113 [==============================] - 0s 3ms/step - loss: 0.4513 - val_loss: 2.4221\n",
            "Epoch 264/400\n",
            "113/113 [==============================] - 0s 3ms/step - loss: 0.4571 - val_loss: 2.4439\n",
            "Epoch 265/400\n",
            "113/113 [==============================] - 0s 3ms/step - loss: 0.4543 - val_loss: 2.4162\n",
            "Epoch 266/400\n",
            "113/113 [==============================] - 0s 3ms/step - loss: 0.4592 - val_loss: 2.3904\n",
            "Epoch 267/400\n",
            "113/113 [==============================] - 0s 3ms/step - loss: 0.4564 - val_loss: 2.4565\n",
            "Epoch 268/400\n",
            "113/113 [==============================] - 0s 3ms/step - loss: 0.4614 - val_loss: 2.4156\n",
            "Epoch 269/400\n",
            "113/113 [==============================] - 0s 3ms/step - loss: 0.4671 - val_loss: 2.3880\n",
            "Epoch 270/400\n",
            "113/113 [==============================] - 0s 3ms/step - loss: 0.4587 - val_loss: 2.3647\n",
            "Epoch 271/400\n",
            "113/113 [==============================] - 0s 3ms/step - loss: 0.4562 - val_loss: 2.4123\n",
            "Epoch 272/400\n",
            "113/113 [==============================] - 0s 3ms/step - loss: 0.4544 - val_loss: 2.3914\n",
            "Epoch 273/400\n",
            "113/113 [==============================] - 0s 3ms/step - loss: 0.4579 - val_loss: 2.3429\n",
            "Epoch 274/400\n",
            "113/113 [==============================] - 0s 3ms/step - loss: 0.4632 - val_loss: 2.3875\n",
            "Epoch 275/400\n",
            "113/113 [==============================] - 0s 3ms/step - loss: 0.4586 - val_loss: 2.3819\n",
            "Epoch 276/400\n",
            "113/113 [==============================] - 0s 3ms/step - loss: 0.4529 - val_loss: 2.3895\n",
            "Epoch 277/400\n",
            "113/113 [==============================] - 0s 3ms/step - loss: 0.4537 - val_loss: 2.4356\n",
            "Epoch 278/400\n",
            "113/113 [==============================] - 0s 3ms/step - loss: 0.4547 - val_loss: 2.4043\n",
            "Epoch 279/400\n",
            "113/113 [==============================] - 0s 3ms/step - loss: 0.4591 - val_loss: 2.4170\n",
            "Epoch 280/400\n",
            "113/113 [==============================] - 0s 3ms/step - loss: 0.4571 - val_loss: 2.3500\n",
            "Epoch 281/400\n",
            "113/113 [==============================] - 0s 3ms/step - loss: 0.4547 - val_loss: 2.3596\n",
            "Epoch 282/400\n",
            "113/113 [==============================] - 0s 3ms/step - loss: 0.4590 - val_loss: 2.3870\n",
            "Epoch 283/400\n",
            "113/113 [==============================] - 0s 3ms/step - loss: 0.4588 - val_loss: 2.4147\n",
            "Epoch 284/400\n",
            "113/113 [==============================] - 0s 3ms/step - loss: 0.4564 - val_loss: 2.3963\n",
            "Epoch 285/400\n",
            "113/113 [==============================] - 0s 3ms/step - loss: 0.4555 - val_loss: 2.4114\n",
            "Epoch 286/400\n",
            "113/113 [==============================] - 0s 3ms/step - loss: 0.4649 - val_loss: 2.3635\n",
            "Epoch 287/400\n",
            "113/113 [==============================] - 0s 3ms/step - loss: 0.4545 - val_loss: 2.3663\n",
            "Epoch 288/400\n",
            "113/113 [==============================] - 0s 3ms/step - loss: 0.4593 - val_loss: 2.3463\n",
            "Epoch 289/400\n",
            "113/113 [==============================] - 0s 3ms/step - loss: 0.4521 - val_loss: 2.3846\n",
            "Epoch 290/400\n",
            "113/113 [==============================] - 0s 3ms/step - loss: 0.4549 - val_loss: 2.4304\n",
            "Epoch 291/400\n",
            "113/113 [==============================] - 0s 3ms/step - loss: 0.4655 - val_loss: 2.4466\n",
            "Epoch 292/400\n",
            "113/113 [==============================] - 0s 3ms/step - loss: 0.4566 - val_loss: 2.4316\n",
            "Epoch 293/400\n",
            "113/113 [==============================] - 0s 4ms/step - loss: 0.4522 - val_loss: 2.3978\n",
            "Epoch 294/400\n",
            "113/113 [==============================] - 0s 3ms/step - loss: 0.4577 - val_loss: 2.3633\n",
            "Epoch 295/400\n",
            "113/113 [==============================] - 0s 3ms/step - loss: 0.4535 - val_loss: 2.3779\n",
            "Epoch 296/400\n",
            "113/113 [==============================] - 0s 3ms/step - loss: 0.4600 - val_loss: 2.3445\n",
            "Epoch 297/400\n",
            "113/113 [==============================] - 0s 3ms/step - loss: 0.5356 - val_loss: 2.6266\n",
            "Epoch 298/400\n",
            "113/113 [==============================] - 0s 3ms/step - loss: 0.4588 - val_loss: 2.4882\n",
            "Epoch 299/400\n",
            "113/113 [==============================] - 0s 3ms/step - loss: 0.4514 - val_loss: 2.3690\n",
            "Epoch 300/400\n",
            "113/113 [==============================] - 0s 3ms/step - loss: 0.4598 - val_loss: 2.3917\n",
            "Epoch 301/400\n",
            "113/113 [==============================] - 0s 3ms/step - loss: 0.4541 - val_loss: 2.3916\n",
            "Epoch 302/400\n",
            "113/113 [==============================] - 0s 3ms/step - loss: 0.4578 - val_loss: 2.3232\n",
            "Epoch 303/400\n",
            "113/113 [==============================] - 0s 3ms/step - loss: 0.4531 - val_loss: 2.3729\n",
            "Epoch 304/400\n",
            "113/113 [==============================] - 0s 3ms/step - loss: 0.4566 - val_loss: 2.3925\n",
            "Epoch 305/400\n",
            "113/113 [==============================] - 0s 3ms/step - loss: 0.4544 - val_loss: 2.3628\n",
            "Epoch 306/400\n",
            "113/113 [==============================] - 0s 3ms/step - loss: 0.4553 - val_loss: 2.3722\n",
            "Epoch 307/400\n",
            "113/113 [==============================] - 0s 3ms/step - loss: 0.4505 - val_loss: 2.3447\n",
            "Epoch 308/400\n",
            "113/113 [==============================] - 0s 3ms/step - loss: 0.4499 - val_loss: 2.3789\n",
            "Epoch 309/400\n",
            "113/113 [==============================] - 0s 4ms/step - loss: 0.4547 - val_loss: 2.3822\n",
            "Epoch 310/400\n",
            "113/113 [==============================] - 0s 3ms/step - loss: 0.4564 - val_loss: 2.3517\n",
            "Epoch 311/400\n",
            "113/113 [==============================] - 0s 3ms/step - loss: 0.4607 - val_loss: 2.3655\n",
            "Epoch 312/400\n",
            "113/113 [==============================] - 0s 3ms/step - loss: 0.4503 - val_loss: 2.3568\n",
            "Epoch 313/400\n",
            "113/113 [==============================] - 0s 3ms/step - loss: 0.4519 - val_loss: 2.3688\n",
            "Epoch 314/400\n",
            "113/113 [==============================] - 0s 3ms/step - loss: 0.4582 - val_loss: 2.3487\n",
            "Epoch 315/400\n",
            "113/113 [==============================] - 0s 3ms/step - loss: 0.4510 - val_loss: 2.3561\n",
            "Epoch 316/400\n",
            "113/113 [==============================] - 0s 3ms/step - loss: 0.4548 - val_loss: 2.3754\n",
            "Epoch 317/400\n",
            "113/113 [==============================] - 0s 3ms/step - loss: 0.4609 - val_loss: 2.3773\n",
            "Epoch 318/400\n",
            "113/113 [==============================] - 0s 3ms/step - loss: 0.4587 - val_loss: 2.4416\n",
            "Epoch 319/400\n",
            "113/113 [==============================] - 0s 3ms/step - loss: 0.4504 - val_loss: 2.3933\n",
            "Epoch 320/400\n",
            "113/113 [==============================] - 0s 3ms/step - loss: 0.4628 - val_loss: 2.3522\n",
            "Epoch 321/400\n",
            "113/113 [==============================] - 0s 3ms/step - loss: 0.4586 - val_loss: 2.3724\n",
            "Epoch 322/400\n",
            "113/113 [==============================] - 0s 3ms/step - loss: 0.4570 - val_loss: 2.4100\n",
            "Epoch 323/400\n",
            "113/113 [==============================] - 0s 3ms/step - loss: 0.4594 - val_loss: 2.4125\n",
            "Epoch 324/400\n",
            "113/113 [==============================] - 0s 3ms/step - loss: 0.4623 - val_loss: 2.3689\n",
            "Epoch 325/400\n",
            "113/113 [==============================] - 0s 3ms/step - loss: 0.4528 - val_loss: 2.3672\n",
            "Epoch 326/400\n",
            "113/113 [==============================] - 0s 3ms/step - loss: 0.4524 - val_loss: 2.3727\n",
            "Epoch 327/400\n",
            "113/113 [==============================] - 0s 3ms/step - loss: 0.4533 - val_loss: 2.4132\n",
            "Epoch 328/400\n",
            "113/113 [==============================] - 0s 3ms/step - loss: 0.4536 - val_loss: 2.3483\n",
            "Epoch 329/400\n",
            "113/113 [==============================] - 0s 3ms/step - loss: 0.4512 - val_loss: 2.4337\n",
            "Epoch 330/400\n",
            "113/113 [==============================] - 0s 4ms/step - loss: 0.4510 - val_loss: 2.3891\n",
            "Epoch 331/400\n",
            "113/113 [==============================] - 0s 3ms/step - loss: 0.4527 - val_loss: 2.4129\n",
            "Epoch 332/400\n",
            "113/113 [==============================] - 0s 3ms/step - loss: 0.4502 - val_loss: 2.3970\n",
            "Epoch 333/400\n",
            "113/113 [==============================] - 0s 3ms/step - loss: 0.4502 - val_loss: 2.3717\n",
            "Epoch 334/400\n",
            "113/113 [==============================] - 0s 3ms/step - loss: 0.4583 - val_loss: 2.3789\n",
            "Epoch 335/400\n",
            "113/113 [==============================] - 0s 3ms/step - loss: 0.4524 - val_loss: 2.3704\n",
            "Epoch 336/400\n",
            "113/113 [==============================] - 0s 3ms/step - loss: 0.4623 - val_loss: 2.3980\n",
            "Epoch 337/400\n",
            "113/113 [==============================] - 0s 3ms/step - loss: 0.4564 - val_loss: 2.3649\n",
            "Epoch 338/400\n",
            "113/113 [==============================] - 0s 3ms/step - loss: 0.4536 - val_loss: 2.3744\n",
            "Epoch 339/400\n",
            "113/113 [==============================] - 0s 3ms/step - loss: 0.4509 - val_loss: 2.4204\n",
            "Epoch 340/400\n",
            "113/113 [==============================] - 0s 3ms/step - loss: 0.4565 - val_loss: 2.3291\n",
            "Epoch 341/400\n",
            "113/113 [==============================] - 0s 3ms/step - loss: 0.4588 - val_loss: 2.4196\n",
            "Epoch 342/400\n",
            "113/113 [==============================] - 0s 3ms/step - loss: 0.4577 - val_loss: 2.3699\n",
            "Epoch 343/400\n",
            "113/113 [==============================] - 0s 3ms/step - loss: 0.4556 - val_loss: 2.3992\n",
            "Epoch 344/400\n",
            "113/113 [==============================] - 0s 3ms/step - loss: 0.4538 - val_loss: 2.3806\n",
            "Epoch 345/400\n",
            "113/113 [==============================] - 0s 3ms/step - loss: 0.4589 - val_loss: 2.3767\n",
            "Epoch 346/400\n",
            "113/113 [==============================] - 0s 3ms/step - loss: 0.4554 - val_loss: 2.3942\n",
            "Epoch 347/400\n",
            "113/113 [==============================] - 0s 3ms/step - loss: 0.4534 - val_loss: 2.3590\n",
            "Epoch 348/400\n",
            "113/113 [==============================] - 0s 3ms/step - loss: 0.4533 - val_loss: 2.3930\n",
            "Epoch 349/400\n",
            "113/113 [==============================] - 0s 4ms/step - loss: 0.4557 - val_loss: 2.3703\n",
            "Epoch 350/400\n",
            "113/113 [==============================] - 0s 3ms/step - loss: 0.4524 - val_loss: 2.3493\n",
            "Epoch 351/400\n",
            "113/113 [==============================] - 0s 3ms/step - loss: 0.4499 - val_loss: 2.3551\n",
            "Epoch 352/400\n",
            "113/113 [==============================] - 0s 3ms/step - loss: 0.4511 - val_loss: 2.4007\n",
            "Epoch 353/400\n",
            "113/113 [==============================] - 0s 3ms/step - loss: 0.4580 - val_loss: 2.3415\n",
            "Epoch 354/400\n",
            "113/113 [==============================] - 0s 3ms/step - loss: 0.4554 - val_loss: 2.4111\n",
            "Epoch 355/400\n",
            "113/113 [==============================] - 0s 3ms/step - loss: 0.4545 - val_loss: 2.3599\n",
            "Epoch 356/400\n",
            "113/113 [==============================] - 0s 3ms/step - loss: 0.4547 - val_loss: 2.3657\n",
            "Epoch 357/400\n",
            "113/113 [==============================] - 0s 3ms/step - loss: 0.4544 - val_loss: 2.3435\n",
            "Epoch 358/400\n",
            "113/113 [==============================] - 0s 3ms/step - loss: 0.4539 - val_loss: 2.2950\n",
            "Epoch 359/400\n",
            "113/113 [==============================] - 0s 3ms/step - loss: 0.4574 - val_loss: 2.3840\n",
            "Epoch 360/400\n",
            "113/113 [==============================] - 0s 3ms/step - loss: 0.4589 - val_loss: 2.2979\n",
            "Epoch 361/400\n",
            "113/113 [==============================] - 0s 3ms/step - loss: 0.4506 - val_loss: 2.3262\n",
            "Epoch 362/400\n",
            "113/113 [==============================] - 0s 3ms/step - loss: 0.4490 - val_loss: 2.3251\n",
            "Epoch 363/400\n",
            "113/113 [==============================] - 0s 3ms/step - loss: 0.4514 - val_loss: 2.3348\n",
            "Epoch 364/400\n",
            "113/113 [==============================] - 0s 3ms/step - loss: 0.4494 - val_loss: 2.3835\n",
            "Epoch 365/400\n",
            "113/113 [==============================] - 0s 4ms/step - loss: 0.4572 - val_loss: 2.3535\n",
            "Epoch 366/400\n",
            "113/113 [==============================] - 0s 3ms/step - loss: 0.4537 - val_loss: 2.3712\n",
            "Epoch 367/400\n",
            "113/113 [==============================] - 0s 3ms/step - loss: 0.4613 - val_loss: 2.3657\n",
            "Epoch 368/400\n",
            "113/113 [==============================] - 0s 3ms/step - loss: 0.4570 - val_loss: 2.3464\n",
            "Epoch 369/400\n",
            "113/113 [==============================] - 0s 3ms/step - loss: 0.4628 - val_loss: 2.3560\n",
            "Epoch 370/400\n",
            "113/113 [==============================] - 0s 3ms/step - loss: 0.4536 - val_loss: 2.3523\n",
            "Epoch 371/400\n",
            "113/113 [==============================] - 0s 3ms/step - loss: 0.4535 - val_loss: 2.3594\n",
            "Epoch 372/400\n",
            "113/113 [==============================] - 0s 3ms/step - loss: 0.4587 - val_loss: 2.2915\n",
            "Epoch 373/400\n",
            "113/113 [==============================] - 0s 3ms/step - loss: 0.4578 - val_loss: 2.4056\n",
            "Epoch 374/400\n",
            "113/113 [==============================] - 0s 3ms/step - loss: 0.4612 - val_loss: 2.3451\n",
            "Epoch 375/400\n",
            "113/113 [==============================] - 0s 3ms/step - loss: 0.4521 - val_loss: 2.3564\n",
            "Epoch 376/400\n",
            "113/113 [==============================] - 0s 3ms/step - loss: 0.4481 - val_loss: 2.3767\n",
            "Epoch 377/400\n",
            "113/113 [==============================] - 0s 3ms/step - loss: 0.4540 - val_loss: 2.3419\n",
            "Epoch 378/400\n",
            "113/113 [==============================] - 0s 3ms/step - loss: 0.4577 - val_loss: 2.3110\n",
            "Epoch 379/400\n",
            "113/113 [==============================] - 0s 3ms/step - loss: 0.4535 - val_loss: 2.3513\n",
            "Epoch 380/400\n",
            "113/113 [==============================] - 0s 3ms/step - loss: 0.4580 - val_loss: 2.3481\n",
            "Epoch 381/400\n",
            "113/113 [==============================] - 0s 4ms/step - loss: 0.4525 - val_loss: 2.3546\n",
            "Epoch 382/400\n",
            "113/113 [==============================] - 0s 3ms/step - loss: 0.4484 - val_loss: 2.3673\n",
            "Epoch 383/400\n",
            "113/113 [==============================] - 0s 3ms/step - loss: 0.4549 - val_loss: 2.3163\n",
            "Epoch 384/400\n",
            "113/113 [==============================] - 0s 3ms/step - loss: 0.4498 - val_loss: 2.3958\n",
            "Epoch 385/400\n",
            "113/113 [==============================] - 0s 3ms/step - loss: 0.4542 - val_loss: 2.3828\n",
            "Epoch 386/400\n",
            "113/113 [==============================] - 0s 3ms/step - loss: 0.4517 - val_loss: 2.3559\n",
            "Epoch 387/400\n",
            "113/113 [==============================] - 0s 3ms/step - loss: 0.4567 - val_loss: 2.3395\n",
            "Epoch 388/400\n",
            "113/113 [==============================] - 0s 3ms/step - loss: 0.4563 - val_loss: 2.3282\n",
            "Epoch 389/400\n",
            "113/113 [==============================] - 0s 3ms/step - loss: 0.4543 - val_loss: 2.3395\n",
            "Epoch 390/400\n",
            "113/113 [==============================] - 0s 3ms/step - loss: 0.4518 - val_loss: 2.2793\n",
            "Epoch 391/400\n",
            "113/113 [==============================] - 0s 3ms/step - loss: 0.4539 - val_loss: 2.3357\n",
            "Epoch 392/400\n",
            "113/113 [==============================] - 0s 3ms/step - loss: 0.4512 - val_loss: 2.3314\n",
            "Epoch 393/400\n",
            "113/113 [==============================] - 0s 3ms/step - loss: 0.4531 - val_loss: 2.4076\n",
            "Epoch 394/400\n",
            "113/113 [==============================] - 0s 3ms/step - loss: 0.4504 - val_loss: 2.3014\n",
            "Epoch 395/400\n",
            "113/113 [==============================] - 0s 3ms/step - loss: 0.4532 - val_loss: 2.2800\n",
            "Epoch 396/400\n",
            "113/113 [==============================] - 0s 3ms/step - loss: 0.4496 - val_loss: 2.3414\n",
            "Epoch 397/400\n",
            "113/113 [==============================] - 0s 3ms/step - loss: 0.4591 - val_loss: 2.3346\n",
            "Epoch 398/400\n",
            "113/113 [==============================] - 0s 3ms/step - loss: 0.4484 - val_loss: 2.2915\n",
            "Epoch 399/400\n",
            "113/113 [==============================] - 0s 3ms/step - loss: 0.4514 - val_loss: 2.3118\n",
            "Epoch 400/400\n",
            "113/113 [==============================] - 0s 4ms/step - loss: 0.4534 - val_loss: 2.3296\n"
          ]
        },
        {
          "output_type": "execute_result",
          "data": {
            "text/plain": [
              "<keras.callbacks.History at 0x7f20cf512a90>"
            ]
          },
          "metadata": {},
          "execution_count": 62
        }
      ]
    },
    {
      "cell_type": "code",
      "source": [
        "losses= pd.DataFrame(model.history.history)"
      ],
      "metadata": {
        "id": "tOYYzD3Zsjxm"
      },
      "execution_count": null,
      "outputs": []
    },
    {
      "cell_type": "code",
      "source": [
        "losses.plot()"
      ],
      "metadata": {
        "colab": {
          "base_uri": "https://localhost:8080/",
          "height": 282
        },
        "id": "bRGWTf-CsolB",
        "outputId": "19ec8393-7d09-49f0-9193-1de0d299e04e"
      },
      "execution_count": null,
      "outputs": [
        {
          "output_type": "execute_result",
          "data": {
            "text/plain": [
              "<matplotlib.axes._subplots.AxesSubplot at 0x7f214a53f150>"
            ]
          },
          "metadata": {},
          "execution_count": 65
        },
        {
          "output_type": "display_data",
          "data": {
            "text/plain": [
              "<Figure size 432x288 with 1 Axes>"
            ],
            "image/png": "[encoded data removed]"
          },
          "metadata": {
            "needs_background": "light"
          }
        }
      ]
    },
    {
      "cell_type": "code",
      "source": [
        "from sklearn.metrics import mean_squared_error, mean_absolute_error"
      ],
      "metadata": {
        "id": "Mn4iTEIcsy5u"
      },
      "execution_count": null,
      "outputs": []
    },
    {
      "cell_type": "code",
      "source": [
        "predictions = model.predict(X_test)\n",
        "mean_absolute_error(y_test, predictions)"
      ],
      "metadata": {
        "colab": {
          "base_uri": "https://localhost:8080/"
        },
        "id": "_YkiBEswtenW",
        "outputId": "e79ccdb0-f0b9-4776-adfd-c3f939781555"
      },
      "execution_count": null,
      "outputs": [
        {
          "output_type": "execute_result",
          "data": {
            "text/plain": [
              "1.1027298547635276"
            ]
          },
          "metadata": {},
          "execution_count": 72
        }
      ]
    },
    {
      "cell_type": "code",
      "source": [
        "plt.scatter(y_test, predictions)\n",
        "plt.plot(y_test, y_test, 'r')"
      ],
      "metadata": {
        "colab": {
          "base_uri": "https://localhost:8080/",
          "height": 282
        },
        "id": "8Dl-xb8Ytzi-",
        "outputId": "d7e0ee85-3bc8-4a2e-9328-1919dd442a02"
      },
      "execution_count": null,
      "outputs": [
        {
          "output_type": "execute_result",
          "data": {
            "text/plain": [
              "[<matplotlib.lines.Line2D at 0x7f2149c5db10>]"
            ]
          },
          "metadata": {},
          "execution_count": 75
        },
        {
          "output_type": "display_data",
          "data": {
            "text/plain": [
              "<Figure size 432x288 with 1 Axes>"
            ],
            "image/png": "[encoded data removed]"
          },
          "metadata": {
            "needs_background": "light"
          }
        }
      ]
    },
    {
      "cell_type": "code",
      "source": [
        "single_house = df.drop('SalePrice', axis=1).iloc[0]\n",
        "single_house = scaler.transform(single_house.values.reshape(-1,8))"
      ],
      "metadata": {
        "id": "pWWsyuZduX0T"
      },
      "execution_count": null,
      "outputs": []
    },
    {
      "cell_type": "code",
      "source": [
        "model.predict(single_house)"
      ],
      "metadata": {
        "colab": {
          "base_uri": "https://localhost:8080/"
        },
        "id": "lnkaAHOSumIo",
        "outputId": "98873442-c5b9-4f14-fff4-46d23bf931ff"
      },
      "execution_count": null,
      "outputs": [
        {
          "output_type": "execute_result",
          "data": {
            "text/plain": [
              "array([[1.0578104]], dtype=float32)"
            ]
          },
          "metadata": {},
          "execution_count": 79
        }
      ]
    },
    {
      "cell_type": "code",
      "source": [
        "pip install kaggle"
      ],
      "metadata": {
        "colab": {
          "base_uri": "https://localhost:8080/"
        },
        "id": "htLkss00uwtt",
        "outputId": "fb10df67-c2a6-4e8f-b0cb-de8c650f138e"
      },
      "execution_count": null,
      "outputs": [
        {
          "output_type": "stream",
          "name": "stdout",
          "text": [
            "Requirement already satisfied: kaggle in /usr/local/lib/python3.7/dist-packages (1.5.12)\n",
            "Requirement already satisfied: urllib3 in /usr/local/lib/python3.7/dist-packages (from kaggle) (1.24.3)\n",
            "Requirement already satisfied: python-dateutil in /usr/local/lib/python3.7/dist-packages (from kaggle) (2.8.2)\n",
            "Requirement already satisfied: requests in /usr/local/lib/python3.7/dist-packages (from kaggle) (2.23.0)\n",
            "Requirement already satisfied: six>=1.10 in /usr/local/lib/python3.7/dist-packages (from kaggle) (1.15.0)\n",
            "Requirement already satisfied: certifi in /usr/local/lib/python3.7/dist-packages (from kaggle) (2021.10.8)\n",
            "Requirement already satisfied: tqdm in /usr/local/lib/python3.7/dist-packages (from kaggle) (4.64.0)\n",
            "Requirement already satisfied: python-slugify in /usr/local/lib/python3.7/dist-packages (from kaggle) (6.1.1)\n",
            "Requirement already satisfied: text-unidecode>=1.3 in /usr/local/lib/python3.7/dist-packages (from python-slugify->kaggle) (1.3)\n",
            "Requirement already satisfied: chardet<4,>=3.0.2 in /usr/local/lib/python3.7/dist-packages (from requests->kaggle) (3.0.4)\n",
            "Requirement already satisfied: idna<3,>=2.5 in /usr/local/lib/python3.7/dist-packages (from requests->kaggle) (2.10)\n"
          ]
        }
      ]
    },
    {
      "cell_type": "code",
      "source": [
        "from google.colab import files\n",
        "\n",
        "uploaded = files.upload()\n",
        "\n",
        "for fn in uploaded.keys():\n",
        "  print('User uploaded file \"{name}\" with length {length} bytes'.format(\n",
        "      name=fn, length=len(uploaded[fn])))\n",
        "  \n",
        "# Then move kaggle.json into the folder where the API expects to find it.\n",
        "!mkdir -p ~/.kaggle/ && mv kaggle.json ~/.kaggle/ && chmod 600 ~/.kaggle/kaggle.json"
      ],
      "metadata": {
        "colab": {
          "resources": {
            "http://localhost:8080/nbextensions/google.colab/files.js": {
              "data": "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",
              "ok": true,
              "headers": [
                [
                  "content-type",
                  "application/javascript"
                ]
              ],
              "status": 200,
              "status_text": ""
            }
          },
          "base_uri": "https://localhost:8080/",
          "height": 90
        },
        "id": "NhXgGvrJwI83",
        "outputId": "f6fe0a76-d3ae-4976-896e-d58500c89940"
      },
      "execution_count": null,
      "outputs": [
        {
          "output_type": "display_data",
          "data": {
            "text/plain": [
              "<IPython.core.display.HTML object>"
            ],
            "text/html": [
              "\n",
              "     <input type=\"file\" id=\"files-df33bc1d-b4f9-445c-a9f2-ea448554fc69\" name=\"files[]\" multiple disabled\n",
              "        style=\"border:none\" />\n",
              "     <output id=\"result-df33bc1d-b4f9-445c-a9f2-ea448554fc69\">\n",
              "      Upload widget is only available when the cell has been executed in the\n",
              "      current browser session. Please rerun this cell to enable.\n",
              "      </output>\n",
              "      <script src=\"/nbextensions/google.colab/files.js\"></script> "
            ]
          },
          "metadata": {}
        },
        {
          "output_type": "stream",
          "name": "stdout",
          "text": [
            "Saving kaggle.json to kaggle (1).json\n",
            "User uploaded file \"kaggle.json\" with length 75 bytes\n"
          ]
        }
      ]
    },
    {
      "cell_type": "code",
      "source": [
        "!kaggle competitions list\n",
        "\n"
      ],
      "metadata": {
        "colab": {
          "base_uri": "https://localhost:8080/"
        },
        "id": "G_wOQB49vKcw",
        "outputId": "a140bec8-67be-4f72-eb95-7e2a272ca792"
      },
      "execution_count": null,
      "outputs": [
        {
          "output_type": "stream",
          "name": "stdout",
          "text": [
            "ref                                                         deadline             category            reward  teamCount  userHasEntered  \n",
            "----------------------------------------------------------  -------------------  ---------------  ---------  ---------  --------------  \n",
            "mpetitions/contradictory-my-dear-watson                     2030-07-01 23:59:00  Getting Started     Prizes         33           False  \n",
            "mpetitions/gan-getting-started                              2030-07-01 23:59:00  Getting Started     Prizes        136           False  \n",
            "mpetitions/store-sales-time-series-forecasting              2030-06-30 23:59:00  Getting Started  Knowledge       1372           False  \n",
            "mpetitions/tpu-getting-started                              2030-06-03 23:59:00  Getting Started  Knowledge        171           False  \n",
            "mpetitions/digit-recognizer                                 2030-01-01 00:00:00  Getting Started  Knowledge       2227           False  \n",
            "mpetitions/titanic                                          2030-01-01 00:00:00  Getting Started  Knowledge      14601           False  \n",
            "mpetitions/house-prices-advanced-regression-techniques      2030-01-01 00:00:00  Getting Started  Knowledge       4145           False  \n",
            "mpetitions/connectx                                         2030-01-01 00:00:00  Getting Started  Knowledge        220           False  \n",
            "mpetitions/nlp-getting-started                              2030-01-01 00:00:00  Getting Started  Knowledge        841           False  \n",
            "mpetitions/spaceship-titanic                                2030-01-01 00:00:00  Getting Started  Knowledge       1790           False  \n",
            "mpetitions/competitive-data-science-predict-future-sales    2022-12-31 23:59:00  Playground           Kudos      14614           False  \n",
            "mpetitions/ubiquant-market-prediction                       2022-07-18 23:59:00  Featured          $100,000       2893           False  \n",
            "mpetitions/uw-madison-gi-tract-image-segmentation           2022-07-14 23:59:00  Research           $25,000        177           False  \n",
            "mpetitions/kore-2022                                        2022-07-12 23:59:00  Featured           $15,000        119           False  \n",
            "mpetitions/foursquare-location-matching                     2022-07-07 23:59:00  Featured           $25,000        211           False  \n",
            "mpetitions/jpx-tokyo-stock-exchange-prediction              2022-07-05 23:59:00  Featured           $63,000        591           False  \n",
            "mpetitions/phase-ii-widsdatathon2022                        2022-06-30 23:59:00  Analytics            Kudos          0           False  \n",
            "mpetitions/us-patent-phrase-to-phrase-matching              2022-06-20 23:59:00  Featured           $25,000        781           False  \n",
            "mpetitions/image-matching-challenge-2022                    2022-06-02 23:59:00  Research           $10,000        272           False  \n",
            "mpetitions/hotel-id-to-combat-human-trafficking-2022-fgvc9  2022-05-30 23:59:00  Research         Knowledge         56           False  \n"
          ]
        }
      ]
    },
    {
      "cell_type": "code",
      "source": [
        "import sklearn.datasets\n",
        "data = sklearn.datasets.load_breast_cancer()\n"
      ],
      "metadata": {
        "id": "hohGzDCHwulx"
      },
      "execution_count": null,
      "outputs": []
    },
    {
      "cell_type": "code",
      "source": [
        "data.target"
      ],
      "metadata": {
        "colab": {
          "base_uri": "https://localhost:8080/"
        },
        "id": "dBYpaUYpw2-R",
        "outputId": "ad51737a-a2a9-4bb2-bff0-fd6130b23aeb"
      },
      "execution_count": null,
      "outputs": [
        {
          "output_type": "execute_result",
          "data": {
            "text/plain": [
              "array([0, 0, 0, 0, 0, 0, 0, 0, 0, 0, 0, 0, 0, 0, 0, 0, 0, 0, 0, 1, 1, 1,\n",
              "       0, 0, 0, 0, 0, 0, 0, 0, 0, 0, 0, 0, 0, 0, 0, 1, 0, 0, 0, 0, 0, 0,\n",
              "       0, 0, 1, 0, 1, 1, 1, 1, 1, 0, 0, 1, 0, 0, 1, 1, 1, 1, 0, 1, 0, 0,\n",
              "       1, 1, 1, 1, 0, 1, 0, 0, 1, 0, 1, 0, 0, 1, 1, 1, 0, 0, 1, 0, 0, 0,\n",
              "       1, 1, 1, 0, 1, 1, 0, 0, 1, 1, 1, 0, 0, 1, 1, 1, 1, 0, 1, 1, 0, 1,\n",
              "       1, 1, 1, 1, 1, 1, 1, 0, 0, 0, 1, 0, 0, 1, 1, 1, 0, 0, 1, 0, 1, 0,\n",
              "       0, 1, 0, 0, 1, 1, 0, 1, 1, 0, 1, 1, 1, 1, 0, 1, 1, 1, 1, 1, 1, 1,\n",
              "       1, 1, 0, 1, 1, 1, 1, 0, 0, 1, 0, 1, 1, 0, 0, 1, 1, 0, 0, 1, 1, 1,\n",
              "       1, 0, 1, 1, 0, 0, 0, 1, 0, 1, 0, 1, 1, 1, 0, 1, 1, 0, 0, 1, 0, 0,\n",
              "       0, 0, 1, 0, 0, 0, 1, 0, 1, 0, 1, 1, 0, 1, 0, 0, 0, 0, 1, 1, 0, 0,\n",
              "       1, 1, 1, 0, 1, 1, 1, 1, 1, 0, 0, 1, 1, 0, 1, 1, 0, 0, 1, 0, 1, 1,\n",
              "       1, 1, 0, 1, 1, 1, 1, 1, 0, 1, 0, 0, 0, 0, 0, 0, 0, 0, 0, 0, 0, 0,\n",
              "       0, 0, 1, 1, 1, 1, 1, 1, 0, 1, 0, 1, 1, 0, 1, 1, 0, 1, 0, 0, 1, 1,\n",
              "       1, 1, 1, 1, 1, 1, 1, 1, 1, 1, 1, 0, 1, 1, 0, 1, 0, 1, 1, 1, 1, 1,\n",
              "       1, 1, 1, 1, 1, 1, 1, 1, 1, 0, 1, 1, 1, 0, 1, 0, 1, 1, 1, 1, 0, 0,\n",
              "       0, 1, 1, 1, 1, 0, 1, 0, 1, 0, 1, 1, 1, 0, 1, 1, 1, 1, 1, 1, 1, 0,\n",
              "       0, 0, 1, 1, 1, 1, 1, 1, 1, 1, 1, 1, 1, 0, 0, 1, 0, 0, 0, 1, 0, 0,\n",
              "       1, 1, 1, 1, 1, 0, 1, 1, 1, 1, 1, 0, 1, 1, 1, 0, 1, 1, 0, 0, 1, 1,\n",
              "       1, 1, 1, 1, 0, 1, 1, 1, 1, 1, 1, 1, 0, 1, 1, 1, 1, 1, 0, 1, 1, 0,\n",
              "       1, 1, 1, 1, 1, 1, 1, 1, 1, 1, 1, 1, 0, 1, 0, 0, 1, 0, 1, 1, 1, 1,\n",
              "       1, 0, 1, 1, 0, 1, 0, 1, 1, 0, 1, 0, 1, 1, 1, 1, 1, 1, 1, 1, 0, 0,\n",
              "       1, 1, 1, 1, 1, 1, 0, 1, 1, 1, 1, 1, 1, 1, 1, 1, 1, 0, 1, 1, 1, 1,\n",
              "       1, 1, 1, 0, 1, 0, 1, 1, 0, 1, 1, 1, 1, 1, 0, 0, 1, 0, 1, 0, 1, 1,\n",
              "       1, 1, 1, 0, 1, 1, 0, 1, 0, 1, 0, 0, 1, 1, 1, 0, 1, 1, 1, 1, 1, 1,\n",
              "       1, 1, 1, 1, 1, 0, 1, 0, 0, 1, 1, 1, 1, 1, 1, 1, 1, 1, 1, 1, 1, 1,\n",
              "       1, 1, 1, 1, 1, 1, 1, 1, 1, 1, 1, 1, 0, 0, 0, 0, 0, 0, 1])"
            ]
          },
          "metadata": {},
          "execution_count": 110
        }
      ]
    },
    {
      "cell_type": "code",
      "source": [
        "def sklearn_to_df(sklearn_dataset):\n",
        "    df = pd.DataFrame(sklearn_dataset.data, columns=sklearn_dataset.feature_names)\n",
        "    df['target'] = pd.Series(sklearn_dataset.target)\n",
        "    return df\n",
        "  \n",
        "df = sklearn_to_df(data)"
      ],
      "metadata": {
        "id": "TyUHCu2MxOLd"
      },
      "execution_count": null,
      "outputs": []
    },
    {
      "cell_type": "code",
      "source": [
        "len(df)"
      ],
      "metadata": {
        "colab": {
          "base_uri": "https://localhost:8080/"
        },
        "id": "crh5IqJqxi0V",
        "outputId": "0d2ed384-6986-466f-acdf-32abc715181b"
      },
      "execution_count": null,
      "outputs": [
        {
          "output_type": "execute_result",
          "data": {
            "text/plain": [
              "569"
            ]
          },
          "metadata": {},
          "execution_count": 114
        }
      ]
    },
    {
      "cell_type": "code",
      "source": [
        "df.describe().transpose()"
      ],
      "metadata": {
        "colab": {
          "base_uri": "https://localhost:8080/",
          "height": 1000
        },
        "id": "GesVc16hxkiu",
        "outputId": "89e9889a-54c2-48e2-df58-2f7483285740"
      },
      "execution_count": null,
      "outputs": [
        {
          "output_type": "execute_result",
          "data": {
            "text/plain": [
              "                         count        mean         std         min  \\\n",
              "mean radius              569.0   14.127292    3.524049    6.981000   \n",
              "mean texture             569.0   19.289649    4.301036    9.710000   \n",
              "mean perimeter           569.0   91.969033   24.298981   43.790000   \n",
              "mean area                569.0  654.889104  351.914129  143.500000   \n",
              "mean smoothness          569.0    0.096360    0.014064    0.052630   \n",
              "mean compactness         569.0    0.104341    0.052813    0.019380   \n",
              "mean concavity           569.0    0.088799    0.079720    0.000000   \n",
              "mean concave points      569.0    0.048919    0.038803    0.000000   \n",
              "mean symmetry            569.0    0.181162    0.027414    0.106000   \n",
              "mean fractal dimension   569.0    0.062798    0.007060    0.049960   \n",
              "radius error             569.0    0.405172    0.277313    0.111500   \n",
              "texture error            569.0    1.216853    0.551648    0.360200   \n",
              "perimeter error          569.0    2.866059    2.021855    0.757000   \n",
              "area error               569.0   40.337079   45.491006    6.802000   \n",
              "smoothness error         569.0    0.007041    0.003003    0.001713   \n",
              "compactness error        569.0    0.025478    0.017908    0.002252   \n",
              "concavity error          569.0    0.031894    0.030186    0.000000   \n",
              "concave points error     569.0    0.011796    0.006170    0.000000   \n",
              "symmetry error           569.0    0.020542    0.008266    0.007882   \n",
              "fractal dimension error  569.0    0.003795    0.002646    0.000895   \n",
              "worst radius             569.0   16.269190    4.833242    7.930000   \n",
              "worst texture            569.0   25.677223    6.146258   12.020000   \n",
              "worst perimeter          569.0  107.261213   33.602542   50.410000   \n",
              "worst area               569.0  880.583128  569.356993  185.200000   \n",
              "worst smoothness         569.0    0.132369    0.022832    0.071170   \n",
              "worst compactness        569.0    0.254265    0.157336    0.027290   \n",
              "worst concavity          569.0    0.272188    0.208624    0.000000   \n",
              "worst concave points     569.0    0.114606    0.065732    0.000000   \n",
              "worst symmetry           569.0    0.290076    0.061867    0.156500   \n",
              "worst fractal dimension  569.0    0.083946    0.018061    0.055040   \n",
              "target                   569.0    0.627417    0.483918    0.000000   \n",
              "\n",
              "                                25%         50%          75%         max  \n",
              "mean radius               11.700000   13.370000    15.780000    28.11000  \n",
              "mean texture              16.170000   18.840000    21.800000    39.28000  \n",
              "mean perimeter            75.170000   86.240000   104.100000   188.50000  \n",
              "mean area                420.300000  551.100000   782.700000  2501.00000  \n",
              "mean smoothness            0.086370    0.095870     0.105300     0.16340  \n",
              "mean compactness           0.064920    0.092630     0.130400     0.34540  \n",
              "mean concavity             0.029560    0.061540     0.130700     0.42680  \n",
              "mean concave points        0.020310    0.033500     0.074000     0.20120  \n",
              "mean symmetry              0.161900    0.179200     0.195700     0.30400  \n",
              "mean fractal dimension     0.057700    0.061540     0.066120     0.09744  \n",
              "radius error               0.232400    0.324200     0.478900     2.87300  \n",
              "texture error              0.833900    1.108000     1.474000     4.88500  \n",
              "perimeter error            1.606000    2.287000     3.357000    21.98000  \n",
              "area error                17.850000   24.530000    45.190000   542.20000  \n",
              "smoothness error           0.005169    0.006380     0.008146     0.03113  \n",
              "compactness error          0.013080    0.020450     0.032450     0.13540  \n",
              "concavity error            0.015090    0.025890     0.042050     0.39600  \n",
              "concave points error       0.007638    0.010930     0.014710     0.05279  \n",
              "symmetry error             0.015160    0.018730     0.023480     0.07895  \n",
              "fractal dimension error    0.002248    0.003187     0.004558     0.02984  \n",
              "worst radius              13.010000   14.970000    18.790000    36.04000  \n",
              "worst texture             21.080000   25.410000    29.720000    49.54000  \n",
              "worst perimeter           84.110000   97.660000   125.400000   251.20000  \n",
              "worst area               515.300000  686.500000  1084.000000  4254.00000  \n",
              "worst smoothness           0.116600    0.131300     0.146000     0.22260  \n",
              "worst compactness          0.147200    0.211900     0.339100     1.05800  \n",
              "worst concavity            0.114500    0.226700     0.382900     1.25200  \n",
              "worst concave points       0.064930    0.099930     0.161400     0.29100  \n",
              "worst symmetry             0.250400    0.282200     0.317900     0.66380  \n",
              "worst fractal dimension    0.071460    0.080040     0.092080     0.20750  \n",
              "target                     0.000000    1.000000     1.000000     1.00000  "
            ],
            "text/html": [
              "\n",
              "  <div id=\"df-60b31c7d-3672-4d0c-b79b-64be4775540a\">\n",
              "    <div class=\"colab-df-container\">\n",
              "      <div>\n",
              "<style scoped>\n",
              "    .dataframe tbody tr th:only-of-type {\n",
              "        vertical-align: middle;\n",
              "    }\n",
              "\n",
              "    .dataframe tbody tr th {\n",
              "        vertical-align: top;\n",
              "    }\n",
              "\n",
              "    .dataframe thead th {\n",
              "        text-align: right;\n",
              "    }\n",
              "</style>\n",
              "<table border=\"1\" class=\"dataframe\">\n",
              "  <thead>\n",
              "    <tr style=\"text-align: right;\">\n",
              "      <th></th>\n",
              "      <th>count</th>\n",
              "      <th>mean</th>\n",
              "      <th>std</th>\n",
              "      <th>min</th>\n",
              "      <th>25%</th>\n",
              "      <th>50%</th>\n",
              "      <th>75%</th>\n",
              "      <th>max</th>\n",
              "    </tr>\n",
              "  </thead>\n",
              "  <tbody>\n",
              "    <tr>\n",
              "      <th>mean radius</th>\n",
              "      <td>569.0</td>\n",
              "      <td>14.127292</td>\n",
              "      <td>3.524049</td>\n",
              "      <td>6.981000</td>\n",
              "      <td>11.700000</td>\n",
              "      <td>13.370000</td>\n",
              "      <td>15.780000</td>\n",
              "      <td>28.11000</td>\n",
              "    </tr>\n",
              "    <tr>\n",
              "      <th>mean texture</th>\n",
              "      <td>569.0</td>\n",
              "      <td>19.289649</td>\n",
              "      <td>4.301036</td>\n",
              "      <td>9.710000</td>\n",
              "      <td>16.170000</td>\n",
              "      <td>18.840000</td>\n",
              "      <td>21.800000</td>\n",
              "      <td>39.28000</td>\n",
              "    </tr>\n",
              "    <tr>\n",
              "      <th>mean perimeter</th>\n",
              "      <td>569.0</td>\n",
              "      <td>91.969033</td>\n",
              "      <td>24.298981</td>\n",
              "      <td>43.790000</td>\n",
              "      <td>75.170000</td>\n",
              "      <td>86.240000</td>\n",
              "      <td>104.100000</td>\n",
              "      <td>188.50000</td>\n",
              "    </tr>\n",
              "    <tr>\n",
              "      <th>mean area</th>\n",
              "      <td>569.0</td>\n",
              "      <td>654.889104</td>\n",
              "      <td>351.914129</td>\n",
              "      <td>143.500000</td>\n",
              "      <td>420.300000</td>\n",
              "      <td>551.100000</td>\n",
              "      <td>782.700000</td>\n",
              "      <td>2501.00000</td>\n",
              "    </tr>\n",
              "    <tr>\n",
              "      <th>mean smoothness</th>\n",
              "      <td>569.0</td>\n",
              "      <td>0.096360</td>\n",
              "      <td>0.014064</td>\n",
              "      <td>0.052630</td>\n",
              "      <td>0.086370</td>\n",
              "      <td>0.095870</td>\n",
              "      <td>0.105300</td>\n",
              "      <td>0.16340</td>\n",
              "    </tr>\n",
              "    <tr>\n",
              "      <th>mean compactness</th>\n",
              "      <td>569.0</td>\n",
              "      <td>0.104341</td>\n",
              "      <td>0.052813</td>\n",
              "      <td>0.019380</td>\n",
              "      <td>0.064920</td>\n",
              "      <td>0.092630</td>\n",
              "      <td>0.130400</td>\n",
              "      <td>0.34540</td>\n",
              "    </tr>\n",
              "    <tr>\n",
              "      <th>mean concavity</th>\n",
              "      <td>569.0</td>\n",
              "      <td>0.088799</td>\n",
              "      <td>0.079720</td>\n",
              "      <td>0.000000</td>\n",
              "      <td>0.029560</td>\n",
              "      <td>0.061540</td>\n",
              "      <td>0.130700</td>\n",
              "      <td>0.42680</td>\n",
              "    </tr>\n",
              "    <tr>\n",
              "      <th>mean concave points</th>\n",
              "      <td>569.0</td>\n",
              "      <td>0.048919</td>\n",
              "      <td>0.038803</td>\n",
              "      <td>0.000000</td>\n",
              "      <td>0.020310</td>\n",
              "      <td>0.033500</td>\n",
              "      <td>0.074000</td>\n",
              "      <td>0.20120</td>\n",
              "    </tr>\n",
              "    <tr>\n",
              "      <th>mean symmetry</th>\n",
              "      <td>569.0</td>\n",
              "      <td>0.181162</td>\n",
              "      <td>0.027414</td>\n",
              "      <td>0.106000</td>\n",
              "      <td>0.161900</td>\n",
              "      <td>0.179200</td>\n",
              "      <td>0.195700</td>\n",
              "      <td>0.30400</td>\n",
              "    </tr>\n",
              "    <tr>\n",
              "      <th>mean fractal dimension</th>\n",
              "      <td>569.0</td>\n",
              "      <td>0.062798</td>\n",
              "      <td>0.007060</td>\n",
              "      <td>0.049960</td>\n",
              "      <td>0.057700</td>\n",
              "      <td>0.061540</td>\n",
              "      <td>0.066120</td>\n",
              "      <td>0.09744</td>\n",
              "    </tr>\n",
              "    <tr>\n",
              "      <th>radius error</th>\n",
              "      <td>569.0</td>\n",
              "      <td>0.405172</td>\n",
              "      <td>0.277313</td>\n",
              "      <td>0.111500</td>\n",
              "      <td>0.232400</td>\n",
              "      <td>0.324200</td>\n",
              "      <td>0.478900</td>\n",
              "      <td>2.87300</td>\n",
              "    </tr>\n",
              "    <tr>\n",
              "      <th>texture error</th>\n",
              "      <td>569.0</td>\n",
              "      <td>1.216853</td>\n",
              "      <td>0.551648</td>\n",
              "      <td>0.360200</td>\n",
              "      <td>0.833900</td>\n",
              "      <td>1.108000</td>\n",
              "      <td>1.474000</td>\n",
              "      <td>4.88500</td>\n",
              "    </tr>\n",
              "    <tr>\n",
              "      <th>perimeter error</th>\n",
              "      <td>569.0</td>\n",
              "      <td>2.866059</td>\n",
              "      <td>2.021855</td>\n",
              "      <td>0.757000</td>\n",
              "      <td>1.606000</td>\n",
              "      <td>2.287000</td>\n",
              "      <td>3.357000</td>\n",
              "      <td>21.98000</td>\n",
              "    </tr>\n",
              "    <tr>\n",
              "      <th>area error</th>\n",
              "      <td>569.0</td>\n",
              "      <td>40.337079</td>\n",
              "      <td>45.491006</td>\n",
              "      <td>6.802000</td>\n",
              "      <td>17.850000</td>\n",
              "      <td>24.530000</td>\n",
              "      <td>45.190000</td>\n",
              "      <td>542.20000</td>\n",
              "    </tr>\n",
              "    <tr>\n",
              "      <th>smoothness error</th>\n",
              "      <td>569.0</td>\n",
              "      <td>0.007041</td>\n",
              "      <td>0.003003</td>\n",
              "      <td>0.001713</td>\n",
              "      <td>0.005169</td>\n",
              "      <td>0.006380</td>\n",
              "      <td>0.008146</td>\n",
              "      <td>0.03113</td>\n",
              "    </tr>\n",
              "    <tr>\n",
              "      <th>compactness error</th>\n",
              "      <td>569.0</td>\n",
              "      <td>0.025478</td>\n",
              "      <td>0.017908</td>\n",
              "      <td>0.002252</td>\n",
              "      <td>0.013080</td>\n",
              "      <td>0.020450</td>\n",
              "      <td>0.032450</td>\n",
              "      <td>0.13540</td>\n",
              "    </tr>\n",
              "    <tr>\n",
              "      <th>concavity error</th>\n",
              "      <td>569.0</td>\n",
              "      <td>0.031894</td>\n",
              "      <td>0.030186</td>\n",
              "      <td>0.000000</td>\n",
              "      <td>0.015090</td>\n",
              "      <td>0.025890</td>\n",
              "      <td>0.042050</td>\n",
              "      <td>0.39600</td>\n",
              "    </tr>\n",
              "    <tr>\n",
              "      <th>concave points error</th>\n",
              "      <td>569.0</td>\n",
              "      <td>0.011796</td>\n",
              "      <td>0.006170</td>\n",
              "      <td>0.000000</td>\n",
              "      <td>0.007638</td>\n",
              "      <td>0.010930</td>\n",
              "      <td>0.014710</td>\n",
              "      <td>0.05279</td>\n",
              "    </tr>\n",
              "    <tr>\n",
              "      <th>symmetry error</th>\n",
              "      <td>569.0</td>\n",
              "      <td>0.020542</td>\n",
              "      <td>0.008266</td>\n",
              "      <td>0.007882</td>\n",
              "      <td>0.015160</td>\n",
              "      <td>0.018730</td>\n",
              "      <td>0.023480</td>\n",
              "      <td>0.07895</td>\n",
              "    </tr>\n",
              "    <tr>\n",
              "      <th>fractal dimension error</th>\n",
              "      <td>569.0</td>\n",
              "      <td>0.003795</td>\n",
              "      <td>0.002646</td>\n",
              "      <td>0.000895</td>\n",
              "      <td>0.002248</td>\n",
              "      <td>0.003187</td>\n",
              "      <td>0.004558</td>\n",
              "      <td>0.02984</td>\n",
              "    </tr>\n",
              "    <tr>\n",
              "      <th>worst radius</th>\n",
              "      <td>569.0</td>\n",
              "      <td>16.269190</td>\n",
              "      <td>4.833242</td>\n",
              "      <td>7.930000</td>\n",
              "      <td>13.010000</td>\n",
              "      <td>14.970000</td>\n",
              "      <td>18.790000</td>\n",
              "      <td>36.04000</td>\n",
              "    </tr>\n",
              "    <tr>\n",
              "      <th>worst texture</th>\n",
              "      <td>569.0</td>\n",
              "      <td>25.677223</td>\n",
              "      <td>6.146258</td>\n",
              "      <td>12.020000</td>\n",
              "      <td>21.080000</td>\n",
              "      <td>25.410000</td>\n",
              "      <td>29.720000</td>\n",
              "      <td>49.54000</td>\n",
              "    </tr>\n",
              "    <tr>\n",
              "      <th>worst perimeter</th>\n",
              "      <td>569.0</td>\n",
              "      <td>107.261213</td>\n",
              "      <td>33.602542</td>\n",
              "      <td>50.410000</td>\n",
              "      <td>84.110000</td>\n",
              "      <td>97.660000</td>\n",
              "      <td>125.400000</td>\n",
              "      <td>251.20000</td>\n",
              "    </tr>\n",
              "    <tr>\n",
              "      <th>worst area</th>\n",
              "      <td>569.0</td>\n",
              "      <td>880.583128</td>\n",
              "      <td>569.356993</td>\n",
              "      <td>185.200000</td>\n",
              "      <td>515.300000</td>\n",
              "      <td>686.500000</td>\n",
              "      <td>1084.000000</td>\n",
              "      <td>4254.00000</td>\n",
              "    </tr>\n",
              "    <tr>\n",
              "      <th>worst smoothness</th>\n",
              "      <td>569.0</td>\n",
              "      <td>0.132369</td>\n",
              "      <td>0.022832</td>\n",
              "      <td>0.071170</td>\n",
              "      <td>0.116600</td>\n",
              "      <td>0.131300</td>\n",
              "      <td>0.146000</td>\n",
              "      <td>0.22260</td>\n",
              "    </tr>\n",
              "    <tr>\n",
              "      <th>worst compactness</th>\n",
              "      <td>569.0</td>\n",
              "      <td>0.254265</td>\n",
              "      <td>0.157336</td>\n",
              "      <td>0.027290</td>\n",
              "      <td>0.147200</td>\n",
              "      <td>0.211900</td>\n",
              "      <td>0.339100</td>\n",
              "      <td>1.05800</td>\n",
              "    </tr>\n",
              "    <tr>\n",
              "      <th>worst concavity</th>\n",
              "      <td>569.0</td>\n",
              "      <td>0.272188</td>\n",
              "      <td>0.208624</td>\n",
              "      <td>0.000000</td>\n",
              "      <td>0.114500</td>\n",
              "      <td>0.226700</td>\n",
              "      <td>0.382900</td>\n",
              "      <td>1.25200</td>\n",
              "    </tr>\n",
              "    <tr>\n",
              "      <th>worst concave points</th>\n",
              "      <td>569.0</td>\n",
              "      <td>0.114606</td>\n",
              "      <td>0.065732</td>\n",
              "      <td>0.000000</td>\n",
              "      <td>0.064930</td>\n",
              "      <td>0.099930</td>\n",
              "      <td>0.161400</td>\n",
              "      <td>0.29100</td>\n",
              "    </tr>\n",
              "    <tr>\n",
              "      <th>worst symmetry</th>\n",
              "      <td>569.0</td>\n",
              "      <td>0.290076</td>\n",
              "      <td>0.061867</td>\n",
              "      <td>0.156500</td>\n",
              "      <td>0.250400</td>\n",
              "      <td>0.282200</td>\n",
              "      <td>0.317900</td>\n",
              "      <td>0.66380</td>\n",
              "    </tr>\n",
              "    <tr>\n",
              "      <th>worst fractal dimension</th>\n",
              "      <td>569.0</td>\n",
              "      <td>0.083946</td>\n",
              "      <td>0.018061</td>\n",
              "      <td>0.055040</td>\n",
              "      <td>0.071460</td>\n",
              "      <td>0.080040</td>\n",
              "      <td>0.092080</td>\n",
              "      <td>0.20750</td>\n",
              "    </tr>\n",
              "    <tr>\n",
              "      <th>target</th>\n",
              "      <td>569.0</td>\n",
              "      <td>0.627417</td>\n",
              "      <td>0.483918</td>\n",
              "      <td>0.000000</td>\n",
              "      <td>0.000000</td>\n",
              "      <td>1.000000</td>\n",
              "      <td>1.000000</td>\n",
              "      <td>1.00000</td>\n",
              "    </tr>\n",
              "  </tbody>\n",
              "</table>\n",
              "</div>\n",
              "      <button class=\"colab-df-convert\" onclick=\"convertToInteractive('df-60b31c7d-3672-4d0c-b79b-64be4775540a')\"\n",
              "              title=\"Convert this dataframe to an interactive table.\"\n",
              "              style=\"display:none;\">\n",
              "        \n",
              "  <svg xmlns=\"http://www.w3.org/2000/svg\" height=\"24px\"viewBox=\"0 0 24 24\"\n",
              "       width=\"24px\">\n",
              "    <path d=\"M0 0h24v24H0V0z\" fill=\"none\"/>\n",
              "    <path d=\"M18.56 5.44l.94 2.06.94-2.06 2.06-.94-2.06-.94-.94-2.06-.94 2.06-2.06.94zm-11 1L8.5 8.5l.94-2.06 2.06-.94-2.06-.94L8.5 2.5l-.94 2.06-2.06.94zm10 10l.94 2.06.94-2.06 2.06-.94-2.06-.94-.94-2.06-.94 2.06-2.06.94z\"/><path d=\"M17.41 7.96l-1.37-1.37c-.4-.4-.92-.59-1.43-.59-.52 0-1.04.2-1.43.59L10.3 9.45l-7.72 7.72c-.78.78-.78 2.05 0 2.83L4 21.41c.39.39.9.59 1.41.59.51 0 1.02-.2 1.41-.59l7.78-7.78 2.81-2.81c.8-.78.8-2.07 0-2.86zM5.41 20L4 18.59l7.72-7.72 1.47 1.35L5.41 20z\"/>\n",
              "  </svg>\n",
              "      </button>\n",
              "      \n",
              "  <style>\n",
              "    .colab-df-container {\n",
              "      display:flex;\n",
              "      flex-wrap:wrap;\n",
              "      gap: 12px;\n",
              "    }\n",
              "\n",
              "    .colab-df-convert {\n",
              "      background-color: #E8F0FE;\n",
              "      border: none;\n",
              "      border-radius: 50%;\n",
              "      cursor: pointer;\n",
              "      display: none;\n",
              "      fill: #1967D2;\n",
              "      height: 32px;\n",
              "      padding: 0 0 0 0;\n",
              "      width: 32px;\n",
              "    }\n",
              "\n",
              "    .colab-df-convert:hover {\n",
              "      background-color: #E2EBFA;\n",
              "      box-shadow: 0px 1px 2px rgba(60, 64, 67, 0.3), 0px 1px 3px 1px rgba(60, 64, 67, 0.15);\n",
              "      fill: #174EA6;\n",
              "    }\n",
              "\n",
              "    [theme=dark] .colab-df-convert {\n",
              "      background-color: #3B4455;\n",
              "      fill: #D2E3FC;\n",
              "    }\n",
              "\n",
              "    [theme=dark] .colab-df-convert:hover {\n",
              "      background-color: #434B5C;\n",
              "      box-shadow: 0px 1px 3px 1px rgba(0, 0, 0, 0.15);\n",
              "      filter: drop-shadow(0px 1px 2px rgba(0, 0, 0, 0.3));\n",
              "      fill: #FFFFFF;\n",
              "    }\n",
              "  </style>\n",
              "\n",
              "      <script>\n",
              "        const buttonEl =\n",
              "          document.querySelector('#df-60b31c7d-3672-4d0c-b79b-64be4775540a button.colab-df-convert');\n",
              "        buttonEl.style.display =\n",
              "          google.colab.kernel.accessAllowed ? 'block' : 'none';\n",
              "\n",
              "        async function convertToInteractive(key) {\n",
              "          const element = document.querySelector('#df-60b31c7d-3672-4d0c-b79b-64be4775540a');\n",
              "          const dataTable =\n",
              "            await google.colab.kernel.invokeFunction('convertToInteractive',\n",
              "                                                     [key], {});\n",
              "          if (!dataTable) return;\n",
              "\n",
              "          const docLinkHtml = 'Like what you see? Visit the ' +\n",
              "            '<a target=\"_blank\" href=https://colab.research.google.com/notebooks/data_table.ipynb>data table notebook</a>'\n",
              "            + ' to learn more about interactive tables.';\n",
              "          element.innerHTML = '';\n",
              "          dataTable['output_type'] = 'display_data';\n",
              "          await google.colab.output.renderOutput(dataTable, element);\n",
              "          const docLink = document.createElement('div');\n",
              "          docLink.innerHTML = docLinkHtml;\n",
              "          element.appendChild(docLink);\n",
              "        }\n",
              "      </script>\n",
              "    </div>\n",
              "  </div>\n",
              "  "
            ]
          },
          "metadata": {},
          "execution_count": 115
        }
      ]
    },
    {
      "cell_type": "code",
      "source": [
        "df.corr()['target']"
      ],
      "metadata": {
        "colab": {
          "base_uri": "https://localhost:8080/"
        },
        "id": "Wl1Jy4NgxzW-",
        "outputId": "eaa20d2b-0a66-4987-8955-58b241b078ec"
      },
      "execution_count": null,
      "outputs": [
        {
          "output_type": "execute_result",
          "data": {
            "text/plain": [
              "mean radius               -0.730029\n",
              "mean texture              -0.415185\n",
              "mean perimeter            -0.742636\n",
              "mean area                 -0.708984\n",
              "mean smoothness           -0.358560\n",
              "mean compactness          -0.596534\n",
              "mean concavity            -0.696360\n",
              "mean concave points       -0.776614\n",
              "mean symmetry             -0.330499\n",
              "mean fractal dimension     0.012838\n",
              "radius error              -0.567134\n",
              "texture error              0.008303\n",
              "perimeter error           -0.556141\n",
              "area error                -0.548236\n",
              "smoothness error           0.067016\n",
              "compactness error         -0.292999\n",
              "concavity error           -0.253730\n",
              "concave points error      -0.408042\n",
              "symmetry error             0.006522\n",
              "fractal dimension error   -0.077972\n",
              "worst radius              -0.776454\n",
              "worst texture             -0.456903\n",
              "worst perimeter           -0.782914\n",
              "worst area                -0.733825\n",
              "worst smoothness          -0.421465\n",
              "worst compactness         -0.590998\n",
              "worst concavity           -0.659610\n",
              "worst concave points      -0.793566\n",
              "worst symmetry            -0.416294\n",
              "worst fractal dimension   -0.323872\n",
              "target                     1.000000\n",
              "Name: target, dtype: float64"
            ]
          },
          "metadata": {},
          "execution_count": 116
        }
      ]
    },
    {
      "cell_type": "code",
      "source": [
        "df.corr()['target'][:-1].sort_values().plot(kind='bar')"
      ],
      "metadata": {
        "colab": {
          "base_uri": "https://localhost:8080/",
          "height": 391
        },
        "id": "q2aPHRivzE_4",
        "outputId": "6452aaaa-91cd-4997-e883-fb3b501feb88"
      },
      "execution_count": null,
      "outputs": [
        {
          "output_type": "execute_result",
          "data": {
            "text/plain": [
              "<matplotlib.axes._subplots.AxesSubplot at 0x7f213c810250>"
            ]
          },
          "metadata": {},
          "execution_count": 118
        },
        {
          "output_type": "display_data",
          "data": {
            "text/plain": [
              "<Figure size 432x288 with 1 Axes>"
            ],
            "image/png": "[encoded data removed]"
          },
          "metadata": {
            "needs_background": "light"
          }
        }
      ]
    },
    {
      "cell_type": "code",
      "source": [
        "sns.heatmap(df.corr())"
      ],
      "metadata": {
        "colab": {
          "base_uri": "https://localhost:8080/",
          "height": 368
        },
        "id": "bYFoVL9dzMII",
        "outputId": "84a949b7-9211-4370-8b98-60c3f55d3ae1"
      },
      "execution_count": null,
      "outputs": [
        {
          "output_type": "execute_result",
          "data": {
            "text/plain": [
              "<matplotlib.axes._subplots.AxesSubplot at 0x7f20cb1b15d0>"
            ]
          },
          "metadata": {},
          "execution_count": 119
        },
        {
          "output_type": "display_data",
          "data": {
            "text/plain": [
              "<Figure size 432x288 with 2 Axes>"
            ],
            "image/png": "[encoded data removed]"
          },
          "metadata": {
            "needs_background": "light"
          }
        }
      ]
    },
    {
      "cell_type": "code",
      "source": [
        "X = df.drop('target',axis=1).values\n",
        "y = df['target'].values\n",
        "xtrain, xtest, ytrain, yest = train_test_split(X, y, test_size=0.25)"
      ],
      "metadata": {
        "id": "aITFWYzFzbth"
      },
      "execution_count": null,
      "outputs": []
    },
    {
      "cell_type": "code",
      "source": [
        "xtrain=scaler.fit_transform(xtrain)"
      ],
      "metadata": {
        "id": "8r61nqmYzphj"
      },
      "execution_count": null,
      "outputs": []
    },
    {
      "cell_type": "code",
      "source": [
        "xtest = scaler.transform(xtest)"
      ],
      "metadata": {
        "id": "lWStLZJqzt7A"
      },
      "execution_count": null,
      "outputs": []
    },
    {
      "cell_type": "code",
      "source": [
        "from tensorflow.keras.layers import Dropout"
      ],
      "metadata": {
        "id": "UEK7bfduzxXo"
      },
      "execution_count": null,
      "outputs": []
    },
    {
      "cell_type": "code",
      "source": [
        "xtrain.shape"
      ],
      "metadata": {
        "colab": {
          "base_uri": "https://localhost:8080/"
        },
        "id": "2gIgXghWz_Qz",
        "outputId": "479bdf92-6a23-4da0-b550-a06abc2b198f"
      },
      "execution_count": null,
      "outputs": [
        {
          "output_type": "execute_result",
          "data": {
            "text/plain": [
              "(426, 30)"
            ]
          },
          "metadata": {},
          "execution_count": 125
        }
      ]
    },
    {
      "cell_type": "code",
      "source": [
        "model = Sequential()\n",
        "model.add(Dense(30, activation='relu'))\n",
        "model.add(Dense(15, activation='relu'))\n",
        "model.add(Dense(1, activation='sigmoid'))\n",
        "model.compile(loss='binary_crossentropy', optimizer='adam')"
      ],
      "metadata": {
        "id": "GyM-X6ze0CC6"
      },
      "execution_count": null,
      "outputs": []
    },
    {
      "cell_type": "code",
      "source": [
        "model.fit(x=xtrain, y=ytrain, epochs=200, validation_data= (xtest, yest))"
      ],
      "metadata": {
        "colab": {
          "base_uri": "https://localhost:8080/"
        },
        "id": "peRzvbtL0P9M",
        "outputId": "a7f7dc54-5b0f-49c6-90b5-7afee4d16fc1"
      },
      "execution_count": null,
      "outputs": [
        {
          "output_type": "stream",
          "name": "stdout",
          "text": [
            "Epoch 1/200\n",
            "14/14 [==============================] - 2s 26ms/step - loss: 0.6743 - val_loss: 0.6541\n",
            "Epoch 2/200\n",
            "14/14 [==============================] - 0s 8ms/step - loss: 0.6378 - val_loss: 0.6150\n",
            "Epoch 3/200\n",
            "14/14 [==============================] - 0s 9ms/step - loss: 0.6006 - val_loss: 0.5741\n",
            "Epoch 4/200\n",
            "14/14 [==============================] - 0s 11ms/step - loss: 0.5591 - val_loss: 0.5269\n",
            "Epoch 5/200\n",
            "14/14 [==============================] - 0s 8ms/step - loss: 0.5058 - val_loss: 0.4700\n",
            "Epoch 6/200\n",
            "14/14 [==============================] - 0s 13ms/step - loss: 0.4469 - val_loss: 0.4105\n",
            "Epoch 7/200\n",
            "14/14 [==============================] - 0s 9ms/step - loss: 0.3906 - val_loss: 0.3596\n",
            "Epoch 8/200\n",
            "14/14 [==============================] - 0s 8ms/step - loss: 0.3477 - val_loss: 0.3165\n",
            "Epoch 9/200\n",
            "14/14 [==============================] - 0s 8ms/step - loss: 0.3129 - val_loss: 0.2835\n",
            "Epoch 10/200\n",
            "14/14 [==============================] - 0s 8ms/step - loss: 0.2841 - val_loss: 0.2588\n",
            "Epoch 11/200\n",
            "14/14 [==============================] - 0s 7ms/step - loss: 0.2547 - val_loss: 0.2362\n",
            "Epoch 12/200\n",
            "14/14 [==============================] - 0s 7ms/step - loss: 0.2341 - val_loss: 0.2176\n",
            "Epoch 13/200\n",
            "14/14 [==============================] - 0s 8ms/step - loss: 0.2179 - val_loss: 0.2012\n",
            "Epoch 14/200\n",
            "14/14 [==============================] - 0s 8ms/step - loss: 0.2022 - val_loss: 0.1888\n",
            "Epoch 15/200\n",
            "14/14 [==============================] - 0s 7ms/step - loss: 0.1887 - val_loss: 0.1761\n",
            "Epoch 16/200\n",
            "14/14 [==============================] - 0s 7ms/step - loss: 0.1745 - val_loss: 0.1672\n",
            "Epoch 17/200\n",
            "14/14 [==============================] - 0s 7ms/step - loss: 0.1641 - val_loss: 0.1553\n",
            "Epoch 18/200\n",
            "14/14 [==============================] - 0s 10ms/step - loss: 0.1563 - val_loss: 0.1453\n",
            "Epoch 19/200\n",
            "14/14 [==============================] - 0s 10ms/step - loss: 0.1475 - val_loss: 0.1384\n",
            "Epoch 20/200\n",
            "14/14 [==============================] - 0s 7ms/step - loss: 0.1389 - val_loss: 0.1330\n",
            "Epoch 21/200\n",
            "14/14 [==============================] - 0s 7ms/step - loss: 0.1326 - val_loss: 0.1261\n",
            "Epoch 22/200\n",
            "14/14 [==============================] - 0s 7ms/step - loss: 0.1276 - val_loss: 0.1212\n",
            "Epoch 23/200\n",
            "14/14 [==============================] - 0s 7ms/step - loss: 0.1245 - val_loss: 0.1136\n",
            "Epoch 24/200\n",
            "14/14 [==============================] - 0s 7ms/step - loss: 0.1162 - val_loss: 0.1133\n",
            "Epoch 25/200\n",
            "14/14 [==============================] - 0s 8ms/step - loss: 0.1105 - val_loss: 0.1066\n",
            "Epoch 26/200\n",
            "14/14 [==============================] - 0s 8ms/step - loss: 0.1084 - val_loss: 0.1028\n",
            "Epoch 27/200\n",
            "14/14 [==============================] - 0s 8ms/step - loss: 0.1042 - val_loss: 0.1019\n",
            "Epoch 28/200\n",
            "14/14 [==============================] - 0s 8ms/step - loss: 0.1018 - val_loss: 0.1007\n",
            "Epoch 29/200\n",
            "14/14 [==============================] - 0s 10ms/step - loss: 0.0964 - val_loss: 0.0935\n",
            "Epoch 30/200\n",
            "14/14 [==============================] - 0s 8ms/step - loss: 0.0940 - val_loss: 0.0931\n",
            "Epoch 31/200\n",
            "14/14 [==============================] - 0s 8ms/step - loss: 0.0910 - val_loss: 0.0917\n",
            "Epoch 32/200\n",
            "14/14 [==============================] - 0s 10ms/step - loss: 0.0916 - val_loss: 0.0870\n",
            "Epoch 33/200\n",
            "14/14 [==============================] - 0s 8ms/step - loss: 0.0883 - val_loss: 0.0888\n",
            "Epoch 34/200\n",
            "14/14 [==============================] - 0s 9ms/step - loss: 0.0866 - val_loss: 0.0838\n",
            "Epoch 35/200\n",
            "14/14 [==============================] - 0s 8ms/step - loss: 0.0852 - val_loss: 0.0848\n",
            "Epoch 36/200\n",
            "14/14 [==============================] - 0s 9ms/step - loss: 0.0807 - val_loss: 0.0843\n",
            "Epoch 37/200\n",
            "14/14 [==============================] - 0s 8ms/step - loss: 0.0806 - val_loss: 0.0833\n",
            "Epoch 38/200\n",
            "14/14 [==============================] - 0s 7ms/step - loss: 0.0775 - val_loss: 0.0816\n",
            "Epoch 39/200\n",
            "14/14 [==============================] - 0s 8ms/step - loss: 0.0762 - val_loss: 0.0808\n",
            "Epoch 40/200\n",
            "14/14 [==============================] - 0s 9ms/step - loss: 0.0757 - val_loss: 0.0845\n",
            "Epoch 41/200\n",
            "14/14 [==============================] - 0s 8ms/step - loss: 0.0770 - val_loss: 0.0761\n",
            "Epoch 42/200\n",
            "14/14 [==============================] - 0s 8ms/step - loss: 0.0731 - val_loss: 0.0800\n",
            "Epoch 43/200\n",
            "14/14 [==============================] - 0s 8ms/step - loss: 0.0712 - val_loss: 0.0756\n",
            "Epoch 44/200\n",
            "14/14 [==============================] - 0s 7ms/step - loss: 0.0708 - val_loss: 0.0760\n",
            "Epoch 45/200\n",
            "14/14 [==============================] - 0s 8ms/step - loss: 0.0700 - val_loss: 0.0774\n",
            "Epoch 46/200\n",
            "14/14 [==============================] - 0s 9ms/step - loss: 0.0685 - val_loss: 0.0798\n",
            "Epoch 47/200\n",
            "14/14 [==============================] - 0s 8ms/step - loss: 0.0692 - val_loss: 0.0770\n",
            "Epoch 48/200\n",
            "14/14 [==============================] - 0s 7ms/step - loss: 0.0677 - val_loss: 0.0722\n",
            "Epoch 49/200\n",
            "14/14 [==============================] - 0s 11ms/step - loss: 0.0689 - val_loss: 0.0739\n",
            "Epoch 50/200\n",
            "14/14 [==============================] - 0s 7ms/step - loss: 0.0650 - val_loss: 0.0719\n",
            "Epoch 51/200\n",
            "14/14 [==============================] - 0s 7ms/step - loss: 0.0658 - val_loss: 0.0792\n",
            "Epoch 52/200\n",
            "14/14 [==============================] - 0s 7ms/step - loss: 0.0651 - val_loss: 0.0709\n",
            "Epoch 53/200\n",
            "14/14 [==============================] - 0s 7ms/step - loss: 0.0637 - val_loss: 0.0725\n",
            "Epoch 54/200\n",
            "14/14 [==============================] - 0s 8ms/step - loss: 0.0627 - val_loss: 0.0724\n",
            "Epoch 55/200\n",
            "14/14 [==============================] - 0s 8ms/step - loss: 0.0618 - val_loss: 0.0718\n",
            "Epoch 56/200\n",
            "14/14 [==============================] - 0s 7ms/step - loss: 0.0614 - val_loss: 0.0731\n",
            "Epoch 57/200\n",
            "14/14 [==============================] - 0s 7ms/step - loss: 0.0638 - val_loss: 0.0685\n",
            "Epoch 58/200\n",
            "14/14 [==============================] - 0s 9ms/step - loss: 0.0602 - val_loss: 0.0712\n",
            "Epoch 59/200\n",
            "14/14 [==============================] - 0s 7ms/step - loss: 0.0597 - val_loss: 0.0702\n",
            "Epoch 60/200\n",
            "14/14 [==============================] - 0s 9ms/step - loss: 0.0591 - val_loss: 0.0757\n",
            "Epoch 61/200\n",
            "14/14 [==============================] - 0s 6ms/step - loss: 0.0598 - val_loss: 0.0708\n",
            "Epoch 62/200\n",
            "14/14 [==============================] - 0s 8ms/step - loss: 0.0614 - val_loss: 0.0724\n",
            "Epoch 63/200\n",
            "14/14 [==============================] - 0s 10ms/step - loss: 0.0611 - val_loss: 0.0720\n",
            "Epoch 64/200\n",
            "14/14 [==============================] - 0s 9ms/step - loss: 0.0621 - val_loss: 0.0768\n",
            "Epoch 65/200\n",
            "14/14 [==============================] - 0s 8ms/step - loss: 0.0641 - val_loss: 0.0679\n",
            "Epoch 66/200\n",
            "14/14 [==============================] - 0s 11ms/step - loss: 0.0581 - val_loss: 0.0757\n",
            "Epoch 67/200\n",
            "14/14 [==============================] - 0s 9ms/step - loss: 0.0600 - val_loss: 0.0703\n",
            "Epoch 68/200\n",
            "14/14 [==============================] - 0s 10ms/step - loss: 0.0596 - val_loss: 0.0765\n",
            "Epoch 69/200\n",
            "14/14 [==============================] - 0s 9ms/step - loss: 0.0555 - val_loss: 0.0677\n",
            "Epoch 70/200\n",
            "14/14 [==============================] - 0s 8ms/step - loss: 0.0604 - val_loss: 0.0713\n",
            "Epoch 71/200\n",
            "14/14 [==============================] - 0s 9ms/step - loss: 0.0600 - val_loss: 0.0788\n",
            "Epoch 72/200\n",
            "14/14 [==============================] - 0s 8ms/step - loss: 0.0557 - val_loss: 0.0701\n",
            "Epoch 73/200\n",
            "14/14 [==============================] - 0s 9ms/step - loss: 0.0570 - val_loss: 0.0750\n",
            "Epoch 74/200\n",
            "14/14 [==============================] - 0s 8ms/step - loss: 0.0543 - val_loss: 0.0680\n",
            "Epoch 75/200\n",
            "14/14 [==============================] - 0s 7ms/step - loss: 0.0551 - val_loss: 0.0750\n",
            "Epoch 76/200\n",
            "14/14 [==============================] - 0s 8ms/step - loss: 0.0543 - val_loss: 0.0762\n",
            "Epoch 77/200\n",
            "14/14 [==============================] - 0s 8ms/step - loss: 0.0545 - val_loss: 0.0731\n",
            "Epoch 78/200\n",
            "14/14 [==============================] - 0s 8ms/step - loss: 0.0521 - val_loss: 0.0689\n",
            "Epoch 79/200\n",
            "14/14 [==============================] - 0s 8ms/step - loss: 0.0524 - val_loss: 0.0746\n",
            "Epoch 80/200\n",
            "14/14 [==============================] - 0s 7ms/step - loss: 0.0527 - val_loss: 0.0686\n",
            "Epoch 81/200\n",
            "14/14 [==============================] - 0s 7ms/step - loss: 0.0515 - val_loss: 0.0782\n",
            "Epoch 82/200\n",
            "14/14 [==============================] - 0s 8ms/step - loss: 0.0520 - val_loss: 0.0704\n",
            "Epoch 83/200\n",
            "14/14 [==============================] - 0s 8ms/step - loss: 0.0515 - val_loss: 0.0805\n",
            "Epoch 84/200\n",
            "14/14 [==============================] - 0s 9ms/step - loss: 0.0527 - val_loss: 0.0701\n",
            "Epoch 85/200\n",
            "14/14 [==============================] - 0s 8ms/step - loss: 0.0559 - val_loss: 0.0728\n",
            "Epoch 86/200\n",
            "14/14 [==============================] - 0s 8ms/step - loss: 0.0514 - val_loss: 0.0706\n",
            "Epoch 87/200\n",
            "14/14 [==============================] - 0s 8ms/step - loss: 0.0496 - val_loss: 0.0783\n",
            "Epoch 88/200\n",
            "14/14 [==============================] - 0s 8ms/step - loss: 0.0505 - val_loss: 0.0723\n",
            "Epoch 89/200\n",
            "14/14 [==============================] - 0s 9ms/step - loss: 0.0502 - val_loss: 0.0710\n",
            "Epoch 90/200\n",
            "14/14 [==============================] - 0s 10ms/step - loss: 0.0576 - val_loss: 0.0814\n",
            "Epoch 91/200\n",
            "14/14 [==============================] - 0s 10ms/step - loss: 0.0513 - val_loss: 0.0687\n",
            "Epoch 92/200\n",
            "14/14 [==============================] - 0s 8ms/step - loss: 0.0520 - val_loss: 0.0835\n",
            "Epoch 93/200\n",
            "14/14 [==============================] - 0s 9ms/step - loss: 0.0509 - val_loss: 0.0698\n",
            "Epoch 94/200\n",
            "14/14 [==============================] - 0s 8ms/step - loss: 0.0503 - val_loss: 0.0785\n",
            "Epoch 95/200\n",
            "14/14 [==============================] - 0s 8ms/step - loss: 0.0503 - val_loss: 0.0764\n",
            "Epoch 96/200\n",
            "14/14 [==============================] - 0s 7ms/step - loss: 0.0477 - val_loss: 0.0730\n",
            "Epoch 97/200\n",
            "14/14 [==============================] - 0s 8ms/step - loss: 0.0488 - val_loss: 0.0724\n",
            "Epoch 98/200\n",
            "14/14 [==============================] - 0s 7ms/step - loss: 0.0475 - val_loss: 0.0835\n",
            "Epoch 99/200\n",
            "14/14 [==============================] - 0s 9ms/step - loss: 0.0495 - val_loss: 0.0748\n",
            "Epoch 100/200\n",
            "14/14 [==============================] - 0s 8ms/step - loss: 0.0482 - val_loss: 0.0764\n",
            "Epoch 101/200\n",
            "14/14 [==============================] - 0s 8ms/step - loss: 0.0472 - val_loss: 0.0762\n",
            "Epoch 102/200\n",
            "14/14 [==============================] - 0s 8ms/step - loss: 0.0485 - val_loss: 0.0784\n",
            "Epoch 103/200\n",
            "14/14 [==============================] - 0s 8ms/step - loss: 0.0519 - val_loss: 0.0832\n",
            "Epoch 104/200\n",
            "14/14 [==============================] - 0s 12ms/step - loss: 0.0482 - val_loss: 0.0760\n",
            "Epoch 105/200\n",
            "14/14 [==============================] - 0s 8ms/step - loss: 0.0487 - val_loss: 0.0838\n",
            "Epoch 106/200\n",
            "14/14 [==============================] - 0s 8ms/step - loss: 0.0486 - val_loss: 0.0757\n",
            "Epoch 107/200\n",
            "14/14 [==============================] - 0s 11ms/step - loss: 0.0479 - val_loss: 0.0834\n",
            "Epoch 108/200\n",
            "14/14 [==============================] - 0s 8ms/step - loss: 0.0460 - val_loss: 0.0783\n",
            "Epoch 109/200\n",
            "14/14 [==============================] - 0s 9ms/step - loss: 0.0480 - val_loss: 0.0825\n",
            "Epoch 110/200\n",
            "14/14 [==============================] - 0s 9ms/step - loss: 0.0461 - val_loss: 0.0770\n",
            "Epoch 111/200\n",
            "14/14 [==============================] - 0s 7ms/step - loss: 0.0469 - val_loss: 0.0821\n",
            "Epoch 112/200\n",
            "14/14 [==============================] - 0s 9ms/step - loss: 0.0457 - val_loss: 0.0808\n",
            "Epoch 113/200\n",
            "14/14 [==============================] - 0s 7ms/step - loss: 0.0450 - val_loss: 0.0831\n",
            "Epoch 114/200\n",
            "14/14 [==============================] - 0s 8ms/step - loss: 0.0458 - val_loss: 0.0792\n",
            "Epoch 115/200\n",
            "14/14 [==============================] - 0s 9ms/step - loss: 0.0447 - val_loss: 0.0846\n",
            "Epoch 116/200\n",
            "14/14 [==============================] - 0s 8ms/step - loss: 0.0445 - val_loss: 0.0808\n",
            "Epoch 117/200\n",
            "14/14 [==============================] - 0s 8ms/step - loss: 0.0447 - val_loss: 0.0853\n",
            "Epoch 118/200\n",
            "14/14 [==============================] - 0s 8ms/step - loss: 0.0460 - val_loss: 0.0895\n",
            "Epoch 119/200\n",
            "14/14 [==============================] - 0s 8ms/step - loss: 0.0441 - val_loss: 0.0797\n",
            "Epoch 120/200\n",
            "14/14 [==============================] - 0s 10ms/step - loss: 0.0466 - val_loss: 0.0879\n",
            "Epoch 121/200\n",
            "14/14 [==============================] - 0s 7ms/step - loss: 0.0434 - val_loss: 0.0830\n",
            "Epoch 122/200\n",
            "14/14 [==============================] - 0s 7ms/step - loss: 0.0429 - val_loss: 0.0956\n",
            "Epoch 123/200\n",
            "14/14 [==============================] - 0s 8ms/step - loss: 0.0447 - val_loss: 0.0806\n",
            "Epoch 124/200\n",
            "14/14 [==============================] - 0s 10ms/step - loss: 0.0434 - val_loss: 0.0854\n",
            "Epoch 125/200\n",
            "14/14 [==============================] - 0s 8ms/step - loss: 0.0427 - val_loss: 0.0845\n",
            "Epoch 126/200\n",
            "14/14 [==============================] - 0s 8ms/step - loss: 0.0438 - val_loss: 0.0832\n",
            "Epoch 127/200\n",
            "14/14 [==============================] - 0s 7ms/step - loss: 0.0415 - val_loss: 0.0884\n",
            "Epoch 128/200\n",
            "14/14 [==============================] - 0s 8ms/step - loss: 0.0425 - val_loss: 0.0839\n",
            "Epoch 129/200\n",
            "14/14 [==============================] - 0s 7ms/step - loss: 0.0414 - val_loss: 0.0895\n",
            "Epoch 130/200\n",
            "14/14 [==============================] - 0s 7ms/step - loss: 0.0463 - val_loss: 0.0817\n",
            "Epoch 131/200\n",
            "14/14 [==============================] - 0s 7ms/step - loss: 0.0417 - val_loss: 0.0934\n",
            "Epoch 132/200\n",
            "14/14 [==============================] - 0s 7ms/step - loss: 0.0442 - val_loss: 0.0836\n",
            "Epoch 133/200\n",
            "14/14 [==============================] - 0s 9ms/step - loss: 0.0417 - val_loss: 0.0900\n",
            "Epoch 134/200\n",
            "14/14 [==============================] - 0s 11ms/step - loss: 0.0414 - val_loss: 0.0859\n",
            "Epoch 135/200\n",
            "14/14 [==============================] - 0s 4ms/step - loss: 0.0415 - val_loss: 0.0897\n",
            "Epoch 136/200\n",
            "14/14 [==============================] - 0s 5ms/step - loss: 0.0441 - val_loss: 0.0860\n",
            "Epoch 137/200\n",
            "14/14 [==============================] - 0s 5ms/step - loss: 0.0408 - val_loss: 0.0898\n",
            "Epoch 138/200\n",
            "14/14 [==============================] - 0s 8ms/step - loss: 0.0416 - val_loss: 0.0934\n",
            "Epoch 139/200\n",
            "14/14 [==============================] - 0s 12ms/step - loss: 0.0411 - val_loss: 0.0930\n",
            "Epoch 140/200\n",
            "14/14 [==============================] - 0s 8ms/step - loss: 0.0426 - val_loss: 0.0959\n",
            "Epoch 141/200\n",
            "14/14 [==============================] - 0s 18ms/step - loss: 0.0408 - val_loss: 0.0931\n",
            "Epoch 142/200\n",
            "14/14 [==============================] - 0s 21ms/step - loss: 0.0424 - val_loss: 0.0877\n",
            "Epoch 143/200\n",
            "14/14 [==============================] - 0s 13ms/step - loss: 0.0425 - val_loss: 0.0929\n",
            "Epoch 144/200\n",
            "14/14 [==============================] - 0s 14ms/step - loss: 0.0443 - val_loss: 0.0962\n",
            "Epoch 145/200\n",
            "14/14 [==============================] - 0s 7ms/step - loss: 0.0401 - val_loss: 0.0876\n",
            "Epoch 146/200\n",
            "14/14 [==============================] - 0s 8ms/step - loss: 0.0451 - val_loss: 0.1011\n",
            "Epoch 147/200\n",
            "14/14 [==============================] - 0s 9ms/step - loss: 0.0409 - val_loss: 0.0939\n",
            "Epoch 148/200\n",
            "14/14 [==============================] - 0s 9ms/step - loss: 0.0395 - val_loss: 0.0959\n",
            "Epoch 149/200\n",
            "14/14 [==============================] - 0s 8ms/step - loss: 0.0392 - val_loss: 0.0947\n",
            "Epoch 150/200\n",
            "14/14 [==============================] - 0s 9ms/step - loss: 0.0395 - val_loss: 0.0924\n",
            "Epoch 151/200\n",
            "14/14 [==============================] - 0s 8ms/step - loss: 0.0384 - val_loss: 0.1009\n",
            "Epoch 152/200\n",
            "14/14 [==============================] - 0s 8ms/step - loss: 0.0403 - val_loss: 0.0916\n",
            "Epoch 153/200\n",
            "14/14 [==============================] - 0s 11ms/step - loss: 0.0411 - val_loss: 0.0944\n",
            "Epoch 154/200\n",
            "14/14 [==============================] - 0s 7ms/step - loss: 0.0382 - val_loss: 0.0952\n",
            "Epoch 155/200\n",
            "14/14 [==============================] - 0s 9ms/step - loss: 0.0377 - val_loss: 0.0962\n",
            "Epoch 156/200\n",
            "14/14 [==============================] - 0s 9ms/step - loss: 0.0383 - val_loss: 0.0965\n",
            "Epoch 157/200\n",
            "14/14 [==============================] - 0s 7ms/step - loss: 0.0407 - val_loss: 0.1019\n",
            "Epoch 158/200\n",
            "14/14 [==============================] - 0s 8ms/step - loss: 0.0400 - val_loss: 0.0915\n",
            "Epoch 159/200\n",
            "14/14 [==============================] - 0s 8ms/step - loss: 0.0399 - val_loss: 0.1145\n",
            "Epoch 160/200\n",
            "14/14 [==============================] - 0s 10ms/step - loss: 0.0473 - val_loss: 0.0951\n",
            "Epoch 161/200\n",
            "14/14 [==============================] - 0s 10ms/step - loss: 0.0356 - val_loss: 0.1078\n",
            "Epoch 162/200\n",
            "14/14 [==============================] - 0s 8ms/step - loss: 0.0402 - val_loss: 0.0972\n",
            "Epoch 163/200\n",
            "14/14 [==============================] - 0s 12ms/step - loss: 0.0373 - val_loss: 0.0954\n",
            "Epoch 164/200\n",
            "14/14 [==============================] - 0s 8ms/step - loss: 0.0373 - val_loss: 0.0971\n",
            "Epoch 165/200\n",
            "14/14 [==============================] - 0s 8ms/step - loss: 0.0369 - val_loss: 0.0966\n",
            "Epoch 166/200\n",
            "14/14 [==============================] - 0s 8ms/step - loss: 0.0363 - val_loss: 0.1039\n",
            "Epoch 167/200\n",
            "14/14 [==============================] - 0s 10ms/step - loss: 0.0365 - val_loss: 0.0980\n",
            "Epoch 168/200\n",
            "14/14 [==============================] - 0s 10ms/step - loss: 0.0374 - val_loss: 0.1047\n",
            "Epoch 169/200\n",
            "14/14 [==============================] - 0s 6ms/step - loss: 0.0352 - val_loss: 0.1014\n",
            "Epoch 170/200\n",
            "14/14 [==============================] - 0s 7ms/step - loss: 0.0351 - val_loss: 0.1078\n",
            "Epoch 171/200\n",
            "14/14 [==============================] - 0s 4ms/step - loss: 0.0430 - val_loss: 0.0937\n",
            "Epoch 172/200\n",
            "14/14 [==============================] - 0s 6ms/step - loss: 0.0393 - val_loss: 0.1080\n",
            "Epoch 173/200\n",
            "14/14 [==============================] - 0s 7ms/step - loss: 0.0380 - val_loss: 0.1012\n",
            "Epoch 174/200\n",
            "14/14 [==============================] - 0s 6ms/step - loss: 0.0357 - val_loss: 0.1086\n",
            "Epoch 175/200\n",
            "14/14 [==============================] - 0s 4ms/step - loss: 0.0357 - val_loss: 0.0971\n",
            "Epoch 176/200\n",
            "14/14 [==============================] - 0s 4ms/step - loss: 0.0363 - val_loss: 0.1009\n",
            "Epoch 177/200\n",
            "14/14 [==============================] - 0s 4ms/step - loss: 0.0360 - val_loss: 0.1092\n",
            "Epoch 178/200\n",
            "14/14 [==============================] - 0s 5ms/step - loss: 0.0349 - val_loss: 0.1028\n",
            "Epoch 179/200\n",
            "14/14 [==============================] - 0s 5ms/step - loss: 0.0354 - val_loss: 0.1024\n",
            "Epoch 180/200\n",
            "14/14 [==============================] - 0s 4ms/step - loss: 0.0366 - val_loss: 0.1047\n",
            "Epoch 181/200\n",
            "14/14 [==============================] - 0s 6ms/step - loss: 0.0353 - val_loss: 0.1041\n",
            "Epoch 182/200\n",
            "14/14 [==============================] - 0s 5ms/step - loss: 0.0339 - val_loss: 0.1139\n",
            "Epoch 183/200\n",
            "14/14 [==============================] - 0s 6ms/step - loss: 0.0358 - val_loss: 0.0998\n",
            "Epoch 184/200\n",
            "14/14 [==============================] - 0s 5ms/step - loss: 0.0474 - val_loss: 0.1213\n",
            "Epoch 185/200\n",
            "14/14 [==============================] - 0s 5ms/step - loss: 0.0361 - val_loss: 0.1078\n",
            "Epoch 186/200\n",
            "14/14 [==============================] - 0s 5ms/step - loss: 0.0423 - val_loss: 0.1287\n",
            "Epoch 187/200\n",
            "14/14 [==============================] - 0s 4ms/step - loss: 0.0353 - val_loss: 0.1070\n",
            "Epoch 188/200\n",
            "14/14 [==============================] - 0s 5ms/step - loss: 0.0442 - val_loss: 0.1088\n",
            "Epoch 189/200\n",
            "14/14 [==============================] - 0s 5ms/step - loss: 0.0536 - val_loss: 0.1348\n",
            "Epoch 190/200\n",
            "14/14 [==============================] - 0s 4ms/step - loss: 0.0437 - val_loss: 0.1012\n",
            "Epoch 191/200\n",
            "14/14 [==============================] - 0s 4ms/step - loss: 0.0328 - val_loss: 0.1090\n",
            "Epoch 192/200\n",
            "14/14 [==============================] - 0s 6ms/step - loss: 0.0333 - val_loss: 0.1020\n",
            "Epoch 193/200\n",
            "14/14 [==============================] - 0s 5ms/step - loss: 0.0343 - val_loss: 0.1041\n",
            "Epoch 194/200\n",
            "14/14 [==============================] - 0s 5ms/step - loss: 0.0350 - val_loss: 0.1033\n",
            "Epoch 195/200\n",
            "14/14 [==============================] - 0s 6ms/step - loss: 0.0368 - val_loss: 0.1041\n",
            "Epoch 196/200\n",
            "14/14 [==============================] - 0s 6ms/step - loss: 0.0343 - val_loss: 0.1085\n",
            "Epoch 197/200\n",
            "14/14 [==============================] - 0s 6ms/step - loss: 0.0337 - val_loss: 0.1133\n",
            "Epoch 198/200\n",
            "14/14 [==============================] - 0s 6ms/step - loss: 0.0317 - val_loss: 0.1067\n",
            "Epoch 199/200\n",
            "14/14 [==============================] - 0s 5ms/step - loss: 0.0320 - val_loss: 0.1124\n",
            "Epoch 200/200\n",
            "14/14 [==============================] - 0s 5ms/step - loss: 0.0315 - val_loss: 0.1107\n"
          ]
        },
        {
          "output_type": "execute_result",
          "data": {
            "text/plain": [
              "<keras.callbacks.History at 0x7f20cb2e0710>"
            ]
          },
          "metadata": {},
          "execution_count": 128
        }
      ]
    },
    {
      "cell_type": "code",
      "source": [
        "losses = pd.DataFrame(model.history.history)\n",
        "losses.plot()"
      ],
      "metadata": {
        "colab": {
          "base_uri": "https://localhost:8080/",
          "height": 284
        },
        "id": "9mtna1ES1A1o",
        "outputId": "eafa342c-9b9c-4c34-eb4b-7632d4680359"
      },
      "execution_count": null,
      "outputs": [
        {
          "output_type": "execute_result",
          "data": {
            "text/plain": [
              "<matplotlib.axes._subplots.AxesSubplot at 0x7f214a598190>"
            ]
          },
          "metadata": {},
          "execution_count": 129
        },
        {
          "output_type": "display_data",
          "data": {
            "text/plain": [
              "<Figure size 432x288 with 1 Axes>"
            ],
            "image/png": "[encoded data removed]"
          },
          "metadata": {
            "needs_background": "light"
          }
        }
      ]
    },
    {
      "cell_type": "code",
      "source": [
        "from tensorflow.keras.callbacks import EarlyStopping"
      ],
      "metadata": {
        "id": "IH_HIMJo1RFj"
      },
      "execution_count": null,
      "outputs": []
    },
    {
      "cell_type": "code",
      "source": [
        "early_stop = EarlyStopping(monitor='val_loss', mode='min', verbose=1, patience=25)"
      ],
      "metadata": {
        "id": "vhm3gJ651Xp0"
      },
      "execution_count": null,
      "outputs": []
    },
    {
      "cell_type": "code",
      "source": [
        "model = Sequential()\n",
        "model.add(Dense(30, activation='relu'))\n",
        "model.add(Dense(15, activation='relu'))\n",
        "model.add(Dense(1, activation='sigmoid'))\n",
        "model.compile(loss='binary_crossentropy', optimizer='adam')\n",
        "model.fit(x=xtrain, y=ytrain, epochs=200, validation_data= (xtest, yest), callbacks = [early_stop])"
      ],
      "metadata": {
        "colab": {
          "base_uri": "https://localhost:8080/"
        },
        "id": "htYsMLUz1mGl",
        "outputId": "806d68f2-a656-4b7f-c216-35c965285bae"
      },
      "execution_count": null,
      "outputs": [
        {
          "output_type": "stream",
          "name": "stdout",
          "text": [
            "Epoch 1/200\n",
            "14/14 [==============================] - 1s 27ms/step - loss: 0.6821 - val_loss: 0.6575\n",
            "Epoch 2/200\n",
            "14/14 [==============================] - 0s 7ms/step - loss: 0.6461 - val_loss: 0.6239\n",
            "Epoch 3/200\n",
            "14/14 [==============================] - 0s 9ms/step - loss: 0.6121 - val_loss: 0.5859\n",
            "Epoch 4/200\n",
            "14/14 [==============================] - 0s 7ms/step - loss: 0.5746 - val_loss: 0.5443\n",
            "Epoch 5/200\n",
            "14/14 [==============================] - 0s 7ms/step - loss: 0.5298 - val_loss: 0.4909\n",
            "Epoch 6/200\n",
            "14/14 [==============================] - 0s 10ms/step - loss: 0.4808 - val_loss: 0.4400\n",
            "Epoch 7/200\n",
            "14/14 [==============================] - 0s 8ms/step - loss: 0.4278 - val_loss: 0.3870\n",
            "Epoch 8/200\n",
            "14/14 [==============================] - 0s 10ms/step - loss: 0.3755 - val_loss: 0.3360\n",
            "Epoch 9/200\n",
            "14/14 [==============================] - 0s 8ms/step - loss: 0.3312 - val_loss: 0.2937\n",
            "Epoch 10/200\n",
            "14/14 [==============================] - 0s 8ms/step - loss: 0.2967 - val_loss: 0.2604\n",
            "Epoch 11/200\n",
            "14/14 [==============================] - 0s 6ms/step - loss: 0.2673 - val_loss: 0.2348\n",
            "Epoch 12/200\n",
            "14/14 [==============================] - 0s 10ms/step - loss: 0.2533 - val_loss: 0.2167\n",
            "Epoch 13/200\n",
            "14/14 [==============================] - 0s 7ms/step - loss: 0.2288 - val_loss: 0.2024\n",
            "Epoch 14/200\n",
            "14/14 [==============================] - 0s 10ms/step - loss: 0.2177 - val_loss: 0.1909\n",
            "Epoch 15/200\n",
            "14/14 [==============================] - 0s 9ms/step - loss: 0.2043 - val_loss: 0.1767\n",
            "Epoch 16/200\n",
            "14/14 [==============================] - 0s 8ms/step - loss: 0.1918 - val_loss: 0.1692\n",
            "Epoch 17/200\n",
            "14/14 [==============================] - 0s 7ms/step - loss: 0.1798 - val_loss: 0.1577\n",
            "Epoch 18/200\n",
            "14/14 [==============================] - 0s 8ms/step - loss: 0.1717 - val_loss: 0.1482\n",
            "Epoch 19/200\n",
            "14/14 [==============================] - 0s 8ms/step - loss: 0.1611 - val_loss: 0.1442\n",
            "Epoch 20/200\n",
            "14/14 [==============================] - 0s 8ms/step - loss: 0.1542 - val_loss: 0.1337\n",
            "Epoch 21/200\n",
            "14/14 [==============================] - 0s 9ms/step - loss: 0.1465 - val_loss: 0.1271\n",
            "Epoch 22/200\n",
            "14/14 [==============================] - 0s 8ms/step - loss: 0.1396 - val_loss: 0.1251\n",
            "Epoch 23/200\n",
            "14/14 [==============================] - 0s 9ms/step - loss: 0.1346 - val_loss: 0.1171\n",
            "Epoch 24/200\n",
            "14/14 [==============================] - 0s 8ms/step - loss: 0.1275 - val_loss: 0.1161\n",
            "Epoch 25/200\n",
            "14/14 [==============================] - 0s 8ms/step - loss: 0.1220 - val_loss: 0.1072\n",
            "Epoch 26/200\n",
            "14/14 [==============================] - 0s 10ms/step - loss: 0.1172 - val_loss: 0.1051\n",
            "Epoch 27/200\n",
            "14/14 [==============================] - 0s 8ms/step - loss: 0.1132 - val_loss: 0.1002\n",
            "Epoch 28/200\n",
            "14/14 [==============================] - 0s 9ms/step - loss: 0.1085 - val_loss: 0.0969\n",
            "Epoch 29/200\n",
            "14/14 [==============================] - 0s 8ms/step - loss: 0.1041 - val_loss: 0.0941\n",
            "Epoch 30/200\n",
            "14/14 [==============================] - 0s 9ms/step - loss: 0.1009 - val_loss: 0.0901\n",
            "Epoch 31/200\n",
            "14/14 [==============================] - 0s 8ms/step - loss: 0.0987 - val_loss: 0.0899\n",
            "Epoch 32/200\n",
            "14/14 [==============================] - 0s 8ms/step - loss: 0.0942 - val_loss: 0.0861\n",
            "Epoch 33/200\n",
            "14/14 [==============================] - 0s 9ms/step - loss: 0.0924 - val_loss: 0.0845\n",
            "Epoch 34/200\n",
            "14/14 [==============================] - 0s 9ms/step - loss: 0.0883 - val_loss: 0.0843\n",
            "Epoch 35/200\n",
            "14/14 [==============================] - 0s 8ms/step - loss: 0.0888 - val_loss: 0.0862\n",
            "Epoch 36/200\n",
            "14/14 [==============================] - 0s 8ms/step - loss: 0.0875 - val_loss: 0.0754\n",
            "Epoch 37/200\n",
            "14/14 [==============================] - 0s 8ms/step - loss: 0.0858 - val_loss: 0.0825\n",
            "Epoch 38/200\n",
            "14/14 [==============================] - 0s 9ms/step - loss: 0.0806 - val_loss: 0.0752\n",
            "Epoch 39/200\n",
            "14/14 [==============================] - 0s 10ms/step - loss: 0.0787 - val_loss: 0.0738\n",
            "Epoch 40/200\n",
            "14/14 [==============================] - 0s 8ms/step - loss: 0.0762 - val_loss: 0.0742\n",
            "Epoch 41/200\n",
            "14/14 [==============================] - 0s 8ms/step - loss: 0.0753 - val_loss: 0.0700\n",
            "Epoch 42/200\n",
            "14/14 [==============================] - 0s 6ms/step - loss: 0.0750 - val_loss: 0.0773\n",
            "Epoch 43/200\n",
            "14/14 [==============================] - 0s 7ms/step - loss: 0.0723 - val_loss: 0.0705\n",
            "Epoch 44/200\n",
            "14/14 [==============================] - 0s 7ms/step - loss: 0.0725 - val_loss: 0.0788\n",
            "Epoch 45/200\n",
            "14/14 [==============================] - 0s 8ms/step - loss: 0.0700 - val_loss: 0.0658\n",
            "Epoch 46/200\n",
            "14/14 [==============================] - 0s 8ms/step - loss: 0.0682 - val_loss: 0.0716\n",
            "Epoch 47/200\n",
            "14/14 [==============================] - 0s 8ms/step - loss: 0.0668 - val_loss: 0.0691\n",
            "Epoch 48/200\n",
            "14/14 [==============================] - 0s 9ms/step - loss: 0.0656 - val_loss: 0.0655\n",
            "Epoch 49/200\n",
            "14/14 [==============================] - 0s 7ms/step - loss: 0.0652 - val_loss: 0.0729\n",
            "Epoch 50/200\n",
            "14/14 [==============================] - 0s 9ms/step - loss: 0.0658 - val_loss: 0.0635\n",
            "Epoch 51/200\n",
            "14/14 [==============================] - 0s 8ms/step - loss: 0.0625 - val_loss: 0.0722\n",
            "Epoch 52/200\n",
            "14/14 [==============================] - 0s 8ms/step - loss: 0.0626 - val_loss: 0.0625\n",
            "Epoch 53/200\n",
            "14/14 [==============================] - 0s 8ms/step - loss: 0.0673 - val_loss: 0.0598\n",
            "Epoch 54/200\n",
            "14/14 [==============================] - 0s 8ms/step - loss: 0.0669 - val_loss: 0.0645\n",
            "Epoch 55/200\n",
            "14/14 [==============================] - 0s 8ms/step - loss: 0.0616 - val_loss: 0.0687\n",
            "Epoch 56/200\n",
            "14/14 [==============================] - 0s 9ms/step - loss: 0.0597 - val_loss: 0.0614\n",
            "Epoch 57/200\n",
            "14/14 [==============================] - 0s 7ms/step - loss: 0.0586 - val_loss: 0.0621\n",
            "Epoch 58/200\n",
            "14/14 [==============================] - 0s 7ms/step - loss: 0.0572 - val_loss: 0.0691\n",
            "Epoch 59/200\n",
            "14/14 [==============================] - 0s 12ms/step - loss: 0.0570 - val_loss: 0.0630\n",
            "Epoch 60/200\n",
            "14/14 [==============================] - 0s 8ms/step - loss: 0.0611 - val_loss: 0.0711\n",
            "Epoch 61/200\n",
            "14/14 [==============================] - 0s 8ms/step - loss: 0.0645 - val_loss: 0.0583\n",
            "Epoch 62/200\n",
            "14/14 [==============================] - 0s 8ms/step - loss: 0.0594 - val_loss: 0.0720\n",
            "Epoch 63/200\n",
            "14/14 [==============================] - 0s 8ms/step - loss: 0.0577 - val_loss: 0.0605\n",
            "Epoch 64/200\n",
            "14/14 [==============================] - 0s 9ms/step - loss: 0.0557 - val_loss: 0.0671\n",
            "Epoch 65/200\n",
            "14/14 [==============================] - 0s 8ms/step - loss: 0.0541 - val_loss: 0.0620\n",
            "Epoch 66/200\n",
            "14/14 [==============================] - 0s 8ms/step - loss: 0.0550 - val_loss: 0.0666\n",
            "Epoch 67/200\n",
            "14/14 [==============================] - 0s 10ms/step - loss: 0.0531 - val_loss: 0.0654\n",
            "Epoch 68/200\n",
            "14/14 [==============================] - 0s 7ms/step - loss: 0.0520 - val_loss: 0.0642\n",
            "Epoch 69/200\n",
            "14/14 [==============================] - 0s 8ms/step - loss: 0.0521 - val_loss: 0.0666\n",
            "Epoch 70/200\n",
            "14/14 [==============================] - 0s 7ms/step - loss: 0.0537 - val_loss: 0.0718\n",
            "Epoch 71/200\n",
            "14/14 [==============================] - 0s 8ms/step - loss: 0.0526 - val_loss: 0.0628\n",
            "Epoch 72/200\n",
            "14/14 [==============================] - 0s 8ms/step - loss: 0.0505 - val_loss: 0.0710\n",
            "Epoch 73/200\n",
            "14/14 [==============================] - 0s 12ms/step - loss: 0.0545 - val_loss: 0.0642\n",
            "Epoch 74/200\n",
            "14/14 [==============================] - 0s 8ms/step - loss: 0.0586 - val_loss: 0.0635\n",
            "Epoch 75/200\n",
            "14/14 [==============================] - 0s 9ms/step - loss: 0.0555 - val_loss: 0.0708\n",
            "Epoch 76/200\n",
            "14/14 [==============================] - 0s 9ms/step - loss: 0.0540 - val_loss: 0.0599\n",
            "Epoch 77/200\n",
            "14/14 [==============================] - 0s 9ms/step - loss: 0.0507 - val_loss: 0.0692\n",
            "Epoch 78/200\n",
            "14/14 [==============================] - 0s 8ms/step - loss: 0.0486 - val_loss: 0.0666\n",
            "Epoch 79/200\n",
            "14/14 [==============================] - 0s 26ms/step - loss: 0.0500 - val_loss: 0.0634\n",
            "Epoch 80/200\n",
            "14/14 [==============================] - 0s 12ms/step - loss: 0.0486 - val_loss: 0.0703\n",
            "Epoch 81/200\n",
            "14/14 [==============================] - 0s 19ms/step - loss: 0.0475 - val_loss: 0.0657\n",
            "Epoch 82/200\n",
            "14/14 [==============================] - 0s 12ms/step - loss: 0.0500 - val_loss: 0.0636\n",
            "Epoch 83/200\n",
            "14/14 [==============================] - 0s 9ms/step - loss: 0.0494 - val_loss: 0.0738\n",
            "Epoch 84/200\n",
            "14/14 [==============================] - 0s 8ms/step - loss: 0.0479 - val_loss: 0.0702\n",
            "Epoch 85/200\n",
            "14/14 [==============================] - 0s 8ms/step - loss: 0.0469 - val_loss: 0.0708\n",
            "Epoch 86/200\n",
            "14/14 [==============================] - 0s 8ms/step - loss: 0.0462 - val_loss: 0.0670\n",
            "Epoch 86: early stopping\n"
          ]
        },
        {
          "output_type": "execute_result",
          "data": {
            "text/plain": [
              "<keras.callbacks.History at 0x7f214a64e710>"
            ]
          },
          "metadata": {},
          "execution_count": 135
        }
      ]
    },
    {
      "cell_type": "code",
      "source": [
        "model_loss = pd.DataFrame(model.history.history)"
      ],
      "metadata": {
        "id": "Tn8P6xt72B-l"
      },
      "execution_count": null,
      "outputs": []
    },
    {
      "cell_type": "code",
      "source": [
        "model_loss.plot()"
      ],
      "metadata": {
        "colab": {
          "base_uri": "https://localhost:8080/",
          "height": 282
        },
        "id": "sAysidML2HJg",
        "outputId": "c51320fc-cef0-4def-f86c-66cf26c21777"
      },
      "execution_count": null,
      "outputs": [
        {
          "output_type": "execute_result",
          "data": {
            "text/plain": [
              "<matplotlib.axes._subplots.AxesSubplot at 0x7f214a28b410>"
            ]
          },
          "metadata": {},
          "execution_count": 143
        },
        {
          "output_type": "display_data",
          "data": {
            "text/plain": [
              "<Figure size 432x288 with 1 Axes>"
            ],
            "image/png": "[encoded data removed]"
          },
          "metadata": {
            "needs_background": "light"
          }
        }
      ]
    },
    {
      "cell_type": "code",
      "source": [
        "model = Sequential()\n",
        "model.add(Dense(30, activation='relu'))\n",
        "model.add(Dropout(0.5))\n",
        "model.add(Dense(15, activation='relu'))\n",
        "model.add(Dropout(0.5))\n",
        "model.add(Dense(1, activation='sigmoid'))\n",
        "model.compile(loss='binary_crossentropy', optimizer='adam')\n",
        "model.fit(x=xtrain, y=ytrain, epochs=200, validation_data= (xtest, yest), callbacks = [early_stop])"
      ],
      "metadata": {
        "colab": {
          "base_uri": "https://localhost:8080/"
        },
        "id": "Eqnm037h2LxO",
        "outputId": "88f18bf1-4f33-48a6-8b30-6e245416e47f"
      },
      "execution_count": null,
      "outputs": [
        {
          "output_type": "stream",
          "name": "stdout",
          "text": [
            "Epoch 1/200\n",
            "14/14 [==============================] - 2s 28ms/step - loss: 0.7042 - val_loss: 0.6853\n",
            "Epoch 2/200\n",
            "14/14 [==============================] - 0s 7ms/step - loss: 0.6915 - val_loss: 0.6746\n",
            "Epoch 3/200\n",
            "14/14 [==============================] - 0s 9ms/step - loss: 0.6793 - val_loss: 0.6658\n",
            "Epoch 4/200\n",
            "14/14 [==============================] - 0s 8ms/step - loss: 0.6680 - val_loss: 0.6562\n",
            "Epoch 5/200\n",
            "14/14 [==============================] - 0s 8ms/step - loss: 0.6618 - val_loss: 0.6433\n",
            "Epoch 6/200\n",
            "14/14 [==============================] - 0s 7ms/step - loss: 0.6550 - val_loss: 0.6230\n",
            "Epoch 7/200\n",
            "14/14 [==============================] - 0s 8ms/step - loss: 0.6328 - val_loss: 0.6018\n",
            "Epoch 8/200\n",
            "14/14 [==============================] - 0s 10ms/step - loss: 0.6182 - val_loss: 0.5775\n",
            "Epoch 9/200\n",
            "14/14 [==============================] - 0s 8ms/step - loss: 0.6128 - val_loss: 0.5555\n",
            "Epoch 10/200\n",
            "14/14 [==============================] - 0s 11ms/step - loss: 0.5854 - val_loss: 0.5264\n",
            "Epoch 11/200\n",
            "14/14 [==============================] - 0s 10ms/step - loss: 0.5554 - val_loss: 0.4942\n",
            "Epoch 12/200\n",
            "14/14 [==============================] - 0s 9ms/step - loss: 0.5421 - val_loss: 0.4733\n",
            "Epoch 13/200\n",
            "14/14 [==============================] - 0s 7ms/step - loss: 0.5272 - val_loss: 0.4417\n",
            "Epoch 14/200\n",
            "14/14 [==============================] - 0s 11ms/step - loss: 0.5121 - val_loss: 0.4180\n",
            "Epoch 15/200\n",
            "14/14 [==============================] - 0s 21ms/step - loss: 0.4992 - val_loss: 0.3926\n",
            "Epoch 16/200\n",
            "14/14 [==============================] - 0s 18ms/step - loss: 0.4548 - val_loss: 0.3664\n",
            "Epoch 17/200\n",
            "14/14 [==============================] - 0s 10ms/step - loss: 0.4427 - val_loss: 0.3433\n",
            "Epoch 18/200\n",
            "14/14 [==============================] - 0s 5ms/step - loss: 0.4406 - val_loss: 0.3209\n",
            "Epoch 19/200\n",
            "14/14 [==============================] - 0s 5ms/step - loss: 0.4126 - val_loss: 0.2987\n",
            "Epoch 20/200\n",
            "14/14 [==============================] - 0s 6ms/step - loss: 0.4139 - val_loss: 0.2790\n",
            "Epoch 21/200\n",
            "14/14 [==============================] - 0s 4ms/step - loss: 0.3535 - val_loss: 0.2593\n",
            "Epoch 22/200\n",
            "14/14 [==============================] - 0s 4ms/step - loss: 0.3600 - val_loss: 0.2450\n",
            "Epoch 23/200\n",
            "14/14 [==============================] - 0s 5ms/step - loss: 0.3427 - val_loss: 0.2319\n",
            "Epoch 24/200\n",
            "14/14 [==============================] - 0s 5ms/step - loss: 0.3230 - val_loss: 0.2210\n",
            "Epoch 25/200\n",
            "14/14 [==============================] - 0s 5ms/step - loss: 0.3300 - val_loss: 0.2104\n",
            "Epoch 26/200\n",
            "14/14 [==============================] - 0s 6ms/step - loss: 0.3104 - val_loss: 0.2017\n",
            "Epoch 27/200\n",
            "14/14 [==============================] - 0s 6ms/step - loss: 0.2922 - val_loss: 0.1894\n",
            "Epoch 28/200\n",
            "14/14 [==============================] - 0s 5ms/step - loss: 0.2894 - val_loss: 0.1768\n",
            "Epoch 29/200\n",
            "14/14 [==============================] - 0s 6ms/step - loss: 0.2707 - val_loss: 0.1739\n",
            "Epoch 30/200\n",
            "14/14 [==============================] - 0s 5ms/step - loss: 0.2793 - val_loss: 0.1723\n",
            "Epoch 31/200\n",
            "14/14 [==============================] - 0s 6ms/step - loss: 0.2670 - val_loss: 0.1621\n",
            "Epoch 32/200\n",
            "14/14 [==============================] - 0s 6ms/step - loss: 0.2733 - val_loss: 0.1545\n",
            "Epoch 33/200\n",
            "14/14 [==============================] - 0s 6ms/step - loss: 0.2836 - val_loss: 0.1538\n",
            "Epoch 34/200\n",
            "14/14 [==============================] - 0s 4ms/step - loss: 0.2323 - val_loss: 0.1481\n",
            "Epoch 35/200\n",
            "14/14 [==============================] - 0s 5ms/step - loss: 0.2535 - val_loss: 0.1429\n",
            "Epoch 36/200\n",
            "14/14 [==============================] - 0s 5ms/step - loss: 0.2158 - val_loss: 0.1398\n",
            "Epoch 37/200\n",
            "14/14 [==============================] - 0s 5ms/step - loss: 0.2461 - val_loss: 0.1358\n",
            "Epoch 38/200\n",
            "14/14 [==============================] - 0s 5ms/step - loss: 0.2335 - val_loss: 0.1340\n",
            "Epoch 39/200\n",
            "14/14 [==============================] - 0s 5ms/step - loss: 0.2299 - val_loss: 0.1312\n",
            "Epoch 40/200\n",
            "14/14 [==============================] - 0s 5ms/step - loss: 0.2384 - val_loss: 0.1292\n",
            "Epoch 41/200\n",
            "14/14 [==============================] - 0s 6ms/step - loss: 0.2191 - val_loss: 0.1230\n",
            "Epoch 42/200\n",
            "14/14 [==============================] - 0s 6ms/step - loss: 0.2272 - val_loss: 0.1228\n",
            "Epoch 43/200\n",
            "14/14 [==============================] - 0s 5ms/step - loss: 0.2204 - val_loss: 0.1143\n",
            "Epoch 44/200\n",
            "14/14 [==============================] - 0s 5ms/step - loss: 0.1886 - val_loss: 0.1113\n",
            "Epoch 45/200\n",
            "14/14 [==============================] - 0s 5ms/step - loss: 0.2020 - val_loss: 0.1137\n",
            "Epoch 46/200\n",
            "14/14 [==============================] - 0s 4ms/step - loss: 0.1852 - val_loss: 0.1119\n",
            "Epoch 47/200\n",
            "14/14 [==============================] - 0s 4ms/step - loss: 0.1726 - val_loss: 0.0999\n",
            "Epoch 48/200\n",
            "14/14 [==============================] - 0s 5ms/step - loss: 0.1707 - val_loss: 0.0979\n",
            "Epoch 49/200\n",
            "14/14 [==============================] - 0s 6ms/step - loss: 0.1695 - val_loss: 0.1022\n",
            "Epoch 50/200\n",
            "14/14 [==============================] - 0s 5ms/step - loss: 0.1776 - val_loss: 0.1050\n",
            "Epoch 51/200\n",
            "14/14 [==============================] - 0s 6ms/step - loss: 0.1683 - val_loss: 0.0947\n",
            "Epoch 52/200\n",
            "14/14 [==============================] - 0s 5ms/step - loss: 0.1725 - val_loss: 0.0985\n",
            "Epoch 53/200\n",
            "14/14 [==============================] - 0s 6ms/step - loss: 0.1766 - val_loss: 0.0924\n",
            "Epoch 54/200\n",
            "14/14 [==============================] - 0s 6ms/step - loss: 0.1639 - val_loss: 0.0928\n",
            "Epoch 55/200\n",
            "14/14 [==============================] - 0s 5ms/step - loss: 0.1612 - val_loss: 0.1097\n",
            "Epoch 56/200\n",
            "14/14 [==============================] - 0s 5ms/step - loss: 0.1877 - val_loss: 0.0960\n",
            "Epoch 57/200\n",
            "14/14 [==============================] - 0s 6ms/step - loss: 0.1654 - val_loss: 0.0903\n",
            "Epoch 58/200\n",
            "14/14 [==============================] - 0s 5ms/step - loss: 0.1627 - val_loss: 0.0995\n",
            "Epoch 59/200\n",
            "14/14 [==============================] - 0s 4ms/step - loss: 0.1702 - val_loss: 0.0965\n",
            "Epoch 60/200\n",
            "14/14 [==============================] - 0s 5ms/step - loss: 0.1460 - val_loss: 0.0785\n",
            "Epoch 61/200\n",
            "14/14 [==============================] - 0s 4ms/step - loss: 0.1708 - val_loss: 0.0831\n",
            "Epoch 62/200\n",
            "14/14 [==============================] - 0s 5ms/step - loss: 0.1627 - val_loss: 0.0807\n",
            "Epoch 63/200\n",
            "14/14 [==============================] - 0s 5ms/step - loss: 0.1502 - val_loss: 0.0820\n",
            "Epoch 64/200\n",
            "14/14 [==============================] - 0s 4ms/step - loss: 0.1540 - val_loss: 0.0716\n",
            "Epoch 65/200\n",
            "14/14 [==============================] - 0s 5ms/step - loss: 0.1419 - val_loss: 0.0815\n",
            "Epoch 66/200\n",
            "14/14 [==============================] - 0s 5ms/step - loss: 0.1519 - val_loss: 0.0857\n",
            "Epoch 67/200\n",
            "14/14 [==============================] - 0s 6ms/step - loss: 0.1395 - val_loss: 0.0702\n",
            "Epoch 68/200\n",
            "14/14 [==============================] - 0s 5ms/step - loss: 0.1514 - val_loss: 0.0823\n",
            "Epoch 69/200\n",
            "14/14 [==============================] - 0s 5ms/step - loss: 0.1515 - val_loss: 0.0777\n",
            "Epoch 70/200\n",
            "14/14 [==============================] - 0s 5ms/step - loss: 0.1186 - val_loss: 0.0736\n",
            "Epoch 71/200\n",
            "14/14 [==============================] - 0s 6ms/step - loss: 0.1207 - val_loss: 0.0745\n",
            "Epoch 72/200\n",
            "14/14 [==============================] - 0s 4ms/step - loss: 0.1195 - val_loss: 0.0785\n",
            "Epoch 73/200\n",
            "14/14 [==============================] - 0s 4ms/step - loss: 0.1339 - val_loss: 0.0761\n",
            "Epoch 74/200\n",
            "14/14 [==============================] - 0s 5ms/step - loss: 0.1247 - val_loss: 0.0687\n",
            "Epoch 75/200\n",
            "14/14 [==============================] - 0s 5ms/step - loss: 0.1241 - val_loss: 0.0673\n",
            "Epoch 76/200\n",
            "14/14 [==============================] - 0s 5ms/step - loss: 0.1198 - val_loss: 0.0693\n",
            "Epoch 77/200\n",
            "14/14 [==============================] - 0s 6ms/step - loss: 0.1206 - val_loss: 0.0627\n",
            "Epoch 78/200\n",
            "14/14 [==============================] - 0s 6ms/step - loss: 0.1372 - val_loss: 0.0656\n",
            "Epoch 79/200\n",
            "14/14 [==============================] - 0s 5ms/step - loss: 0.1279 - val_loss: 0.0671\n",
            "Epoch 80/200\n",
            "14/14 [==============================] - 0s 4ms/step - loss: 0.1370 - val_loss: 0.0733\n",
            "Epoch 81/200\n",
            "14/14 [==============================] - 0s 5ms/step - loss: 0.1087 - val_loss: 0.0675\n",
            "Epoch 82/200\n",
            "14/14 [==============================] - 0s 6ms/step - loss: 0.1213 - val_loss: 0.0662\n",
            "Epoch 83/200\n",
            "14/14 [==============================] - 0s 5ms/step - loss: 0.1043 - val_loss: 0.0645\n",
            "Epoch 84/200\n",
            "14/14 [==============================] - 0s 6ms/step - loss: 0.1281 - val_loss: 0.0704\n",
            "Epoch 85/200\n",
            "14/14 [==============================] - 0s 5ms/step - loss: 0.1065 - val_loss: 0.0709\n",
            "Epoch 86/200\n",
            "14/14 [==============================] - 0s 6ms/step - loss: 0.1153 - val_loss: 0.0723\n",
            "Epoch 87/200\n",
            "14/14 [==============================] - 0s 4ms/step - loss: 0.1022 - val_loss: 0.0680\n",
            "Epoch 88/200\n",
            "14/14 [==============================] - 0s 4ms/step - loss: 0.1171 - val_loss: 0.0646\n",
            "Epoch 89/200\n",
            "14/14 [==============================] - 0s 5ms/step - loss: 0.1058 - val_loss: 0.0756\n",
            "Epoch 90/200\n",
            "14/14 [==============================] - 0s 4ms/step - loss: 0.1326 - val_loss: 0.0762\n",
            "Epoch 91/200\n",
            "14/14 [==============================] - 0s 4ms/step - loss: 0.1010 - val_loss: 0.0662\n",
            "Epoch 92/200\n",
            "14/14 [==============================] - 0s 5ms/step - loss: 0.1054 - val_loss: 0.0721\n",
            "Epoch 93/200\n",
            "14/14 [==============================] - 0s 5ms/step - loss: 0.1173 - val_loss: 0.0709\n",
            "Epoch 94/200\n",
            "14/14 [==============================] - 0s 6ms/step - loss: 0.1113 - val_loss: 0.0676\n",
            "Epoch 95/200\n",
            "14/14 [==============================] - 0s 6ms/step - loss: 0.1119 - val_loss: 0.0732\n",
            "Epoch 96/200\n",
            "14/14 [==============================] - 0s 6ms/step - loss: 0.0973 - val_loss: 0.0623\n",
            "Epoch 97/200\n",
            "14/14 [==============================] - 0s 5ms/step - loss: 0.1051 - val_loss: 0.0763\n",
            "Epoch 98/200\n",
            "14/14 [==============================] - 0s 4ms/step - loss: 0.1071 - val_loss: 0.0679\n",
            "Epoch 99/200\n",
            "14/14 [==============================] - 0s 6ms/step - loss: 0.0922 - val_loss: 0.0667\n",
            "Epoch 100/200\n",
            "14/14 [==============================] - 0s 4ms/step - loss: 0.0947 - val_loss: 0.0649\n",
            "Epoch 101/200\n",
            "14/14 [==============================] - 0s 5ms/step - loss: 0.0988 - val_loss: 0.0717\n",
            "Epoch 102/200\n",
            "14/14 [==============================] - 0s 6ms/step - loss: 0.0981 - val_loss: 0.0639\n",
            "Epoch 103/200\n",
            "14/14 [==============================] - 0s 5ms/step - loss: 0.0949 - val_loss: 0.0561\n",
            "Epoch 104/200\n",
            "14/14 [==============================] - 0s 5ms/step - loss: 0.0988 - val_loss: 0.0632\n",
            "Epoch 105/200\n",
            "14/14 [==============================] - 0s 4ms/step - loss: 0.1054 - val_loss: 0.0587\n",
            "Epoch 106/200\n",
            "14/14 [==============================] - 0s 5ms/step - loss: 0.0984 - val_loss: 0.0801\n",
            "Epoch 107/200\n",
            "14/14 [==============================] - 0s 4ms/step - loss: 0.1064 - val_loss: 0.0720\n",
            "Epoch 108/200\n",
            "14/14 [==============================] - 0s 5ms/step - loss: 0.1121 - val_loss: 0.0616\n",
            "Epoch 109/200\n",
            "14/14 [==============================] - 0s 6ms/step - loss: 0.0751 - val_loss: 0.0622\n",
            "Epoch 110/200\n",
            "14/14 [==============================] - 0s 5ms/step - loss: 0.0901 - val_loss: 0.0650\n",
            "Epoch 111/200\n",
            "14/14 [==============================] - 0s 5ms/step - loss: 0.1282 - val_loss: 0.0643\n",
            "Epoch 112/200\n",
            "14/14 [==============================] - 0s 4ms/step - loss: 0.1019 - val_loss: 0.0579\n",
            "Epoch 113/200\n",
            "14/14 [==============================] - 0s 4ms/step - loss: 0.1059 - val_loss: 0.0594\n",
            "Epoch 114/200\n",
            "14/14 [==============================] - 0s 4ms/step - loss: 0.0931 - val_loss: 0.0845\n",
            "Epoch 115/200\n",
            "14/14 [==============================] - 0s 6ms/step - loss: 0.0869 - val_loss: 0.0631\n",
            "Epoch 116/200\n",
            "14/14 [==============================] - 0s 4ms/step - loss: 0.0803 - val_loss: 0.0597\n",
            "Epoch 117/200\n",
            "14/14 [==============================] - 0s 4ms/step - loss: 0.0853 - val_loss: 0.0717\n",
            "Epoch 118/200\n",
            "14/14 [==============================] - 0s 5ms/step - loss: 0.0909 - val_loss: 0.0621\n",
            "Epoch 119/200\n",
            "14/14 [==============================] - 0s 5ms/step - loss: 0.1002 - val_loss: 0.0693\n",
            "Epoch 120/200\n",
            "14/14 [==============================] - 0s 5ms/step - loss: 0.1020 - val_loss: 0.0650\n",
            "Epoch 121/200\n",
            "14/14 [==============================] - 0s 6ms/step - loss: 0.0989 - val_loss: 0.0676\n",
            "Epoch 122/200\n",
            "14/14 [==============================] - 0s 6ms/step - loss: 0.0807 - val_loss: 0.0572\n",
            "Epoch 123/200\n",
            "14/14 [==============================] - 0s 4ms/step - loss: 0.0858 - val_loss: 0.0668\n",
            "Epoch 124/200\n",
            "14/14 [==============================] - 0s 5ms/step - loss: 0.1031 - val_loss: 0.0724\n",
            "Epoch 125/200\n",
            "14/14 [==============================] - 0s 5ms/step - loss: 0.0846 - val_loss: 0.0657\n",
            "Epoch 126/200\n",
            "14/14 [==============================] - 0s 5ms/step - loss: 0.0846 - val_loss: 0.0676\n",
            "Epoch 127/200\n",
            "14/14 [==============================] - 0s 4ms/step - loss: 0.0946 - val_loss: 0.0592\n",
            "Epoch 128/200\n",
            "14/14 [==============================] - 0s 5ms/step - loss: 0.0935 - val_loss: 0.0693\n",
            "Epoch 128: early stopping\n"
          ]
        },
        {
          "output_type": "execute_result",
          "data": {
            "text/plain": [
              "<keras.callbacks.History at 0x7f2149d93110>"
            ]
          },
          "metadata": {},
          "execution_count": 141
        }
      ]
    },
    {
      "cell_type": "code",
      "source": [
        "predictions = (model.predict(xtest) > 0.5).astype(\"int32\")"
      ],
      "metadata": {
        "id": "2yx_XRsR3UQd"
      },
      "execution_count": null,
      "outputs": []
    },
    {
      "cell_type": "code",
      "source": [
        "from sklearn.metrics import classification_report, confusion_matrix"
      ],
      "metadata": {
        "id": "-2EGO5_R3t1_"
      },
      "execution_count": null,
      "outputs": []
    },
    {
      "cell_type": "code",
      "source": [
        "print(classification_report(yest, predictions))"
      ],
      "metadata": {
        "colab": {
          "base_uri": "https://localhost:8080/"
        },
        "id": "tSykTadn31pE",
        "outputId": "b413d1a4-7466-416b-87f5-7b82266e9bb8"
      },
      "execution_count": null,
      "outputs": [
        {
          "output_type": "stream",
          "name": "stdout",
          "text": [
            "              precision    recall  f1-score   support\n",
            "\n",
            "           0       1.00      0.96      0.98        50\n",
            "           1       0.98      1.00      0.99        93\n",
            "\n",
            "    accuracy                           0.99       143\n",
            "   macro avg       0.99      0.98      0.98       143\n",
            "weighted avg       0.99      0.99      0.99       143\n",
            "\n"
          ]
        }
      ]
    },
    {
      "cell_type": "code",
      "source": [
        "print(confusion_matrix(yest, predictions))"
      ],
      "metadata": {
        "colab": {
          "base_uri": "https://localhost:8080/"
        },
        "id": "BTWvKt9S38ur",
        "outputId": "7a6d5822-fc0e-4e98-fcc5-892e1075c991"
      },
      "execution_count": null,
      "outputs": [
        {
          "output_type": "stream",
          "name": "stdout",
          "text": [
            "[[48  2]\n",
            " [ 0 93]]\n"
          ]
        }
      ]
    },
    {
      "cell_type": "code",
      "source": [
        "df = pd.read_csv('lending_club_info.csv')"
      ],
      "metadata": {
        "id": "e1XA6mAv4cIv"
      },
      "execution_count": null,
      "outputs": []
    },
    {
      "cell_type": "code",
      "source": [
        "sns.countplot(x='loan_status', data = df)"
      ],
      "metadata": {
        "colab": {
          "base_uri": "https://localhost:8080/",
          "height": 329
        },
        "id": "BAYPJKbF5mkx",
        "outputId": "9986c0fa-43ec-4ec2-f6e1-76205a0edc8c"
      },
      "execution_count": null,
      "outputs": [
        {
          "output_type": "error",
          "ename": "ValueError",
          "evalue": "ignored",
          "traceback": [
            "\u001b[0;31m---------------------------------------------------------------------------\u001b[0m",
            "\u001b[0;31mValueError\u001b[0m                                Traceback (most recent call last)",
            "\u001b[0;32m<ipython-input-159-614bd5cd5f54>\u001b[0m in \u001b[0;36m<module>\u001b[0;34m()\u001b[0m\n\u001b[0;32m----> 1\u001b[0;31m \u001b[0msns\u001b[0m\u001b[0;34m.\u001b[0m\u001b[0mcountplot\u001b[0m\u001b[0;34m(\u001b[0m\u001b[0mx\u001b[0m\u001b[0;34m=\u001b[0m\u001b[0;34m'loan_status'\u001b[0m\u001b[0;34m,\u001b[0m \u001b[0mdata\u001b[0m \u001b[0;34m=\u001b[0m \u001b[0mdf\u001b[0m\u001b[0;34m)\u001b[0m\u001b[0;34m\u001b[0m\u001b[0;34m\u001b[0m\u001b[0m\n\u001b[0m",
            "\u001b[0;32m/usr/local/lib/python3.7/dist-packages/seaborn/_decorators.py\u001b[0m in \u001b[0;36minner_f\u001b[0;34m(*args, **kwargs)\u001b[0m\n\u001b[1;32m     44\u001b[0m             )\n\u001b[1;32m     45\u001b[0m         \u001b[0mkwargs\u001b[0m\u001b[0;34m.\u001b[0m\u001b[0mupdate\u001b[0m\u001b[0;34m(\u001b[0m\u001b[0;34m{\u001b[0m\u001b[0mk\u001b[0m\u001b[0;34m:\u001b[0m \u001b[0marg\u001b[0m \u001b[0;32mfor\u001b[0m \u001b[0mk\u001b[0m\u001b[0;34m,\u001b[0m \u001b[0marg\u001b[0m \u001b[0;32min\u001b[0m \u001b[0mzip\u001b[0m\u001b[0;34m(\u001b[0m\u001b[0msig\u001b[0m\u001b[0;34m.\u001b[0m\u001b[0mparameters\u001b[0m\u001b[0;34m,\u001b[0m \u001b[0margs\u001b[0m\u001b[0;34m)\u001b[0m\u001b[0;34m}\u001b[0m\u001b[0;34m)\u001b[0m\u001b[0;34m\u001b[0m\u001b[0;34m\u001b[0m\u001b[0m\n\u001b[0;32m---> 46\u001b[0;31m         \u001b[0;32mreturn\u001b[0m \u001b[0mf\u001b[0m\u001b[0;34m(\u001b[0m\u001b[0;34m**\u001b[0m\u001b[0mkwargs\u001b[0m\u001b[0;34m)\u001b[0m\u001b[0;34m\u001b[0m\u001b[0;34m\u001b[0m\u001b[0m\n\u001b[0m\u001b[1;32m     47\u001b[0m     \u001b[0;32mreturn\u001b[0m \u001b[0minner_f\u001b[0m\u001b[0;34m\u001b[0m\u001b[0;34m\u001b[0m\u001b[0m\n\u001b[1;32m     48\u001b[0m \u001b[0;34m\u001b[0m\u001b[0m\n",
            "\u001b[0;32m/usr/local/lib/python3.7/dist-packages/seaborn/categorical.py\u001b[0m in \u001b[0;36mcountplot\u001b[0;34m(x, y, hue, data, order, hue_order, orient, color, palette, saturation, dodge, ax, **kwargs)\u001b[0m\n\u001b[1;32m   3600\u001b[0m         \u001b[0mestimator\u001b[0m\u001b[0;34m,\u001b[0m \u001b[0mci\u001b[0m\u001b[0;34m,\u001b[0m \u001b[0mn_boot\u001b[0m\u001b[0;34m,\u001b[0m \u001b[0munits\u001b[0m\u001b[0;34m,\u001b[0m \u001b[0mseed\u001b[0m\u001b[0;34m,\u001b[0m\u001b[0;34m\u001b[0m\u001b[0;34m\u001b[0m\u001b[0m\n\u001b[1;32m   3601\u001b[0m         \u001b[0morient\u001b[0m\u001b[0;34m,\u001b[0m \u001b[0mcolor\u001b[0m\u001b[0;34m,\u001b[0m \u001b[0mpalette\u001b[0m\u001b[0;34m,\u001b[0m \u001b[0msaturation\u001b[0m\u001b[0;34m,\u001b[0m\u001b[0;34m\u001b[0m\u001b[0;34m\u001b[0m\u001b[0m\n\u001b[0;32m-> 3602\u001b[0;31m         \u001b[0merrcolor\u001b[0m\u001b[0;34m,\u001b[0m \u001b[0merrwidth\u001b[0m\u001b[0;34m,\u001b[0m \u001b[0mcapsize\u001b[0m\u001b[0;34m,\u001b[0m \u001b[0mdodge\u001b[0m\u001b[0;34m\u001b[0m\u001b[0;34m\u001b[0m\u001b[0m\n\u001b[0m\u001b[1;32m   3603\u001b[0m     )\n\u001b[1;32m   3604\u001b[0m \u001b[0;34m\u001b[0m\u001b[0m\n",
            "\u001b[0;32m/usr/local/lib/python3.7/dist-packages/seaborn/categorical.py\u001b[0m in \u001b[0;36m__init__\u001b[0;34m(self, x, y, hue, data, order, hue_order, estimator, ci, n_boot, units, seed, orient, color, palette, saturation, errcolor, errwidth, capsize, dodge)\u001b[0m\n\u001b[1;32m   1583\u001b[0m         \u001b[0;34m\"\"\"Initialize the plotter.\"\"\"\u001b[0m\u001b[0;34m\u001b[0m\u001b[0;34m\u001b[0m\u001b[0m\n\u001b[1;32m   1584\u001b[0m         self.establish_variables(x, y, hue, data, orient,\n\u001b[0;32m-> 1585\u001b[0;31m                                  order, hue_order, units)\n\u001b[0m\u001b[1;32m   1586\u001b[0m         \u001b[0mself\u001b[0m\u001b[0;34m.\u001b[0m\u001b[0mestablish_colors\u001b[0m\u001b[0;34m(\u001b[0m\u001b[0mcolor\u001b[0m\u001b[0;34m,\u001b[0m \u001b[0mpalette\u001b[0m\u001b[0;34m,\u001b[0m \u001b[0msaturation\u001b[0m\u001b[0;34m)\u001b[0m\u001b[0;34m\u001b[0m\u001b[0;34m\u001b[0m\u001b[0m\n\u001b[1;32m   1587\u001b[0m         \u001b[0mself\u001b[0m\u001b[0;34m.\u001b[0m\u001b[0mestimate_statistic\u001b[0m\u001b[0;34m(\u001b[0m\u001b[0mestimator\u001b[0m\u001b[0;34m,\u001b[0m \u001b[0mci\u001b[0m\u001b[0;34m,\u001b[0m \u001b[0mn_boot\u001b[0m\u001b[0;34m,\u001b[0m \u001b[0mseed\u001b[0m\u001b[0;34m)\u001b[0m\u001b[0;34m\u001b[0m\u001b[0;34m\u001b[0m\u001b[0m\n",
            "\u001b[0;32m/usr/local/lib/python3.7/dist-packages/seaborn/categorical.py\u001b[0m in \u001b[0;36mestablish_variables\u001b[0;34m(self, x, y, hue, data, orient, order, hue_order, units)\u001b[0m\n\u001b[1;32m    151\u001b[0m                 \u001b[0;32mif\u001b[0m \u001b[0misinstance\u001b[0m\u001b[0;34m(\u001b[0m\u001b[0mvar\u001b[0m\u001b[0;34m,\u001b[0m \u001b[0mstr\u001b[0m\u001b[0;34m)\u001b[0m\u001b[0;34m:\u001b[0m\u001b[0;34m\u001b[0m\u001b[0;34m\u001b[0m\u001b[0m\n\u001b[1;32m    152\u001b[0m                     \u001b[0merr\u001b[0m \u001b[0;34m=\u001b[0m \u001b[0;34m\"Could not interpret input '{}'\"\u001b[0m\u001b[0;34m.\u001b[0m\u001b[0mformat\u001b[0m\u001b[0;34m(\u001b[0m\u001b[0mvar\u001b[0m\u001b[0;34m)\u001b[0m\u001b[0;34m\u001b[0m\u001b[0;34m\u001b[0m\u001b[0m\n\u001b[0;32m--> 153\u001b[0;31m                     \u001b[0;32mraise\u001b[0m \u001b[0mValueError\u001b[0m\u001b[0;34m(\u001b[0m\u001b[0merr\u001b[0m\u001b[0;34m)\u001b[0m\u001b[0;34m\u001b[0m\u001b[0;34m\u001b[0m\u001b[0m\n\u001b[0m\u001b[1;32m    154\u001b[0m \u001b[0;34m\u001b[0m\u001b[0m\n\u001b[1;32m    155\u001b[0m             \u001b[0;31m# Figure out the plotting orientation\u001b[0m\u001b[0;34m\u001b[0m\u001b[0;34m\u001b[0m\u001b[0;34m\u001b[0m\u001b[0m\n",
            "\u001b[0;31mValueError\u001b[0m: Could not interpret input 'loan_status'"
          ]
        }
      ]
    },
    {
      "cell_type": "code",
      "source": [
        "df"
      ],
      "metadata": {
        "colab": {
          "base_uri": "https://localhost:8080/",
          "height": 927
        },
        "id": "_cPiaOs953gA",
        "outputId": "c366c07f-ea04-43d9-c7ce-8c202c53a321"
      },
      "execution_count": null,
      "outputs": [
        {
          "output_type": "execute_result",
          "data": {
            "text/plain": [
              "             LoanStatNew                                        Description\n",
              "0              loan_amnt  The listed amount of the loan applied for by t...\n",
              "1                   term  The number of payments on the loan. Values are...\n",
              "2               int_rate                          Interest Rate on the loan\n",
              "3            installment  The monthly payment owed by the borrower if th...\n",
              "4                  grade                             LC assigned loan grade\n",
              "5              sub_grade                          LC assigned loan subgrade\n",
              "6              emp_title  The job title supplied by the Borrower when ap...\n",
              "7             emp_length  Employment length in years. Possible values ar...\n",
              "8         home_ownership  The home ownership status provided by the borr...\n",
              "9             annual_inc  The self-reported annual income provided by th...\n",
              "10   verification_status  Indicates if income was verified by LC, not ve...\n",
              "11               issue_d                The month which the loan was funded\n",
              "12           loan_status                         Current status of the loan\n",
              "13               purpose  A category provided by the borrower for the lo...\n",
              "14                 title            The loan title provided by the borrower\n",
              "15              zip_code  The first 3 numbers of the zip code provided b...\n",
              "16            addr_state  The state provided by the borrower in the loan...\n",
              "17                   dti  A ratio calculated using the borrower’s total ...\n",
              "18      earliest_cr_line  The month the borrower's earliest reported cre...\n",
              "19              open_acc  The number of open credit lines in the borrowe...\n",
              "20               pub_rec                Number of derogatory public records\n",
              "21             revol_bal                     Total credit revolving balance\n",
              "22            revol_util  Revolving line utilization rate, or the amount...\n",
              "23             total_acc  The total number of credit lines currently in ...\n",
              "24   initial_list_status  The initial listing status of the loan. Possib...\n",
              "25      application_type  Indicates whether the loan is an individual ap...\n",
              "26              mort_acc                       Number of mortgage accounts.\n",
              "27  pub_rec_bankruptcies               Number of public record bankruptcies"
            ],
            "text/html": [
              "\n",
              "  <div id=\"df-756e3c62-b133-4708-9495-ddc0200c2022\">\n",
              "    <div class=\"colab-df-container\">\n",
              "      <div>\n",
              "<style scoped>\n",
              "    .dataframe tbody tr th:only-of-type {\n",
              "        vertical-align: middle;\n",
              "    }\n",
              "\n",
              "    .dataframe tbody tr th {\n",
              "        vertical-align: top;\n",
              "    }\n",
              "\n",
              "    .dataframe thead th {\n",
              "        text-align: right;\n",
              "    }\n",
              "</style>\n",
              "<table border=\"1\" class=\"dataframe\">\n",
              "  <thead>\n",
              "    <tr style=\"text-align: right;\">\n",
              "      <th></th>\n",
              "      <th>LoanStatNew</th>\n",
              "      <th>Description</th>\n",
              "    </tr>\n",
              "  </thead>\n",
              "  <tbody>\n",
              "    <tr>\n",
              "      <th>0</th>\n",
              "      <td>loan_amnt</td>\n",
              "      <td>The listed amount of the loan applied for by t...</td>\n",
              "    </tr>\n",
              "    <tr>\n",
              "      <th>1</th>\n",
              "      <td>term</td>\n",
              "      <td>The number of payments on the loan. Values are...</td>\n",
              "    </tr>\n",
              "    <tr>\n",
              "      <th>2</th>\n",
              "      <td>int_rate</td>\n",
              "      <td>Interest Rate on the loan</td>\n",
              "    </tr>\n",
              "    <tr>\n",
              "      <th>3</th>\n",
              "      <td>installment</td>\n",
              "      <td>The monthly payment owed by the borrower if th...</td>\n",
              "    </tr>\n",
              "    <tr>\n",
              "      <th>4</th>\n",
              "      <td>grade</td>\n",
              "      <td>LC assigned loan grade</td>\n",
              "    </tr>\n",
              "    <tr>\n",
              "      <th>5</th>\n",
              "      <td>sub_grade</td>\n",
              "      <td>LC assigned loan subgrade</td>\n",
              "    </tr>\n",
              "    <tr>\n",
              "      <th>6</th>\n",
              "      <td>emp_title</td>\n",
              "      <td>The job title supplied by the Borrower when ap...</td>\n",
              "    </tr>\n",
              "    <tr>\n",
              "      <th>7</th>\n",
              "      <td>emp_length</td>\n",
              "      <td>Employment length in years. Possible values ar...</td>\n",
              "    </tr>\n",
              "    <tr>\n",
              "      <th>8</th>\n",
              "      <td>home_ownership</td>\n",
              "      <td>The home ownership status provided by the borr...</td>\n",
              "    </tr>\n",
              "    <tr>\n",
              "      <th>9</th>\n",
              "      <td>annual_inc</td>\n",
              "      <td>The self-reported annual income provided by th...</td>\n",
              "    </tr>\n",
              "    <tr>\n",
              "      <th>10</th>\n",
              "      <td>verification_status</td>\n",
              "      <td>Indicates if income was verified by LC, not ve...</td>\n",
              "    </tr>\n",
              "    <tr>\n",
              "      <th>11</th>\n",
              "      <td>issue_d</td>\n",
              "      <td>The month which the loan was funded</td>\n",
              "    </tr>\n",
              "    <tr>\n",
              "      <th>12</th>\n",
              "      <td>loan_status</td>\n",
              "      <td>Current status of the loan</td>\n",
              "    </tr>\n",
              "    <tr>\n",
              "      <th>13</th>\n",
              "      <td>purpose</td>\n",
              "      <td>A category provided by the borrower for the lo...</td>\n",
              "    </tr>\n",
              "    <tr>\n",
              "      <th>14</th>\n",
              "      <td>title</td>\n",
              "      <td>The loan title provided by the borrower</td>\n",
              "    </tr>\n",
              "    <tr>\n",
              "      <th>15</th>\n",
              "      <td>zip_code</td>\n",
              "      <td>The first 3 numbers of the zip code provided b...</td>\n",
              "    </tr>\n",
              "    <tr>\n",
              "      <th>16</th>\n",
              "      <td>addr_state</td>\n",
              "      <td>The state provided by the borrower in the loan...</td>\n",
              "    </tr>\n",
              "    <tr>\n",
              "      <th>17</th>\n",
              "      <td>dti</td>\n",
              "      <td>A ratio calculated using the borrower’s total ...</td>\n",
              "    </tr>\n",
              "    <tr>\n",
              "      <th>18</th>\n",
              "      <td>earliest_cr_line</td>\n",
              "      <td>The month the borrower's earliest reported cre...</td>\n",
              "    </tr>\n",
              "    <tr>\n",
              "      <th>19</th>\n",
              "      <td>open_acc</td>\n",
              "      <td>The number of open credit lines in the borrowe...</td>\n",
              "    </tr>\n",
              "    <tr>\n",
              "      <th>20</th>\n",
              "      <td>pub_rec</td>\n",
              "      <td>Number of derogatory public records</td>\n",
              "    </tr>\n",
              "    <tr>\n",
              "      <th>21</th>\n",
              "      <td>revol_bal</td>\n",
              "      <td>Total credit revolving balance</td>\n",
              "    </tr>\n",
              "    <tr>\n",
              "      <th>22</th>\n",
              "      <td>revol_util</td>\n",
              "      <td>Revolving line utilization rate, or the amount...</td>\n",
              "    </tr>\n",
              "    <tr>\n",
              "      <th>23</th>\n",
              "      <td>total_acc</td>\n",
              "      <td>The total number of credit lines currently in ...</td>\n",
              "    </tr>\n",
              "    <tr>\n",
              "      <th>24</th>\n",
              "      <td>initial_list_status</td>\n",
              "      <td>The initial listing status of the loan. Possib...</td>\n",
              "    </tr>\n",
              "    <tr>\n",
              "      <th>25</th>\n",
              "      <td>application_type</td>\n",
              "      <td>Indicates whether the loan is an individual ap...</td>\n",
              "    </tr>\n",
              "    <tr>\n",
              "      <th>26</th>\n",
              "      <td>mort_acc</td>\n",
              "      <td>Number of mortgage accounts.</td>\n",
              "    </tr>\n",
              "    <tr>\n",
              "      <th>27</th>\n",
              "      <td>pub_rec_bankruptcies</td>\n",
              "      <td>Number of public record bankruptcies</td>\n",
              "    </tr>\n",
              "  </tbody>\n",
              "</table>\n",
              "</div>\n",
              "      <button class=\"colab-df-convert\" onclick=\"convertToInteractive('df-756e3c62-b133-4708-9495-ddc0200c2022')\"\n",
              "              title=\"Convert this dataframe to an interactive table.\"\n",
              "              style=\"display:none;\">\n",
              "        \n",
              "  <svg xmlns=\"http://www.w3.org/2000/svg\" height=\"24px\"viewBox=\"0 0 24 24\"\n",
              "       width=\"24px\">\n",
              "    <path d=\"M0 0h24v24H0V0z\" fill=\"none\"/>\n",
              "    <path d=\"M18.56 5.44l.94 2.06.94-2.06 2.06-.94-2.06-.94-.94-2.06-.94 2.06-2.06.94zm-11 1L8.5 8.5l.94-2.06 2.06-.94-2.06-.94L8.5 2.5l-.94 2.06-2.06.94zm10 10l.94 2.06.94-2.06 2.06-.94-2.06-.94-.94-2.06-.94 2.06-2.06.94z\"/><path d=\"M17.41 7.96l-1.37-1.37c-.4-.4-.92-.59-1.43-.59-.52 0-1.04.2-1.43.59L10.3 9.45l-7.72 7.72c-.78.78-.78 2.05 0 2.83L4 21.41c.39.39.9.59 1.41.59.51 0 1.02-.2 1.41-.59l7.78-7.78 2.81-2.81c.8-.78.8-2.07 0-2.86zM5.41 20L4 18.59l7.72-7.72 1.47 1.35L5.41 20z\"/>\n",
              "  </svg>\n",
              "      </button>\n",
              "      \n",
              "  <style>\n",
              "    .colab-df-container {\n",
              "      display:flex;\n",
              "      flex-wrap:wrap;\n",
              "      gap: 12px;\n",
              "    }\n",
              "\n",
              "    .colab-df-convert {\n",
              "      background-color: #E8F0FE;\n",
              "      border: none;\n",
              "      border-radius: 50%;\n",
              "      cursor: pointer;\n",
              "      display: none;\n",
              "      fill: #1967D2;\n",
              "      height: 32px;\n",
              "      padding: 0 0 0 0;\n",
              "      width: 32px;\n",
              "    }\n",
              "\n",
              "    .colab-df-convert:hover {\n",
              "      background-color: #E2EBFA;\n",
              "      box-shadow: 0px 1px 2px rgba(60, 64, 67, 0.3), 0px 1px 3px 1px rgba(60, 64, 67, 0.15);\n",
              "      fill: #174EA6;\n",
              "    }\n",
              "\n",
              "    [theme=dark] .colab-df-convert {\n",
              "      background-color: #3B4455;\n",
              "      fill: #D2E3FC;\n",
              "    }\n",
              "\n",
              "    [theme=dark] .colab-df-convert:hover {\n",
              "      background-color: #434B5C;\n",
              "      box-shadow: 0px 1px 3px 1px rgba(0, 0, 0, 0.15);\n",
              "      filter: drop-shadow(0px 1px 2px rgba(0, 0, 0, 0.3));\n",
              "      fill: #FFFFFF;\n",
              "    }\n",
              "  </style>\n",
              "\n",
              "      <script>\n",
              "        const buttonEl =\n",
              "          document.querySelector('#df-756e3c62-b133-4708-9495-ddc0200c2022 button.colab-df-convert');\n",
              "        buttonEl.style.display =\n",
              "          google.colab.kernel.accessAllowed ? 'block' : 'none';\n",
              "\n",
              "        async function convertToInteractive(key) {\n",
              "          const element = document.querySelector('#df-756e3c62-b133-4708-9495-ddc0200c2022');\n",
              "          const dataTable =\n",
              "            await google.colab.kernel.invokeFunction('convertToInteractive',\n",
              "                                                     [key], {});\n",
              "          if (!dataTable) return;\n",
              "\n",
              "          const docLinkHtml = 'Like what you see? Visit the ' +\n",
              "            '<a target=\"_blank\" href=https://colab.research.google.com/notebooks/data_table.ipynb>data table notebook</a>'\n",
              "            + ' to learn more about interactive tables.';\n",
              "          element.innerHTML = '';\n",
              "          dataTable['output_type'] = 'display_data';\n",
              "          await google.colab.output.renderOutput(dataTable, element);\n",
              "          const docLink = document.createElement('div');\n",
              "          docLink.innerHTML = docLinkHtml;\n",
              "          element.appendChild(docLink);\n",
              "        }\n",
              "      </script>\n",
              "    </div>\n",
              "  </div>\n",
              "  "
            ]
          },
          "metadata": {},
          "execution_count": 160
        }
      ]
    },
    {
      "cell_type": "code",
      "source": [
        "from tensorflow.keras.datasets import mnist"
      ],
      "metadata": {
        "id": "IiJLrViaML-j"
      },
      "execution_count": null,
      "outputs": []
    },
    {
      "cell_type": "code",
      "source": [
        "(x_train,y_train), (x_test, y_test) = mnist.load_data()"
      ],
      "metadata": {
        "colab": {
          "base_uri": "https://localhost:8080/"
        },
        "id": "Xsj0Gl3OMT-w",
        "outputId": "086570e4-9e4a-4eac-ca29-6663cc22dd95"
      },
      "execution_count": null,
      "outputs": [
        {
          "output_type": "stream",
          "name": "stdout",
          "text": [
            "Downloading data from https://storage.googleapis.com/tensorflow/tf-keras-datasets/mnist.npz\n",
            "11493376/11490434 [==============================] - 0s 0us/step\n",
            "11501568/11490434 [==============================] - 0s 0us/step\n"
          ]
        }
      ]
    },
    {
      "cell_type": "code",
      "source": [
        "x_train.shape"
      ],
      "metadata": {
        "colab": {
          "base_uri": "https://localhost:8080/"
        },
        "id": "Ec7DYfggMUFo",
        "outputId": "263f8f5f-fa46-4fc5-b77c-f0b7427aa29d"
      },
      "execution_count": null,
      "outputs": [
        {
          "output_type": "execute_result",
          "data": {
            "text/plain": [
              "(60000, 28, 28)"
            ]
          },
          "metadata": {},
          "execution_count": 164
        }
      ]
    },
    {
      "cell_type": "code",
      "source": [
        "plt.imshow(x_train[100])"
      ],
      "metadata": {
        "colab": {
          "base_uri": "https://localhost:8080/",
          "height": 282
        },
        "id": "OJpz3kvEMmGf",
        "outputId": "fcc4915b-505e-43b7-c8c0-1bdc5313cccd"
      },
      "execution_count": null,
      "outputs": [
        {
          "output_type": "execute_result",
          "data": {
            "text/plain": [
              "<matplotlib.image.AxesImage at 0x7f213ccfd650>"
            ]
          },
          "metadata": {},
          "execution_count": 167
        },
        {
          "output_type": "display_data",
          "data": {
            "text/plain": [
              "<Figure size 432x288 with 1 Axes>"
            ],
            "image/png": "[encoded data removed]"
          },
          "metadata": {
            "needs_background": "light"
          }
        }
      ]
    },
    {
      "cell_type": "code",
      "source": [
        "from tensorflow.keras.utils import to_categorical"
      ],
      "metadata": {
        "id": "kQUUpR-eM5YE"
      },
      "execution_count": null,
      "outputs": []
    },
    {
      "cell_type": "code",
      "source": [
        "y_cat_test = to_categorical(y_test)"
      ],
      "metadata": {
        "id": "Ft7Nrc_JNPEI"
      },
      "execution_count": null,
      "outputs": []
    },
    {
      "cell_type": "code",
      "source": [
        "x_train = x_train.reshape(60000,28,28,1)"
      ],
      "metadata": {
        "id": "KdXpicCkNSwc"
      },
      "execution_count": null,
      "outputs": []
    },
    {
      "cell_type": "code",
      "source": [
        "x_test = x_test.reshape(60000,28,28,1)"
      ],
      "metadata": {
        "colab": {
          "base_uri": "https://localhost:8080/",
          "height": 166
        },
        "id": "Gvqjp2ozOANt",
        "outputId": "a75aaa35-e5bb-4623-b588-835cb4ffaa74"
      },
      "execution_count": null,
      "outputs": [
        {
          "output_type": "error",
          "ename": "ValueError",
          "evalue": "ignored",
          "traceback": [
            "\u001b[0;31m---------------------------------------------------------------------------\u001b[0m",
            "\u001b[0;31mValueError\u001b[0m                                Traceback (most recent call last)",
            "\u001b[0;32m<ipython-input-178-a0f9179df01d>\u001b[0m in \u001b[0;36m<module>\u001b[0;34m()\u001b[0m\n\u001b[0;32m----> 1\u001b[0;31m \u001b[0mx_test\u001b[0m \u001b[0;34m=\u001b[0m \u001b[0mx_test\u001b[0m\u001b[0;34m.\u001b[0m\u001b[0mreshape\u001b[0m\u001b[0;34m(\u001b[0m\u001b[0;36m60000\u001b[0m\u001b[0;34m,\u001b[0m\u001b[0;36m28\u001b[0m\u001b[0;34m,\u001b[0m\u001b[0;36m28\u001b[0m\u001b[0;34m,\u001b[0m\u001b[0;36m1\u001b[0m\u001b[0;34m)\u001b[0m\u001b[0;34m\u001b[0m\u001b[0;34m\u001b[0m\u001b[0m\n\u001b[0m",
            "\u001b[0;31mValueError\u001b[0m: cannot reshape array of size 7840000 into shape (60000,28,28,1)"
          ]
        }
      ]
    },
    {
      "cell_type": "code",
      "source": [
        "from tensorflow.keras.models import Sequential\n",
        "from tensorflow.keras.layers import Dense, Conv2D, MaxPool2D, Flatten"
      ],
      "metadata": {
        "id": "FAjLD0ZEOOjf"
      },
      "execution_count": null,
      "outputs": []
    },
    {
      "cell_type": "code",
      "source": [
        "model = Sequential()\n",
        "\n",
        "model.add(Conv2(filter s=32, kernel_size = (4,4)))"
      ],
      "metadata": {
        "id": "98TuZhlkOZrD"
      },
      "execution_count": null,
      "outputs": []
    }
  ]
}